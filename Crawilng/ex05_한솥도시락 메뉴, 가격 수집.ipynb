{
 "cells": [
  {
   "cell_type": "code",
   "execution_count": 1,
   "id": "65f8399b",
   "metadata": {
    "ExecuteTime": {
     "end_time": "2023-10-11T05:14:55.100991Z",
     "start_time": "2023-10-11T05:14:54.483356Z"
    }
   },
   "outputs": [],
   "source": [
    "# 라이브러리불러오기\n",
    "# 웹드라이버 (브라우저 역할)\n",
    "from selenium import webdriver as wb\n",
    "from selenium.webdriver.common.by import By\n",
    "from selenium.webdriver.common.keys import Keys\n",
    "import pandas as pd"
   ]
  },
  {
   "cell_type": "code",
   "execution_count": 3,
   "id": "9b4629bb",
   "metadata": {
    "ExecuteTime": {
     "end_time": "2023-10-11T05:15:17.120210Z",
     "start_time": "2023-10-11T05:15:14.048789Z"
    }
   },
   "outputs": [],
   "source": [
    "# 한솥페이지 열기\n",
    "driver = wb.Chrome()\n",
    "driver.get('https://www.hsd.co.kr/menu/menu_list')"
   ]
  },
  {
   "cell_type": "code",
   "execution_count": 11,
   "id": "766994fb",
   "metadata": {
    "ExecuteTime": {
     "end_time": "2023-10-11T00:34:31.558041Z",
     "start_time": "2023-10-11T00:34:31.539256Z"
    }
   },
   "outputs": [],
   "source": [
    "# 1. 한솥페이지 첫번째 메뉴 이름 가져오기!\n",
    "driver.find_element(By.CLASS_NAME,'h.fz_03')\n",
    "# 구분자 By > CLASS_NAME으로 상용할때는 태그, 기호 작성 xx"
   ]
  },
  {
   "cell_type": "code",
   "execution_count": 13,
   "id": "4f3ea41e",
   "metadata": {
    "ExecuteTime": {
     "end_time": "2023-10-11T00:34:52.090040Z",
     "start_time": "2023-10-11T00:34:52.057048Z"
    }
   },
   "outputs": [
    {
     "data": {
      "text/plain": [
       "'유린기'"
      ]
     },
     "execution_count": 13,
     "metadata": {},
     "output_type": "execute_result"
    }
   ],
   "source": [
    "# 구분자 By CSS_SELECTOR 로 사용할때는 (태그명 구분자기호 구분자명) 작성!\n",
    "driver.find_element(By.CSS_SELECTOR,'#menuList_508 > div > div.item-text > h4').text"
   ]
  },
  {
   "cell_type": "code",
   "execution_count": 16,
   "id": "93541b55",
   "metadata": {
    "ExecuteTime": {
     "end_time": "2023-10-11T00:37:54.335637Z",
     "start_time": "2023-10-11T00:37:54.294679Z"
    }
   },
   "outputs": [
    {
     "data": {
      "text/plain": [
       "'유린기'"
      ]
     },
     "execution_count": 16,
     "metadata": {},
     "output_type": "execute_result"
    }
   ],
   "source": [
    "# find_elements 사용해보기\n",
    "driver.find_elements(By.CSS_SELECTOR,'h4.h.fz_03')[0].text\n",
    "# elements는 리시트 형태로 데이터를 가져오기때문에 곤텐츠 추출시 반드시 인덱싱 "
   ]
  },
  {
   "cell_type": "code",
   "execution_count": 44,
   "id": "0d6381ec",
   "metadata": {
    "ExecuteTime": {
     "end_time": "2023-10-11T01:22:12.791148Z",
     "start_time": "2023-10-11T01:22:12.770174Z"
    },
    "collapsed": true
   },
   "outputs": [
    {
     "data": {
      "text/plain": [
       "[<selenium.webdriver.remote.webelement.WebElement (session=\"52901fdd269a80fc8d2c4b9fe4ef8afb\", element=\"E4627282F89B1E00957D635B2B8214E8_element_473\")>,\n",
       " <selenium.webdriver.remote.webelement.WebElement (session=\"52901fdd269a80fc8d2c4b9fe4ef8afb\", element=\"E4627282F89B1E00957D635B2B8214E8_element_474\")>,\n",
       " <selenium.webdriver.remote.webelement.WebElement (session=\"52901fdd269a80fc8d2c4b9fe4ef8afb\", element=\"E4627282F89B1E00957D635B2B8214E8_element_475\")>,\n",
       " <selenium.webdriver.remote.webelement.WebElement (session=\"52901fdd269a80fc8d2c4b9fe4ef8afb\", element=\"E4627282F89B1E00957D635B2B8214E8_element_476\")>,\n",
       " <selenium.webdriver.remote.webelement.WebElement (session=\"52901fdd269a80fc8d2c4b9fe4ef8afb\", element=\"E4627282F89B1E00957D635B2B8214E8_element_477\")>,\n",
       " <selenium.webdriver.remote.webelement.WebElement (session=\"52901fdd269a80fc8d2c4b9fe4ef8afb\", element=\"E4627282F89B1E00957D635B2B8214E8_element_478\")>,\n",
       " <selenium.webdriver.remote.webelement.WebElement (session=\"52901fdd269a80fc8d2c4b9fe4ef8afb\", element=\"E4627282F89B1E00957D635B2B8214E8_element_479\")>,\n",
       " <selenium.webdriver.remote.webelement.WebElement (session=\"52901fdd269a80fc8d2c4b9fe4ef8afb\", element=\"E4627282F89B1E00957D635B2B8214E8_element_480\")>,\n",
       " <selenium.webdriver.remote.webelement.WebElement (session=\"52901fdd269a80fc8d2c4b9fe4ef8afb\", element=\"E4627282F89B1E00957D635B2B8214E8_element_1213\")>,\n",
       " <selenium.webdriver.remote.webelement.WebElement (session=\"52901fdd269a80fc8d2c4b9fe4ef8afb\", element=\"E4627282F89B1E00957D635B2B8214E8_element_1214\")>,\n",
       " <selenium.webdriver.remote.webelement.WebElement (session=\"52901fdd269a80fc8d2c4b9fe4ef8afb\", element=\"E4627282F89B1E00957D635B2B8214E8_element_1215\")>,\n",
       " <selenium.webdriver.remote.webelement.WebElement (session=\"52901fdd269a80fc8d2c4b9fe4ef8afb\", element=\"E4627282F89B1E00957D635B2B8214E8_element_1216\")>,\n",
       " <selenium.webdriver.remote.webelement.WebElement (session=\"52901fdd269a80fc8d2c4b9fe4ef8afb\", element=\"E4627282F89B1E00957D635B2B8214E8_element_1217\")>,\n",
       " <selenium.webdriver.remote.webelement.WebElement (session=\"52901fdd269a80fc8d2c4b9fe4ef8afb\", element=\"E4627282F89B1E00957D635B2B8214E8_element_1218\")>,\n",
       " <selenium.webdriver.remote.webelement.WebElement (session=\"52901fdd269a80fc8d2c4b9fe4ef8afb\", element=\"E4627282F89B1E00957D635B2B8214E8_element_1219\")>,\n",
       " <selenium.webdriver.remote.webelement.WebElement (session=\"52901fdd269a80fc8d2c4b9fe4ef8afb\", element=\"E4627282F89B1E00957D635B2B8214E8_element_1220\")>,\n",
       " <selenium.webdriver.remote.webelement.WebElement (session=\"52901fdd269a80fc8d2c4b9fe4ef8afb\", element=\"E4627282F89B1E00957D635B2B8214E8_element_1221\")>,\n",
       " <selenium.webdriver.remote.webelement.WebElement (session=\"52901fdd269a80fc8d2c4b9fe4ef8afb\", element=\"E4627282F89B1E00957D635B2B8214E8_element_1222\")>,\n",
       " <selenium.webdriver.remote.webelement.WebElement (session=\"52901fdd269a80fc8d2c4b9fe4ef8afb\", element=\"E4627282F89B1E00957D635B2B8214E8_element_1223\")>,\n",
       " <selenium.webdriver.remote.webelement.WebElement (session=\"52901fdd269a80fc8d2c4b9fe4ef8afb\", element=\"E4627282F89B1E00957D635B2B8214E8_element_1224\")>,\n",
       " <selenium.webdriver.remote.webelement.WebElement (session=\"52901fdd269a80fc8d2c4b9fe4ef8afb\", element=\"E4627282F89B1E00957D635B2B8214E8_element_1225\")>,\n",
       " <selenium.webdriver.remote.webelement.WebElement (session=\"52901fdd269a80fc8d2c4b9fe4ef8afb\", element=\"E4627282F89B1E00957D635B2B8214E8_element_1226\")>,\n",
       " <selenium.webdriver.remote.webelement.WebElement (session=\"52901fdd269a80fc8d2c4b9fe4ef8afb\", element=\"E4627282F89B1E00957D635B2B8214E8_element_1227\")>,\n",
       " <selenium.webdriver.remote.webelement.WebElement (session=\"52901fdd269a80fc8d2c4b9fe4ef8afb\", element=\"E4627282F89B1E00957D635B2B8214E8_element_1228\")>,\n",
       " <selenium.webdriver.remote.webelement.WebElement (session=\"52901fdd269a80fc8d2c4b9fe4ef8afb\", element=\"E4627282F89B1E00957D635B2B8214E8_element_1229\")>,\n",
       " <selenium.webdriver.remote.webelement.WebElement (session=\"52901fdd269a80fc8d2c4b9fe4ef8afb\", element=\"E4627282F89B1E00957D635B2B8214E8_element_1230\")>,\n",
       " <selenium.webdriver.remote.webelement.WebElement (session=\"52901fdd269a80fc8d2c4b9fe4ef8afb\", element=\"E4627282F89B1E00957D635B2B8214E8_element_1231\")>,\n",
       " <selenium.webdriver.remote.webelement.WebElement (session=\"52901fdd269a80fc8d2c4b9fe4ef8afb\", element=\"E4627282F89B1E00957D635B2B8214E8_element_1232\")>,\n",
       " <selenium.webdriver.remote.webelement.WebElement (session=\"52901fdd269a80fc8d2c4b9fe4ef8afb\", element=\"E4627282F89B1E00957D635B2B8214E8_element_1233\")>,\n",
       " <selenium.webdriver.remote.webelement.WebElement (session=\"52901fdd269a80fc8d2c4b9fe4ef8afb\", element=\"E4627282F89B1E00957D635B2B8214E8_element_1234\")>,\n",
       " <selenium.webdriver.remote.webelement.WebElement (session=\"52901fdd269a80fc8d2c4b9fe4ef8afb\", element=\"E4627282F89B1E00957D635B2B8214E8_element_1235\")>,\n",
       " <selenium.webdriver.remote.webelement.WebElement (session=\"52901fdd269a80fc8d2c4b9fe4ef8afb\", element=\"E4627282F89B1E00957D635B2B8214E8_element_1236\")>,\n",
       " <selenium.webdriver.remote.webelement.WebElement (session=\"52901fdd269a80fc8d2c4b9fe4ef8afb\", element=\"E4627282F89B1E00957D635B2B8214E8_element_1237\")>,\n",
       " <selenium.webdriver.remote.webelement.WebElement (session=\"52901fdd269a80fc8d2c4b9fe4ef8afb\", element=\"E4627282F89B1E00957D635B2B8214E8_element_1238\")>,\n",
       " <selenium.webdriver.remote.webelement.WebElement (session=\"52901fdd269a80fc8d2c4b9fe4ef8afb\", element=\"E4627282F89B1E00957D635B2B8214E8_element_1239\")>,\n",
       " <selenium.webdriver.remote.webelement.WebElement (session=\"52901fdd269a80fc8d2c4b9fe4ef8afb\", element=\"E4627282F89B1E00957D635B2B8214E8_element_1240\")>,\n",
       " <selenium.webdriver.remote.webelement.WebElement (session=\"52901fdd269a80fc8d2c4b9fe4ef8afb\", element=\"E4627282F89B1E00957D635B2B8214E8_element_1241\")>,\n",
       " <selenium.webdriver.remote.webelement.WebElement (session=\"52901fdd269a80fc8d2c4b9fe4ef8afb\", element=\"E4627282F89B1E00957D635B2B8214E8_element_1242\")>,\n",
       " <selenium.webdriver.remote.webelement.WebElement (session=\"52901fdd269a80fc8d2c4b9fe4ef8afb\", element=\"E4627282F89B1E00957D635B2B8214E8_element_1243\")>,\n",
       " <selenium.webdriver.remote.webelement.WebElement (session=\"52901fdd269a80fc8d2c4b9fe4ef8afb\", element=\"E4627282F89B1E00957D635B2B8214E8_element_1244\")>,\n",
       " <selenium.webdriver.remote.webelement.WebElement (session=\"52901fdd269a80fc8d2c4b9fe4ef8afb\", element=\"E4627282F89B1E00957D635B2B8214E8_element_1245\")>,\n",
       " <selenium.webdriver.remote.webelement.WebElement (session=\"52901fdd269a80fc8d2c4b9fe4ef8afb\", element=\"E4627282F89B1E00957D635B2B8214E8_element_1246\")>,\n",
       " <selenium.webdriver.remote.webelement.WebElement (session=\"52901fdd269a80fc8d2c4b9fe4ef8afb\", element=\"E4627282F89B1E00957D635B2B8214E8_element_1247\")>,\n",
       " <selenium.webdriver.remote.webelement.WebElement (session=\"52901fdd269a80fc8d2c4b9fe4ef8afb\", element=\"E4627282F89B1E00957D635B2B8214E8_element_1248\")>,\n",
       " <selenium.webdriver.remote.webelement.WebElement (session=\"52901fdd269a80fc8d2c4b9fe4ef8afb\", element=\"E4627282F89B1E00957D635B2B8214E8_element_1249\")>,\n",
       " <selenium.webdriver.remote.webelement.WebElement (session=\"52901fdd269a80fc8d2c4b9fe4ef8afb\", element=\"E4627282F89B1E00957D635B2B8214E8_element_1250\")>,\n",
       " <selenium.webdriver.remote.webelement.WebElement (session=\"52901fdd269a80fc8d2c4b9fe4ef8afb\", element=\"E4627282F89B1E00957D635B2B8214E8_element_1251\")>,\n",
       " <selenium.webdriver.remote.webelement.WebElement (session=\"52901fdd269a80fc8d2c4b9fe4ef8afb\", element=\"E4627282F89B1E00957D635B2B8214E8_element_1252\")>,\n",
       " <selenium.webdriver.remote.webelement.WebElement (session=\"52901fdd269a80fc8d2c4b9fe4ef8afb\", element=\"E4627282F89B1E00957D635B2B8214E8_element_1253\")>,\n",
       " <selenium.webdriver.remote.webelement.WebElement (session=\"52901fdd269a80fc8d2c4b9fe4ef8afb\", element=\"E4627282F89B1E00957D635B2B8214E8_element_1254\")>,\n",
       " <selenium.webdriver.remote.webelement.WebElement (session=\"52901fdd269a80fc8d2c4b9fe4ef8afb\", element=\"E4627282F89B1E00957D635B2B8214E8_element_1255\")>,\n",
       " <selenium.webdriver.remote.webelement.WebElement (session=\"52901fdd269a80fc8d2c4b9fe4ef8afb\", element=\"E4627282F89B1E00957D635B2B8214E8_element_1256\")>,\n",
       " <selenium.webdriver.remote.webelement.WebElement (session=\"52901fdd269a80fc8d2c4b9fe4ef8afb\", element=\"E4627282F89B1E00957D635B2B8214E8_element_1257\")>,\n",
       " <selenium.webdriver.remote.webelement.WebElement (session=\"52901fdd269a80fc8d2c4b9fe4ef8afb\", element=\"E4627282F89B1E00957D635B2B8214E8_element_1258\")>,\n",
       " <selenium.webdriver.remote.webelement.WebElement (session=\"52901fdd269a80fc8d2c4b9fe4ef8afb\", element=\"E4627282F89B1E00957D635B2B8214E8_element_1259\")>,\n",
       " <selenium.webdriver.remote.webelement.WebElement (session=\"52901fdd269a80fc8d2c4b9fe4ef8afb\", element=\"E4627282F89B1E00957D635B2B8214E8_element_1260\")>,\n",
       " <selenium.webdriver.remote.webelement.WebElement (session=\"52901fdd269a80fc8d2c4b9fe4ef8afb\", element=\"E4627282F89B1E00957D635B2B8214E8_element_1261\")>,\n",
       " <selenium.webdriver.remote.webelement.WebElement (session=\"52901fdd269a80fc8d2c4b9fe4ef8afb\", element=\"E4627282F89B1E00957D635B2B8214E8_element_1262\")>,\n",
       " <selenium.webdriver.remote.webelement.WebElement (session=\"52901fdd269a80fc8d2c4b9fe4ef8afb\", element=\"E4627282F89B1E00957D635B2B8214E8_element_1263\")>,\n",
       " <selenium.webdriver.remote.webelement.WebElement (session=\"52901fdd269a80fc8d2c4b9fe4ef8afb\", element=\"E4627282F89B1E00957D635B2B8214E8_element_1264\")>,\n",
       " <selenium.webdriver.remote.webelement.WebElement (session=\"52901fdd269a80fc8d2c4b9fe4ef8afb\", element=\"E4627282F89B1E00957D635B2B8214E8_element_1265\")>,\n",
       " <selenium.webdriver.remote.webelement.WebElement (session=\"52901fdd269a80fc8d2c4b9fe4ef8afb\", element=\"E4627282F89B1E00957D635B2B8214E8_element_1266\")>,\n",
       " <selenium.webdriver.remote.webelement.WebElement (session=\"52901fdd269a80fc8d2c4b9fe4ef8afb\", element=\"E4627282F89B1E00957D635B2B8214E8_element_1267\")>,\n",
       " <selenium.webdriver.remote.webelement.WebElement (session=\"52901fdd269a80fc8d2c4b9fe4ef8afb\", element=\"E4627282F89B1E00957D635B2B8214E8_element_1268\")>]"
      ]
     },
     "execution_count": 44,
     "metadata": {},
     "output_type": "execute_result"
    }
   ],
   "source": [
    "# 2. 한솥페이지 전체 가격데이터 수집\n",
    "driver.find_elements(By.CSS_SELECTOR,'div.item-price > strong')"
   ]
  },
  {
   "cell_type": "code",
   "execution_count": 45,
   "id": "03e23538",
   "metadata": {
    "ExecuteTime": {
     "end_time": "2023-10-11T01:22:18.808945Z",
     "start_time": "2023-10-11T01:22:18.083997Z"
    },
    "collapsed": true
   },
   "outputs": [
    {
     "name": "stdout",
     "output_type": "stream",
     "text": [
      "6,600\n",
      "6,900\n",
      "2,900\n",
      "1,900\n",
      "4,600\n",
      "4,000\n",
      "8,900\n",
      "8,900\n",
      "10,000\n",
      "10,500\n",
      "7,800\n",
      "8,500\n",
      "6,500\n",
      "6,000\n",
      "7,000\n",
      "6,000\n",
      "4,800\n",
      "6,600\n",
      "5,500\n",
      "7,500\n",
      "4,400\n",
      "6,000\n",
      "4,900\n",
      "4,800\n",
      "4,500\n",
      "5,000\n",
      "8,600\n",
      "9,000\n",
      "9,000\n",
      "8,000\n",
      "7,400\n",
      "7,500\n",
      "6,900\n",
      "5,800\n",
      "3,900\n",
      "6,000\n",
      "5,000\n",
      "4,300\n",
      "3,700\n",
      "3,500\n",
      "4,000\n",
      "4,700\n",
      "5,500\n",
      "5,300\n",
      "4,700\n",
      "3,900\n",
      "4,700\n",
      "4,900\n",
      "6,200\n",
      "4,900\n",
      "6,000\n",
      "5,900\n",
      "5,900\n",
      "6,000\n",
      "5,000\n",
      "6,000\n",
      "4,200\n",
      "4,100\n",
      "6,500\n",
      "6,500\n",
      "5,400\n",
      "5,200\n",
      "3,500\n",
      "5,000\n"
     ]
    }
   ],
   "source": [
    "# 콘텐츠 츠출을 위해 결과 변수에 담아주기!\n",
    "menu = driver.find_elements(By.CSS_SELECTOR,'h4.h.fz_03')\n",
    "price = driver.find_elements(By.CSS_SELECTOR,'div.item-price > strong')"
   ]
  },
  {
   "cell_type": "markdown",
   "id": "fb84e4ab",
   "metadata": {
    "ExecuteTime": {
     "end_time": "2023-10-11T01:22:27.595428Z",
     "start_time": "2023-10-11T01:22:27.578139Z"
    }
   },
   "source": [
    "- 더보기 버튼 클릭하기\n",
    "    - 현재 브라우저가 가지고 있는 정보만 수집을 할 수 있음!\n",
    "    - 더보기 버튼을 클릭해서 모든 메뉴정보를 수집하기!"
   ]
  },
  {
   "cell_type": "code",
   "execution_count": 51,
   "id": "f88f75d1",
   "metadata": {
    "ExecuteTime": {
     "end_time": "2023-10-11T01:25:00.090995Z",
     "start_time": "2023-10-11T01:25:00.024562Z"
    }
   },
   "outputs": [],
   "source": [
    "# 더보기 버튼을 클릭하기위해서 버튼의 위치를 알아오기!\n",
    "btn_more = driver.find_element(By.CLASS_NAME, 'c_05')\n",
    "btn_more.click()"
   ]
  },
  {
   "cell_type": "code",
   "execution_count": 52,
   "id": "fbdcb534",
   "metadata": {
    "ExecuteTime": {
     "end_time": "2023-10-11T01:26:49.422173Z",
     "start_time": "2023-10-11T01:26:49.003142Z"
    },
    "collapsed": true
   },
   "outputs": [
    {
     "ename": "ElementNotInteractableException",
     "evalue": "Message: element not interactable\n  (Session info: chrome=117.0.5938.150)\nStacktrace:\n\tGetHandleVerifier [0x00007FF7C5F27D12+55474]\n\t(No symbol) [0x00007FF7C5E977C2]\n\t(No symbol) [0x00007FF7C5D4DF9D]\n\t(No symbol) [0x00007FF7C5D8FF95]\n\t(No symbol) [0x00007FF7C5D85DCF]\n\t(No symbol) [0x00007FF7C5DAF15A]\n\t(No symbol) [0x00007FF7C5D856E6]\n\t(No symbol) [0x00007FF7C5DAF370]\n\t(No symbol) [0x00007FF7C5DC7EF2]\n\t(No symbol) [0x00007FF7C5DAEF33]\n\t(No symbol) [0x00007FF7C5D83D41]\n\t(No symbol) [0x00007FF7C5D84F84]\n\tGetHandleVerifier [0x00007FF7C628B762+3609346]\n\tGetHandleVerifier [0x00007FF7C62E1A80+3962400]\n\tGetHandleVerifier [0x00007FF7C62D9F0F+3930799]\n\tGetHandleVerifier [0x00007FF7C5FC3CA6+694342]\n\t(No symbol) [0x00007FF7C5EA2218]\n\t(No symbol) [0x00007FF7C5E9E484]\n\t(No symbol) [0x00007FF7C5E9E5B2]\n\t(No symbol) [0x00007FF7C5E8EE13]\n\tBaseThreadInitThunk [0x00007FF93F35257D+29]\n\tRtlUserThreadStart [0x00007FF940FCAA68+40]\n",
     "output_type": "error",
     "traceback": [
      "\u001b[1;31m---------------------------------------------------------------------------\u001b[0m",
      "\u001b[1;31mElementNotInteractableException\u001b[0m           Traceback (most recent call last)",
      "Cell \u001b[1;32mIn[52], line 4\u001b[0m\n\u001b[0;32m      2\u001b[0m \u001b[38;5;28;01mfor\u001b[39;00m i \u001b[38;5;129;01min\u001b[39;00m \u001b[38;5;28mrange\u001b[39m(\u001b[38;5;241m30\u001b[39m):\n\u001b[0;32m      3\u001b[0m     btn_more \u001b[38;5;241m=\u001b[39m driver\u001b[38;5;241m.\u001b[39mfind_element(By\u001b[38;5;241m.\u001b[39mCLASS_NAME, \u001b[38;5;124m'\u001b[39m\u001b[38;5;124mc_05\u001b[39m\u001b[38;5;124m'\u001b[39m) \u001b[38;5;66;03m# 드라이버는 붕어라서 새로고침이되면 까먹어서 정보를 찾아줘야한다..\u001b[39;00m\n\u001b[1;32m----> 4\u001b[0m     \u001b[43mbtn_more\u001b[49m\u001b[38;5;241;43m.\u001b[39;49m\u001b[43mclick\u001b[49m\u001b[43m(\u001b[49m\u001b[43m)\u001b[49m\n",
      "File \u001b[1;32m~\\anaconda3\\lib\\site-packages\\selenium\\webdriver\\remote\\webelement.py:93\u001b[0m, in \u001b[0;36mWebElement.click\u001b[1;34m(self)\u001b[0m\n\u001b[0;32m     91\u001b[0m \u001b[38;5;28;01mdef\u001b[39;00m \u001b[38;5;21mclick\u001b[39m(\u001b[38;5;28mself\u001b[39m) \u001b[38;5;241m-\u001b[39m\u001b[38;5;241m>\u001b[39m \u001b[38;5;28;01mNone\u001b[39;00m:\n\u001b[0;32m     92\u001b[0m     \u001b[38;5;124;03m\"\"\"Clicks the element.\"\"\"\u001b[39;00m\n\u001b[1;32m---> 93\u001b[0m     \u001b[38;5;28;43mself\u001b[39;49m\u001b[38;5;241;43m.\u001b[39;49m\u001b[43m_execute\u001b[49m\u001b[43m(\u001b[49m\u001b[43mCommand\u001b[49m\u001b[38;5;241;43m.\u001b[39;49m\u001b[43mCLICK_ELEMENT\u001b[49m\u001b[43m)\u001b[49m\n",
      "File \u001b[1;32m~\\anaconda3\\lib\\site-packages\\selenium\\webdriver\\remote\\webelement.py:394\u001b[0m, in \u001b[0;36mWebElement._execute\u001b[1;34m(self, command, params)\u001b[0m\n\u001b[0;32m    392\u001b[0m     params \u001b[38;5;241m=\u001b[39m {}\n\u001b[0;32m    393\u001b[0m params[\u001b[38;5;124m\"\u001b[39m\u001b[38;5;124mid\u001b[39m\u001b[38;5;124m\"\u001b[39m] \u001b[38;5;241m=\u001b[39m \u001b[38;5;28mself\u001b[39m\u001b[38;5;241m.\u001b[39m_id\n\u001b[1;32m--> 394\u001b[0m \u001b[38;5;28;01mreturn\u001b[39;00m \u001b[38;5;28;43mself\u001b[39;49m\u001b[38;5;241;43m.\u001b[39;49m\u001b[43m_parent\u001b[49m\u001b[38;5;241;43m.\u001b[39;49m\u001b[43mexecute\u001b[49m\u001b[43m(\u001b[49m\u001b[43mcommand\u001b[49m\u001b[43m,\u001b[49m\u001b[43m \u001b[49m\u001b[43mparams\u001b[49m\u001b[43m)\u001b[49m\n",
      "File \u001b[1;32m~\\anaconda3\\lib\\site-packages\\selenium\\webdriver\\remote\\webdriver.py:344\u001b[0m, in \u001b[0;36mWebDriver.execute\u001b[1;34m(self, driver_command, params)\u001b[0m\n\u001b[0;32m    342\u001b[0m response \u001b[38;5;241m=\u001b[39m \u001b[38;5;28mself\u001b[39m\u001b[38;5;241m.\u001b[39mcommand_executor\u001b[38;5;241m.\u001b[39mexecute(driver_command, params)\n\u001b[0;32m    343\u001b[0m \u001b[38;5;28;01mif\u001b[39;00m response:\n\u001b[1;32m--> 344\u001b[0m     \u001b[38;5;28;43mself\u001b[39;49m\u001b[38;5;241;43m.\u001b[39;49m\u001b[43merror_handler\u001b[49m\u001b[38;5;241;43m.\u001b[39;49m\u001b[43mcheck_response\u001b[49m\u001b[43m(\u001b[49m\u001b[43mresponse\u001b[49m\u001b[43m)\u001b[49m\n\u001b[0;32m    345\u001b[0m     response[\u001b[38;5;124m\"\u001b[39m\u001b[38;5;124mvalue\u001b[39m\u001b[38;5;124m\"\u001b[39m] \u001b[38;5;241m=\u001b[39m \u001b[38;5;28mself\u001b[39m\u001b[38;5;241m.\u001b[39m_unwrap_value(response\u001b[38;5;241m.\u001b[39mget(\u001b[38;5;124m\"\u001b[39m\u001b[38;5;124mvalue\u001b[39m\u001b[38;5;124m\"\u001b[39m, \u001b[38;5;28;01mNone\u001b[39;00m))\n\u001b[0;32m    346\u001b[0m     \u001b[38;5;28;01mreturn\u001b[39;00m response\n",
      "File \u001b[1;32m~\\anaconda3\\lib\\site-packages\\selenium\\webdriver\\remote\\errorhandler.py:229\u001b[0m, in \u001b[0;36mErrorHandler.check_response\u001b[1;34m(self, response)\u001b[0m\n\u001b[0;32m    227\u001b[0m         alert_text \u001b[38;5;241m=\u001b[39m value[\u001b[38;5;124m\"\u001b[39m\u001b[38;5;124malert\u001b[39m\u001b[38;5;124m\"\u001b[39m]\u001b[38;5;241m.\u001b[39mget(\u001b[38;5;124m\"\u001b[39m\u001b[38;5;124mtext\u001b[39m\u001b[38;5;124m\"\u001b[39m)\n\u001b[0;32m    228\u001b[0m     \u001b[38;5;28;01mraise\u001b[39;00m exception_class(message, screen, stacktrace, alert_text)  \u001b[38;5;66;03m# type: ignore[call-arg]  # mypy is not smart enough here\u001b[39;00m\n\u001b[1;32m--> 229\u001b[0m \u001b[38;5;28;01mraise\u001b[39;00m exception_class(message, screen, stacktrace)\n",
      "\u001b[1;31mElementNotInteractableException\u001b[0m: Message: element not interactable\n  (Session info: chrome=117.0.5938.150)\nStacktrace:\n\tGetHandleVerifier [0x00007FF7C5F27D12+55474]\n\t(No symbol) [0x00007FF7C5E977C2]\n\t(No symbol) [0x00007FF7C5D4DF9D]\n\t(No symbol) [0x00007FF7C5D8FF95]\n\t(No symbol) [0x00007FF7C5D85DCF]\n\t(No symbol) [0x00007FF7C5DAF15A]\n\t(No symbol) [0x00007FF7C5D856E6]\n\t(No symbol) [0x00007FF7C5DAF370]\n\t(No symbol) [0x00007FF7C5DC7EF2]\n\t(No symbol) [0x00007FF7C5DAEF33]\n\t(No symbol) [0x00007FF7C5D83D41]\n\t(No symbol) [0x00007FF7C5D84F84]\n\tGetHandleVerifier [0x00007FF7C628B762+3609346]\n\tGetHandleVerifier [0x00007FF7C62E1A80+3962400]\n\tGetHandleVerifier [0x00007FF7C62D9F0F+3930799]\n\tGetHandleVerifier [0x00007FF7C5FC3CA6+694342]\n\t(No symbol) [0x00007FF7C5EA2218]\n\t(No symbol) [0x00007FF7C5E9E484]\n\t(No symbol) [0x00007FF7C5E9E5B2]\n\t(No symbol) [0x00007FF7C5E8EE13]\n\tBaseThreadInitThunk [0x00007FF93F35257D+29]\n\tRtlUserThreadStart [0x00007FF940FCAA68+40]\n"
     ]
    }
   ],
   "source": [
    "# 반복문을 통해서 모든 더보기 버튼 클릭 후 전체메뉴 수집하기~\n",
    "for i in range(30):\n",
    "    btn_more = driver.find_element(By.CLASS_NAME, 'c_05') # 드라이버는 붕어라서 새로고침이되면 까먹어서 정보를 찾아줘야한다..\n",
    "    btn_more.click()\n",
    "# 에러가 나게된다!! 왜? 더이상 더보기 버튼이 없기 때문이다."
   ]
  },
  {
   "cell_type": "markdown",
   "id": "3d93a8bd",
   "metadata": {},
   "source": [
    "### 예외처리\n",
    "- try, except\n",
    "- try문에서 코드를 실행하다가 에러가나면 except문 실행\n",
    "- 사용하는 이유?\n",
    "    - 코드실행시 에러가 발생하면 전체 셀 실행중단, 에러만 처리하고 셀실행은 유지"
   ]
  },
  {
   "cell_type": "code",
   "execution_count": 57,
   "id": "f258d49c",
   "metadata": {
    "ExecuteTime": {
     "end_time": "2023-10-11T01:33:22.939951Z",
     "start_time": "2023-10-11T01:33:21.566603Z"
    }
   },
   "outputs": [
    {
     "name": "stdout",
     "output_type": "stream",
     "text": [
      "클릭 완료~\n"
     ]
    }
   ],
   "source": [
    "try:\n",
    "    # 실행하고싶은 실행문장 작성\n",
    "    for i in range(30):\n",
    "        btn_more = driver.find_element(By.CLASS_NAME, 'c_05')\n",
    "        btn_more.click()\n",
    "except:\n",
    "    # 에러가 발생했을 경우 실행할 실행문장 작성~\n",
    "    print(\"클릭 완료~\")"
   ]
  },
  {
   "cell_type": "markdown",
   "id": "f782e90e",
   "metadata": {},
   "source": [
    "### 코딩 중간중간 쉬는시간을 부여해보자!\n",
    "- 사람이 처리하는 속도처럼 코드를 진행해주기 위함!\n",
    "- 페이지로딩시 데이터로딩되는 시간 부여\n",
    "- 페이지가 새로고침 되면 쉬는시간을 부여해주는것이 좋다!\n",
    "\n",
    "- 클라이언트가 서버에 데이터를 요청할때 응답받는시간"
   ]
  },
  {
   "cell_type": "code",
   "execution_count": 2,
   "id": "b26b8366",
   "metadata": {
    "ExecuteTime": {
     "end_time": "2023-10-11T05:15:03.588524Z",
     "start_time": "2023-10-11T05:15:03.570150Z"
    }
   },
   "outputs": [],
   "source": [
    "# time 강제적으로 시간을 기다려야한다.\n",
    "import time"
   ]
  },
  {
   "cell_type": "code",
   "execution_count": null,
   "id": "3b992c7c",
   "metadata": {},
   "outputs": [],
   "source": [
    "# selenium 자체 시간부여 함수\n",
    "driver.time"
   ]
  },
  {
   "cell_type": "code",
   "execution_count": 60,
   "id": "eea7dfa4",
   "metadata": {
    "ExecuteTime": {
     "end_time": "2023-10-11T01:38:10.712129Z",
     "start_time": "2023-10-11T01:38:06.526298Z"
    }
   },
   "outputs": [
    {
     "name": "stdout",
     "output_type": "stream",
     "text": [
      "클릭 완료~\n"
     ]
    }
   ],
   "source": [
    "try:\n",
    "    # 실행하고싶은 실행문장 작성\n",
    "    for i in range(30):\n",
    "        btn_more = driver.find_element(By.CLASS_NAME, 'c_05')\n",
    "        btn_more.click()\n",
    "        time.sleep(1) # 1초\n",
    "except:\n",
    "    # 에러가 발생했을 경우 실행할 실행문장 작성~\n",
    "    print(\"클릭 완료~\")"
   ]
  },
  {
   "cell_type": "markdown",
   "id": "b8c6839a",
   "metadata": {},
   "source": [
    "### 코드합치기~"
   ]
  },
  {
   "cell_type": "code",
   "execution_count": 86,
   "id": "1f3978c4",
   "metadata": {
    "ExecuteTime": {
     "end_time": "2023-10-11T02:13:22.166788Z",
     "start_time": "2023-10-11T02:13:11.268808Z"
    }
   },
   "outputs": [
    {
     "name": "stdout",
     "output_type": "stream",
     "text": [
      "클릭 완료~\n"
     ]
    }
   ],
   "source": [
    "from selenium import webdriver as wb\n",
    "from selenium.webdriver.common.by import By\n",
    "from selenium.webdriver.common.keys import Keys\n",
    "\n",
    "# 한솥페이지 열기\n",
    "driver = wb.Chrome()\n",
    "driver.get('https://www.hsd.co.kr/menu/menu_list')\n",
    "time.sleep(1) # 페이지로딩시간 주기\n",
    "\n",
    "try:\n",
    "    # 실행하고싶은 실행문장 작성\n",
    "    for i in range(30):\n",
    "        btn_more = driver.find_element(By.CLASS_NAME, 'c_05')\n",
    "        btn_more.click()\n",
    "        time.sleep(1) # 1초\n",
    "except:\n",
    "    # 에러가 발생했을 경우 실행할 실행문장 작성~\n",
    "    print(\"클릭 완료~\")\n",
    "\n",
    "menu = driver.find_elements(By.CSS_SELECTOR,'h4.h.fz_03')\n",
    "price = driver.find_elements(By.CSS_SELECTOR,'div.item-price > strong')\n",
    "\n",
    "# 순수한 콘텐츠만을 담은 menu_list, price_list 생성 (반복문 활용)\n",
    "menu_list = []\n",
    "price_list = []\n",
    "for i in range(len(menu)):\n",
    "    menu_list.append(menu[i].text)\n",
    "    price_list.append(price[i].text)\n",
    "\n",
    "driver.quit()\n",
    "\n",
    "# 딕셔너리 생성\n",
    "dic = {'메뉴' : menu_list, '가격' : price_list}\n",
    "# 데이터프레임 생성\n",
    "hs = pd.DataFrame(dic)\n",
    "# csv 파일로 내보내기 (한솥메뉴.csv)\n",
    "hs.to_csv('data/한솥메뉴.csv', encoding='euc-kr')"
   ]
  },
  {
   "cell_type": "code",
   "execution_count": 84,
   "id": "5e85a468",
   "metadata": {
    "ExecuteTime": {
     "end_time": "2023-10-11T02:11:41.134888Z",
     "start_time": "2023-10-11T02:11:41.123495Z"
    }
   },
   "outputs": [
    {
     "data": {
      "text/plain": [
       "(98, 98)"
      ]
     },
     "execution_count": 84,
     "metadata": {},
     "output_type": "execute_result"
    }
   ],
   "source": [
    "len(menu), len(price)"
   ]
  },
  {
   "cell_type": "code",
   "execution_count": null,
   "id": "88ebff82",
   "metadata": {},
   "outputs": [],
   "source": []
  },
  {
   "cell_type": "code",
   "execution_count": null,
   "id": "6ef30d1b",
   "metadata": {},
   "outputs": [],
   "source": []
  },
  {
   "cell_type": "code",
   "execution_count": null,
   "id": "34dd210f",
   "metadata": {},
   "outputs": [],
   "source": []
  },
  {
   "cell_type": "code",
   "execution_count": null,
   "id": "749b17a8",
   "metadata": {},
   "outputs": [],
   "source": []
  },
  {
   "cell_type": "code",
   "execution_count": null,
   "id": "c348dc64",
   "metadata": {},
   "outputs": [],
   "source": []
  },
  {
   "cell_type": "code",
   "execution_count": null,
   "id": "f1fd43f1",
   "metadata": {},
   "outputs": [],
   "source": []
  },
  {
   "cell_type": "code",
   "execution_count": null,
   "id": "e4890ac3",
   "metadata": {},
   "outputs": [],
   "source": []
  },
  {
   "cell_type": "code",
   "execution_count": null,
   "id": "7a31861b",
   "metadata": {},
   "outputs": [],
   "source": []
  },
  {
   "cell_type": "code",
   "execution_count": null,
   "id": "a2d4ad62",
   "metadata": {},
   "outputs": [],
   "source": []
  },
  {
   "cell_type": "code",
   "execution_count": null,
   "id": "0a04c76f",
   "metadata": {},
   "outputs": [],
   "source": []
  },
  {
   "cell_type": "code",
   "execution_count": null,
   "id": "b5cfe886",
   "metadata": {},
   "outputs": [],
   "source": []
  },
  {
   "cell_type": "code",
   "execution_count": null,
   "id": "900ecf1b",
   "metadata": {},
   "outputs": [],
   "source": []
  },
  {
   "cell_type": "code",
   "execution_count": null,
   "id": "ff8b2e40",
   "metadata": {},
   "outputs": [],
   "source": []
  },
  {
   "cell_type": "code",
   "execution_count": null,
   "id": "d965909f",
   "metadata": {},
   "outputs": [],
   "source": []
  },
  {
   "cell_type": "code",
   "execution_count": null,
   "id": "a7a1aa78",
   "metadata": {},
   "outputs": [],
   "source": []
  },
  {
   "cell_type": "code",
   "execution_count": null,
   "id": "940ea83d",
   "metadata": {},
   "outputs": [],
   "source": []
  },
  {
   "cell_type": "code",
   "execution_count": null,
   "id": "ff56be55",
   "metadata": {},
   "outputs": [],
   "source": []
  },
  {
   "cell_type": "code",
   "execution_count": null,
   "id": "82c2f6c4",
   "metadata": {},
   "outputs": [],
   "source": []
  },
  {
   "cell_type": "code",
   "execution_count": null,
   "id": "d7198927",
   "metadata": {},
   "outputs": [],
   "source": []
  },
  {
   "cell_type": "code",
   "execution_count": null,
   "id": "3bbae622",
   "metadata": {},
   "outputs": [],
   "source": []
  },
  {
   "cell_type": "code",
   "execution_count": null,
   "id": "ef15ba99",
   "metadata": {},
   "outputs": [],
   "source": []
  },
  {
   "cell_type": "code",
   "execution_count": null,
   "id": "5247f5aa",
   "metadata": {},
   "outputs": [],
   "source": []
  },
  {
   "cell_type": "code",
   "execution_count": null,
   "id": "7e1ebac0",
   "metadata": {},
   "outputs": [],
   "source": []
  },
  {
   "cell_type": "code",
   "execution_count": null,
   "id": "4125f3ff",
   "metadata": {},
   "outputs": [],
   "source": []
  },
  {
   "cell_type": "code",
   "execution_count": null,
   "id": "fbbd65b0",
   "metadata": {},
   "outputs": [],
   "source": []
  },
  {
   "cell_type": "code",
   "execution_count": null,
   "id": "2745764f",
   "metadata": {},
   "outputs": [],
   "source": []
  },
  {
   "cell_type": "code",
   "execution_count": null,
   "id": "8bf0fb6b",
   "metadata": {},
   "outputs": [],
   "source": []
  },
  {
   "cell_type": "code",
   "execution_count": null,
   "id": "905ec145",
   "metadata": {},
   "outputs": [],
   "source": []
  },
  {
   "cell_type": "code",
   "execution_count": null,
   "id": "7f958d38",
   "metadata": {},
   "outputs": [],
   "source": []
  },
  {
   "cell_type": "code",
   "execution_count": null,
   "id": "5d737cf3",
   "metadata": {},
   "outputs": [],
   "source": []
  },
  {
   "cell_type": "code",
   "execution_count": null,
   "id": "a7c472f8",
   "metadata": {},
   "outputs": [],
   "source": []
  },
  {
   "cell_type": "code",
   "execution_count": null,
   "id": "e59d335e",
   "metadata": {},
   "outputs": [],
   "source": []
  },
  {
   "cell_type": "code",
   "execution_count": null,
   "id": "90c55678",
   "metadata": {},
   "outputs": [],
   "source": []
  },
  {
   "cell_type": "code",
   "execution_count": null,
   "id": "4780689b",
   "metadata": {},
   "outputs": [],
   "source": []
  },
  {
   "cell_type": "code",
   "execution_count": null,
   "id": "127f1857",
   "metadata": {},
   "outputs": [],
   "source": []
  },
  {
   "cell_type": "code",
   "execution_count": null,
   "id": "5764c536",
   "metadata": {},
   "outputs": [],
   "source": []
  },
  {
   "cell_type": "code",
   "execution_count": null,
   "id": "b6f67762",
   "metadata": {},
   "outputs": [],
   "source": []
  },
  {
   "cell_type": "code",
   "execution_count": null,
   "id": "c89c84b9",
   "metadata": {},
   "outputs": [],
   "source": []
  },
  {
   "cell_type": "code",
   "execution_count": null,
   "id": "91653c29",
   "metadata": {},
   "outputs": [],
   "source": []
  },
  {
   "cell_type": "code",
   "execution_count": null,
   "id": "e1f26d5f",
   "metadata": {},
   "outputs": [],
   "source": []
  },
  {
   "cell_type": "code",
   "execution_count": null,
   "id": "08c97a03",
   "metadata": {},
   "outputs": [],
   "source": []
  },
  {
   "cell_type": "code",
   "execution_count": null,
   "id": "ee3b4f1b",
   "metadata": {},
   "outputs": [],
   "source": []
  },
  {
   "cell_type": "code",
   "execution_count": null,
   "id": "a5cdff96",
   "metadata": {},
   "outputs": [],
   "source": []
  },
  {
   "cell_type": "code",
   "execution_count": null,
   "id": "37f6f8da",
   "metadata": {},
   "outputs": [],
   "source": []
  },
  {
   "cell_type": "code",
   "execution_count": null,
   "id": "db4c7cc6",
   "metadata": {},
   "outputs": [],
   "source": []
  },
  {
   "cell_type": "code",
   "execution_count": null,
   "id": "2443bffe",
   "metadata": {},
   "outputs": [],
   "source": []
  },
  {
   "cell_type": "code",
   "execution_count": null,
   "id": "ac78493f",
   "metadata": {},
   "outputs": [],
   "source": []
  },
  {
   "cell_type": "code",
   "execution_count": null,
   "id": "4d5e6b98",
   "metadata": {},
   "outputs": [],
   "source": []
  },
  {
   "cell_type": "code",
   "execution_count": null,
   "id": "63ff4eb7",
   "metadata": {},
   "outputs": [],
   "source": []
  },
  {
   "cell_type": "code",
   "execution_count": null,
   "id": "7ae1a9c8",
   "metadata": {},
   "outputs": [],
   "source": []
  },
  {
   "cell_type": "code",
   "execution_count": null,
   "id": "6bcad4fa",
   "metadata": {},
   "outputs": [],
   "source": []
  },
  {
   "cell_type": "code",
   "execution_count": null,
   "id": "16641012",
   "metadata": {},
   "outputs": [],
   "source": []
  },
  {
   "cell_type": "code",
   "execution_count": null,
   "id": "96af4420",
   "metadata": {},
   "outputs": [],
   "source": []
  },
  {
   "cell_type": "code",
   "execution_count": null,
   "id": "95808795",
   "metadata": {},
   "outputs": [],
   "source": []
  },
  {
   "cell_type": "code",
   "execution_count": null,
   "id": "f21dd70e",
   "metadata": {},
   "outputs": [],
   "source": []
  },
  {
   "cell_type": "code",
   "execution_count": null,
   "id": "67315a64",
   "metadata": {},
   "outputs": [],
   "source": []
  },
  {
   "cell_type": "code",
   "execution_count": null,
   "id": "a7f3d0fe",
   "metadata": {},
   "outputs": [],
   "source": []
  },
  {
   "cell_type": "code",
   "execution_count": null,
   "id": "d8ae181b",
   "metadata": {},
   "outputs": [],
   "source": []
  },
  {
   "cell_type": "code",
   "execution_count": null,
   "id": "7748ebaf",
   "metadata": {},
   "outputs": [],
   "source": []
  },
  {
   "cell_type": "code",
   "execution_count": null,
   "id": "0fc5c519",
   "metadata": {},
   "outputs": [],
   "source": []
  },
  {
   "cell_type": "code",
   "execution_count": null,
   "id": "f39abb92",
   "metadata": {},
   "outputs": [],
   "source": []
  },
  {
   "cell_type": "code",
   "execution_count": null,
   "id": "643bd928",
   "metadata": {},
   "outputs": [],
   "source": []
  },
  {
   "cell_type": "code",
   "execution_count": null,
   "id": "9bf25154",
   "metadata": {},
   "outputs": [],
   "source": []
  },
  {
   "cell_type": "code",
   "execution_count": null,
   "id": "1e64787e",
   "metadata": {},
   "outputs": [],
   "source": []
  },
  {
   "cell_type": "code",
   "execution_count": null,
   "id": "49e847b3",
   "metadata": {},
   "outputs": [],
   "source": []
  },
  {
   "cell_type": "code",
   "execution_count": null,
   "id": "9240b1e0",
   "metadata": {},
   "outputs": [],
   "source": []
  },
  {
   "cell_type": "code",
   "execution_count": null,
   "id": "19ffe873",
   "metadata": {},
   "outputs": [],
   "source": []
  },
  {
   "cell_type": "code",
   "execution_count": null,
   "id": "fa54403b",
   "metadata": {},
   "outputs": [],
   "source": []
  },
  {
   "cell_type": "code",
   "execution_count": null,
   "id": "1a899a36",
   "metadata": {},
   "outputs": [],
   "source": []
  },
  {
   "cell_type": "code",
   "execution_count": null,
   "id": "558ea82a",
   "metadata": {},
   "outputs": [],
   "source": []
  },
  {
   "cell_type": "code",
   "execution_count": null,
   "id": "9acf7790",
   "metadata": {},
   "outputs": [],
   "source": []
  },
  {
   "cell_type": "code",
   "execution_count": null,
   "id": "4484c80d",
   "metadata": {},
   "outputs": [],
   "source": []
  },
  {
   "cell_type": "code",
   "execution_count": null,
   "id": "9457ff86",
   "metadata": {},
   "outputs": [],
   "source": []
  },
  {
   "cell_type": "code",
   "execution_count": null,
   "id": "b3200fce",
   "metadata": {},
   "outputs": [],
   "source": []
  },
  {
   "cell_type": "code",
   "execution_count": null,
   "id": "a994422b",
   "metadata": {},
   "outputs": [],
   "source": []
  },
  {
   "cell_type": "code",
   "execution_count": null,
   "id": "947a8a64",
   "metadata": {},
   "outputs": [],
   "source": []
  },
  {
   "cell_type": "code",
   "execution_count": null,
   "id": "f664bf14",
   "metadata": {},
   "outputs": [],
   "source": []
  },
  {
   "cell_type": "code",
   "execution_count": null,
   "id": "d2e17ddf",
   "metadata": {},
   "outputs": [],
   "source": []
  },
  {
   "cell_type": "code",
   "execution_count": null,
   "id": "f0e4c5d7",
   "metadata": {},
   "outputs": [],
   "source": []
  },
  {
   "cell_type": "code",
   "execution_count": null,
   "id": "91207955",
   "metadata": {},
   "outputs": [],
   "source": []
  },
  {
   "cell_type": "code",
   "execution_count": null,
   "id": "57a96d7b",
   "metadata": {},
   "outputs": [],
   "source": []
  },
  {
   "cell_type": "code",
   "execution_count": null,
   "id": "34b3cc22",
   "metadata": {},
   "outputs": [],
   "source": []
  },
  {
   "cell_type": "code",
   "execution_count": null,
   "id": "46745c55",
   "metadata": {},
   "outputs": [],
   "source": []
  },
  {
   "cell_type": "code",
   "execution_count": null,
   "id": "516e7ce8",
   "metadata": {},
   "outputs": [],
   "source": []
  },
  {
   "cell_type": "code",
   "execution_count": null,
   "id": "02cdbde1",
   "metadata": {},
   "outputs": [],
   "source": []
  },
  {
   "cell_type": "code",
   "execution_count": null,
   "id": "b9ff876b",
   "metadata": {},
   "outputs": [],
   "source": []
  },
  {
   "cell_type": "code",
   "execution_count": null,
   "id": "c096be97",
   "metadata": {},
   "outputs": [],
   "source": []
  },
  {
   "cell_type": "code",
   "execution_count": null,
   "id": "5b5b1c86",
   "metadata": {},
   "outputs": [],
   "source": []
  },
  {
   "cell_type": "code",
   "execution_count": null,
   "id": "ecbfceac",
   "metadata": {},
   "outputs": [],
   "source": []
  },
  {
   "cell_type": "code",
   "execution_count": null,
   "id": "beff7a16",
   "metadata": {},
   "outputs": [],
   "source": []
  }
 ],
 "metadata": {
  "kernelspec": {
   "display_name": "Python 3 (ipykernel)",
   "language": "python",
   "name": "python3"
  },
  "language_info": {
   "codemirror_mode": {
    "name": "ipython",
    "version": 3
   },
   "file_extension": ".py",
   "mimetype": "text/x-python",
   "name": "python",
   "nbconvert_exporter": "python",
   "pygments_lexer": "ipython3",
   "version": "3.10.9"
  },
  "toc": {
   "base_numbering": 1,
   "nav_menu": {},
   "number_sections": true,
   "sideBar": true,
   "skip_h1_title": false,
   "title_cell": "Table of Contents",
   "title_sidebar": "Contents",
   "toc_cell": false,
   "toc_position": {},
   "toc_section_display": true,
   "toc_window_display": false
  }
 },
 "nbformat": 4,
 "nbformat_minor": 5
}
