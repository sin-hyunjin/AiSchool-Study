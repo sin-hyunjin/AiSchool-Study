{
 "cells": [
  {
   "cell_type": "code",
   "execution_count": 41,
   "id": "d3b20daf",
   "metadata": {
    "ExecuteTime": {
     "end_time": "2023-10-11T06:31:56.304411Z",
     "start_time": "2023-10-11T06:31:56.288966Z"
    }
   },
   "outputs": [],
   "source": [
    "from selenium import webdriver as wb\n",
    "from selenium.webdriver.common.by import By\n",
    "from selenium.webdriver.common.keys import Keys\n",
    "import pandas as pd\n",
    "import time\n",
    "from tqdm import tqdm_notebook as tq"
   ]
  },
  {
   "cell_type": "code",
   "execution_count": 42,
   "id": "3f7291a6",
   "metadata": {
    "ExecuteTime": {
     "end_time": "2023-10-11T06:31:59.112808Z",
     "start_time": "2023-10-11T06:31:56.471599Z"
    }
   },
   "outputs": [],
   "source": [
    "# 1. 크롬을 실행\n",
    "driver = wb.Chrome()\n",
    "# 1.1 네이버 메인페이지로 이동\n",
    "driver.get('https://www.naver.com/')"
   ]
  },
  {
   "cell_type": "code",
   "execution_count": 43,
   "id": "be352b19",
   "metadata": {
    "ExecuteTime": {
     "end_time": "2023-10-11T06:32:00.557023Z",
     "start_time": "2023-10-11T06:31:59.116308Z"
    }
   },
   "outputs": [],
   "source": [
    "# 2. 검색창에 \"아시안게임\" 검색\n",
    "search = driver.find_element(By.ID,\"query\")\n",
    "search.send_keys('아시안게임')\n",
    "# 2.2 엔터, 클릭을 통해서 검색을 진행\n",
    "search.send_keys(Keys.ENTER)"
   ]
  },
  {
   "cell_type": "code",
   "execution_count": 44,
   "id": "d5379832",
   "metadata": {
    "ExecuteTime": {
     "end_time": "2023-10-11T06:32:01.551273Z",
     "start_time": "2023-10-11T06:32:00.561014Z"
    }
   },
   "outputs": [],
   "source": [
    "#  3. 탭 상단의 오른쪽 화살표 버튼 클릭\n",
    "tab_btn = driver.find_element(By.CSS_SELECTOR, '#lnb > div.lnb_group > div > div.lnb_nav_area._nav_area_root > div > div.api_btn_page._nav_btn_root > div.btn_next._next > a')\n",
    "tab_btn.click()"
   ]
  },
  {
   "cell_type": "code",
   "execution_count": 45,
   "id": "43821a41",
   "metadata": {
    "ExecuteTime": {
     "end_time": "2023-10-11T06:32:01.846602Z",
     "start_time": "2023-10-11T06:32:01.554865Z"
    }
   },
   "outputs": [],
   "source": [
    "# 3.3 탭 중에 뉴스탭을 클릭\n",
    "news = driver.find_element(By.CSS_SELECTOR, '#lnb > div.lnb_group > div > div.lnb_nav_area._nav_area_root > div > div.api_flicking_wrap._conveyer_root > div:nth-child(7) > a')\n",
    "news.click()"
   ]
  },
  {
   "cell_type": "code",
   "execution_count": 46,
   "id": "7c9b4217",
   "metadata": {
    "ExecuteTime": {
     "end_time": "2023-10-11T06:32:02.067375Z",
     "start_time": "2023-10-11T06:32:01.849592Z"
    }
   },
   "outputs": [],
   "source": [
    "# 4. 뉴스 타이틀만 수집\n",
    "title = driver.find_elements(By.CSS_SELECTOR, 'div.news_wrap.api_ani_send > div > a')\n",
    "title_list = []\n",
    "for i in title :\n",
    "    title_list.append(i.text)"
   ]
  },
  {
   "cell_type": "code",
   "execution_count": 47,
   "id": "8170137b",
   "metadata": {
    "ExecuteTime": {
     "end_time": "2023-10-11T06:32:02.082867Z",
     "start_time": "2023-10-11T06:32:02.069370Z"
    }
   },
   "outputs": [
    {
     "data": {
      "text/plain": [
       "[\"신한금융 후원 7개 국대 선수단, 아시안 게임서 '금2·은9·동14' 쓸었다\",\n",
       " '북한 아시안게임 선수단장 오광혁',\n",
       " '신한금융, 아시안게임 출전 7개 국가대표팀 후원 결실',\n",
       " '대구시, 아시안게임 메달리스트 환영 행사',\n",
       " '오세훈, 아시안게임 선수단 간담회..“파리 올림픽 도전 응원”',\n",
       " '\"행복했습니다\"…최윤 OK금융 회장, 아시안게임 여정 마무리',\n",
       " '전북 선수단, 항저우 아시안게임 선전',\n",
       " \"'유퀴즈' 황선우→김우민 아시안게임 수영 金 주역들 '총출동'\",\n",
       " '아시안게임이 불 지핀 군 면제 논란…차분히 따져볼 때 됐다 [핫이슈]',\n",
       " '한국마사회 선수단, 항저우 아시안게임 은-동 수확']"
      ]
     },
     "execution_count": 47,
     "metadata": {},
     "output_type": "execute_result"
    }
   ],
   "source": [
    "title_list"
   ]
  },
  {
   "cell_type": "code",
   "execution_count": 48,
   "id": "421fa0f1",
   "metadata": {
    "ExecuteTime": {
     "end_time": "2023-10-11T06:32:02.144058Z",
     "start_time": "2023-10-11T06:32:02.085396Z"
    }
   },
   "outputs": [],
   "source": [
    "# 5. 화면 최하단으로 스크롤 이동\n",
    "body = driver.find_element(By.TAG_NAME, \"body\")\n",
    "body.send_keys(Keys.END)"
   ]
  },
  {
   "cell_type": "code",
   "execution_count": 49,
   "id": "accc7e13",
   "metadata": {
    "ExecuteTime": {
     "end_time": "2023-10-11T06:32:02.421872Z",
     "start_time": "2023-10-11T06:32:02.147050Z"
    }
   },
   "outputs": [],
   "source": [
    "# 6. 다음페이지 이동 버튼 클릭\n",
    "next_btn = driver.find_element(By.CSS_SELECTOR, '#main_pack > div.api_sc_page_wrap > div > a.btn_next')\n",
    "next_btn.click()"
   ]
  },
  {
   "cell_type": "code",
   "execution_count": 50,
   "id": "918f1c2e",
   "metadata": {
    "ExecuteTime": {
     "end_time": "2023-10-11T06:32:45.734034Z",
     "start_time": "2023-10-11T06:32:02.425961Z"
    }
   },
   "outputs": [],
   "source": [
    "# 7. 10번 반복해서 10페이지 수집\n",
    "title_list = []\n",
    "for i in range(10) :\n",
    "    title = driver.find_elements(By.CSS_SELECTOR, 'div.news_wrap.api_ani_send > div > a')\n",
    "    for j in title :\n",
    "        title_list.append(j.text)\n",
    "    body = driver.find_element(By.TAG_NAME, \"body\")\n",
    "    body.send_keys(Keys.END)\n",
    "    time.sleep(2)\n",
    "    next_btn = driver.find_element(By.CSS_SELECTOR, '#main_pack > div.api_sc_page_wrap > div > a.btn_next')\n",
    "    next_btn.click()\n",
    "    time.sleep(2)"
   ]
  },
  {
   "cell_type": "code",
   "execution_count": 51,
   "id": "8f173a1a",
   "metadata": {
    "ExecuteTime": {
     "end_time": "2023-10-11T06:32:45.764182Z",
     "start_time": "2023-10-11T06:32:45.743055Z"
    },
    "collapsed": true
   },
   "outputs": [
    {
     "data": {
      "text/plain": [
       "['한국마사회 선수단, 항저우 아시안게임 은-동 수확',\n",
       " 'LX공사, 아시안게임 사이클 은메달 김유로 선수 환영식',\n",
       " '아시안게임 열기 이을 전국체전 13일 개막…역대 최대 규모',\n",
       " '최태원의 스포츠 사랑…아시안게임 비인기종목까지 챙겨',\n",
       " '\"잘 싸웠다\"…마사회 선수단, 항저우 아시안게임 은·동메달 획득',\n",
       " '\"춤만 추고 살아왔는데\"…태극기 휘날린 브레이킹 김홍열',\n",
       " \"'부상 투혼' 안세영, 무릎 근처 힘줄 파열…2∼5주 재활 진단\",\n",
       " '25개 메달 얻어낸 SKT의 아시안게임...국가대표 후원금 1억 기탁으로 마무리',\n",
       " '국민체육진흥공단, 장애인아시안게임 선수단에 격려금 2천만원',\n",
       " '국가대표 가슴에 노스페이스, 아시안게임 은메달 서채현',\n",
       " '김영록 전남지사, 항저우 아시안게임 전남선수단 격려',\n",
       " '이상일 용인시장, 항저우 아시안게임서 은메달 딴 우상혁 선수 격려',\n",
       " '아시안게임 축구 대표팀 이광연 선수, 예산 방문',\n",
       " '항저우 아시안게임 대한민국 선수단 본진도 귀국',\n",
       " '축구엔 역시 치킨…아시안게임 한일전 당일 bhc치킨 매출 80% ↑',\n",
       " '항저우 아시안게임 출전 김해 선수 4명 전원 메달',\n",
       " '‘슈돌’ 김준호, 아시안게임 금메달 뒤 두 아들 응원 있었다 ‘뭉클’',\n",
       " '대구시, 항저우 아시안게임 메달리스트에 격려금 전달',\n",
       " 'LG 시구자로 나선 김진혁 장애인아시안게임 선수단장',\n",
       " \"'종합 3위·금메달 42개' 항저우AG 한국 선수단 본진 귀국(종합)\",\n",
       " '배달특급 아시안게임 폐막 프로모션',\n",
       " '브레이킹 김홍열, 항저우 아시안게임 폐회식 기수 맡아',\n",
       " '[아시안게임] 쉴 틈 없는 황선우…10월 체전·11월 선발전·2월 세계선수권',\n",
       " '3관왕 김우민-임시현… 아시안게임 한국 MVP',\n",
       " '배럴, 항저우 아시안게임 수영 국가대표 선수단 선전 기념 이벤트',\n",
       " '항저우 장애인아시안게임 한국 선수단, 13일 결단식',\n",
       " '[아시안게임] 한국 남자 MVP 김우민 \"더 좋은 기록 위한 동기부여\"',\n",
       " '아이치-나고야아시안게임, 선수촌 안 짓고 호텔 생활할 듯',\n",
       " '항저우 아시안게임서 메달 6개 수확…국민체육진흥공단 \"포상 예정\"',\n",
       " '[아시안게임] 전웅태·김국영·안산…광주 선수들도 맹활약',\n",
       " '다시 뛰는 여자축구, 항저우 아픔 뒤로하고 올림픽 첫 출전 도전',\n",
       " '[포토] 항저우 아시안게임 서울시청 선수단 격려 간담회',\n",
       " '[아시안게임] 폐회식 북한 기수는 유일한 남자 금메달리스트 리청송',\n",
       " '[아시안게임] 한국 선수단, 항저우서 해단식…\"파리 도전 역량 비축하길\"',\n",
       " '안양시, 시청 소속 아시안게임 메달리스트 3명에게 포상금',\n",
       " '리브랜딩 ‘FC온라인’, 아시안게임 덕 톡톡',\n",
       " '\"국뽕 차오른다\"..아시안게임 선수들 탄 비행기 안내방송에 \\'울컥\\'',\n",
       " '모두가 웃는 아시안게임 금메달···KIA에게 남긴 유일한 위안은',\n",
       " '최윤 AG 선수단장 \"비인지 종목, 주목해 주셔서 감사합니다\"',\n",
       " '아시안게임서 영광의 상처 얻은 안세영과 신유빈, 파리 올림픽 정조준',\n",
       " '안양 선수들 항저우 아시안게임 ‘메달 행진’',\n",
       " \"[나이트라인 초대석] 아시안게임 'e스포츠 첫 금메달' 김관우 선수\",\n",
       " '금2·은1·동1…아시안게임서 빛난 e스포츠종주국 저력',\n",
       " '양궁 소채원, 여자 컴파운드 개인전 은메달 획득',\n",
       " '김해시, 아시안게임 메달리스트 초청 환영식 가져',\n",
       " '[아시안게임] 중국 수영 장위페이·친하이양 MVP…첫 공동 수상',\n",
       " '감동 선사한 AG 태극전사…이기흥 회장 \"안세영 투혼, 감명받았다\"',\n",
       " \"아시안 게임 금메달 다음은 세계대회... '롤드컵' 한국서 본격 개막\",\n",
       " '“아시안 게임의 감동, 강원2024로 이어집니다”',\n",
       " '‘2주 연속 정상 도전’ 함정우, ‘아시안게임 금메달’ 임성재, 국내 최고 상...',\n",
       " '‘항저우 아시안게임의 e스포츠 성과와 과제’···13일 목포대서 학술대회',\n",
       " \"다시 뭉친 '아시안게임 4인방'\",\n",
       " \"[아시안게임] '금메달+병역혜택' 이강인에게 'PSG+동료들 축하인사'\",\n",
       " 'H+양지병원, 아시안게임 금메달 경축 배드민턴 대회 의료봉사',\n",
       " '‘아시안게임 금메달리스트’ KIA 최원준도 시즌 아웃…6~8주 소요 [SS메디컬...',\n",
       " '홍준표 시장, 아시안게임 메달리스트 격려',\n",
       " '축구·야구 금메달 효과…편의점, AG 특수에 웃었다',\n",
       " '아시안게임서 가장 바빴던 한 사람…“하루 3만보씩 걸으며 응원했죠”',\n",
       " '아시안게임 MVP는 수영 김우민·양궁 임시현',\n",
       " '이동환 고양특례시장, “역도 박혜정 등 아시안게임 선수단 성과 격려”',\n",
       " '[김해시] 김해 선수들 항저우 아시안게임서 선전 外',\n",
       " '아시안게임 영상 시청하는 오세훈 시장과 선수들',\n",
       " '임시현, 37년만 3관왕…韓양궁 메달 순위 2위(종합2보)',\n",
       " '[1보] 임시현, 아시안게임 양궁 개인전 금메달…37년만의 3관왕 등극',\n",
       " '[1보] 남자 양궁, 13년 만에 아시안게임 단체전 금메달',\n",
       " \"'금의환향' 아시안게임 2관왕 오상욱, 모교 대전대 방문\",\n",
       " '[아시안게임] 5년 전 은메달에 울었던 문혜경 \"금메달은 더 울 줄 알았는데\"',\n",
       " \"[아시안게임] '막내 에이스' 임시현, 안산 넘고 37년만의 양궁 3관왕 등극(종...\",\n",
       " '김준호, 아들이 만든 수제 금메달 걸고 “아시안게임 최선 다할 것”(슈돌)',\n",
       " '[만화] 아시안게임, 냉탕과 온탕 사이 [날백수인생]',\n",
       " '[항저우 NOW] LoL 생존가능? 3년뒤 기약한 아시안게임 e스포츠',\n",
       " \"[아시안게임] '양궁 최강' 한국, 중국 물리치고 여자 단체전 7연패(종합)\",\n",
       " \"[아시안게임] 폐회식서 태극기 든 비보이…'홍텐' 김홍열의 전설은 계속\",\n",
       " '[아시안게임] 역도 박혜정, 장미란 이후 13년 만의 금메달…손영희는 2위(종합...',\n",
       " '여야, 아시안게임 한국 선수단에 \"열정과 노력에 감사…국민에 큰 감동\"(종합...',\n",
       " '한국 아시안게임 MVP…수영 김우민·양궁 임시현',\n",
       " \"'항저우 아시안게임 선수단 초청 간담회'\",\n",
       " '아시안게임 선수단 본진 귀국 \"태극마크로 없던 힘까지\"',\n",
       " '[아시안게임] 항저우 영웅들, 전남으로 집결…13일 전국체전 개막',\n",
       " '[사설] 아시안게임 병역 특례, 이젠 손볼 때 되지 않았나',\n",
       " '[아시안게임] 항저우 AG 오늘 폐막‥한국 종합 3위',\n",
       " \"아시안게임 'e스포츠 최초 金' 김관우 선수, MBC '정오의 희망곡' 출연\",\n",
       " '아시안게임, 경기만큼 치열했던 중국의 외교전 [특파원 리포트]',\n",
       " \"적수가 없다…女양궁 단체전 7연패 '금자탑'\",\n",
       " '\\'AG 득점왕\\' 정우영, 내년 아시안컵 빛낼 6인의 스타 선정 \"공격 다재다능\"',\n",
       " '아시안게임 선수단 귀국',\n",
       " \"'슈돌' 엔싸인 한준ㆍ희원, 김준호 위해 '아시안게임 런치쇼' 준비…센스만점...\",\n",
       " '[아시안게임] 축구 이강인·야구 문동주, 에이스 의기투합 \"정말 축하해\"',\n",
       " '[아시안게임] 소채원, 컴파운드 여자 개인전 은메달…인도 금메달 싹쓸이(종합...',\n",
       " '\"내년 총선은 한일전\"·\"야구 한일전\" 민주당, 황당 SNS에…',\n",
       " '이상일 시장, 아시안게임 은메달리스트 우상혁 선수 격려',\n",
       " '[아시안게임] 한국 선수단, 항저우서 해단식…\"파리 도전 역량 비축하길\"',\n",
       " '안양시, 시청 소속 아시안게임 메달리스트 3명에게 포상금',\n",
       " '오세훈 서울시장, 항저우 아시안게임 선수단 격려',\n",
       " '리브랜딩 ‘FC온라인’, 아시안게임 덕 톡톡',\n",
       " '홍준표 대구시장, 아시안게임 메달리스트 초청 격려',\n",
       " '아시안게임 메달 물결… 그 뒤엔 묵묵한 신한금융 후원',\n",
       " '2026 아시안게임 선수촌 안 짓는다…선수단, 호텔서 투숙할 듯',\n",
       " '\"국뽕 차오른다\"..아시안게임 선수들 탄 비행기 안내방송에 \\'울컥\\'',\n",
       " '최윤 OK금융 회장, 항저우서 아시안게임 비인지 종목 홍보 앞장']"
      ]
     },
     "execution_count": 51,
     "metadata": {},
     "output_type": "execute_result"
    }
   ],
   "source": [
    "title_list"
   ]
  },
  {
   "cell_type": "markdown",
   "id": "944d41c1",
   "metadata": {},
   "source": [
    "### 전체코드 하나로 합치기"
   ]
  },
  {
   "cell_type": "code",
   "execution_count": 53,
   "id": "860fc8c3",
   "metadata": {
    "ExecuteTime": {
     "end_time": "2023-10-11T06:39:13.776243Z",
     "start_time": "2023-10-11T06:38:17.322005Z"
    }
   },
   "outputs": [],
   "source": [
    "driver = wb.Chrome()\n",
    "driver.get('https://www.naver.com/')\n",
    "time.sleep(2)\n",
    "search = driver.find_element(By.ID,\"query\")\n",
    "search.send_keys('아시안게임')\n",
    "search.send_keys(Keys.ENTER)\n",
    "time.sleep(2)\n",
    "tab_btn = driver.find_element(By.CSS_SELECTOR, '#lnb > div.lnb_group > div > div.lnb_nav_area._nav_area_root > div > div.api_btn_page._nav_btn_root > div.btn_next._next > a')\n",
    "tab_btn.click()\n",
    "time.sleep(1)\n",
    "news = driver.find_element(By.CSS_SELECTOR, '#lnb > div.lnb_group > div > div.lnb_nav_area._nav_area_root > div > div.api_flicking_wrap._conveyer_root > div:nth-child(7) > a')\n",
    "news.click()\n",
    "time.sleep(2)\n",
    "\n",
    "title_list = []\n",
    "for i in range(10) :\n",
    "    title = driver.find_elements(By.CSS_SELECTOR, 'div.news_wrap.api_ani_send > div > a')\n",
    "    for j in title :\n",
    "        title_list.append(j.text)\n",
    "    body = driver.find_element(By.TAG_NAME, \"body\")\n",
    "    body.send_keys(Keys.END)\n",
    "    time.sleep(2)\n",
    "    next_btn = driver.find_element(By.CSS_SELECTOR, '#main_pack > div.api_sc_page_wrap > div > a.btn_next')\n",
    "    next_btn.click()\n",
    "    time.sleep(2)"
   ]
  },
  {
   "cell_type": "code",
   "execution_count": 54,
   "id": "9433ea8d",
   "metadata": {
    "ExecuteTime": {
     "end_time": "2023-10-11T06:39:28.576727Z",
     "start_time": "2023-10-11T06:39:28.561186Z"
    }
   },
   "outputs": [
    {
     "data": {
      "text/plain": [
       "100"
      ]
     },
     "execution_count": 54,
     "metadata": {},
     "output_type": "execute_result"
    }
   ],
   "source": [
    "len(title_list)"
   ]
  },
  {
   "cell_type": "code",
   "execution_count": null,
   "id": "ba777fe4",
   "metadata": {},
   "outputs": [],
   "source": []
  },
  {
   "cell_type": "code",
   "execution_count": null,
   "id": "e23ed34e",
   "metadata": {},
   "outputs": [],
   "source": []
  },
  {
   "cell_type": "code",
   "execution_count": null,
   "id": "5ed00571",
   "metadata": {},
   "outputs": [],
   "source": []
  },
  {
   "cell_type": "code",
   "execution_count": null,
   "id": "27e01b3b",
   "metadata": {},
   "outputs": [],
   "source": []
  },
  {
   "cell_type": "code",
   "execution_count": null,
   "id": "defa9cd1",
   "metadata": {},
   "outputs": [],
   "source": []
  },
  {
   "cell_type": "code",
   "execution_count": null,
   "id": "65f2cdee",
   "metadata": {},
   "outputs": [],
   "source": []
  },
  {
   "cell_type": "code",
   "execution_count": null,
   "id": "ce673439",
   "metadata": {},
   "outputs": [],
   "source": []
  },
  {
   "cell_type": "code",
   "execution_count": null,
   "id": "25bd600b",
   "metadata": {},
   "outputs": [],
   "source": []
  },
  {
   "cell_type": "code",
   "execution_count": null,
   "id": "e545b630",
   "metadata": {},
   "outputs": [],
   "source": []
  },
  {
   "cell_type": "code",
   "execution_count": null,
   "id": "002a79c9",
   "metadata": {},
   "outputs": [],
   "source": []
  },
  {
   "cell_type": "code",
   "execution_count": null,
   "id": "49c7a6ab",
   "metadata": {},
   "outputs": [],
   "source": []
  },
  {
   "cell_type": "code",
   "execution_count": null,
   "id": "0f5bba08",
   "metadata": {},
   "outputs": [],
   "source": []
  },
  {
   "cell_type": "code",
   "execution_count": null,
   "id": "864850b7",
   "metadata": {},
   "outputs": [],
   "source": []
  },
  {
   "cell_type": "code",
   "execution_count": null,
   "id": "b9400bfe",
   "metadata": {},
   "outputs": [],
   "source": []
  },
  {
   "cell_type": "code",
   "execution_count": null,
   "id": "5ec17b7c",
   "metadata": {},
   "outputs": [],
   "source": []
  },
  {
   "cell_type": "code",
   "execution_count": null,
   "id": "df198c5d",
   "metadata": {},
   "outputs": [],
   "source": []
  },
  {
   "cell_type": "code",
   "execution_count": null,
   "id": "154f5e09",
   "metadata": {},
   "outputs": [],
   "source": []
  },
  {
   "cell_type": "code",
   "execution_count": null,
   "id": "8133cbc1",
   "metadata": {},
   "outputs": [],
   "source": []
  },
  {
   "cell_type": "code",
   "execution_count": null,
   "id": "3d851169",
   "metadata": {},
   "outputs": [],
   "source": []
  },
  {
   "cell_type": "code",
   "execution_count": null,
   "id": "96844226",
   "metadata": {},
   "outputs": [],
   "source": []
  },
  {
   "cell_type": "code",
   "execution_count": null,
   "id": "424effab",
   "metadata": {},
   "outputs": [],
   "source": []
  },
  {
   "cell_type": "code",
   "execution_count": null,
   "id": "935ac0a5",
   "metadata": {},
   "outputs": [],
   "source": []
  },
  {
   "cell_type": "code",
   "execution_count": null,
   "id": "6c8466bd",
   "metadata": {},
   "outputs": [],
   "source": []
  },
  {
   "cell_type": "code",
   "execution_count": null,
   "id": "6b349ae8",
   "metadata": {},
   "outputs": [],
   "source": []
  },
  {
   "cell_type": "code",
   "execution_count": null,
   "id": "87014b7e",
   "metadata": {},
   "outputs": [],
   "source": []
  },
  {
   "cell_type": "code",
   "execution_count": null,
   "id": "ed34ef2d",
   "metadata": {},
   "outputs": [],
   "source": []
  },
  {
   "cell_type": "code",
   "execution_count": null,
   "id": "4e4dee19",
   "metadata": {},
   "outputs": [],
   "source": []
  },
  {
   "cell_type": "code",
   "execution_count": null,
   "id": "8012ac97",
   "metadata": {},
   "outputs": [],
   "source": []
  },
  {
   "cell_type": "code",
   "execution_count": null,
   "id": "6b8785b6",
   "metadata": {},
   "outputs": [],
   "source": []
  },
  {
   "cell_type": "code",
   "execution_count": null,
   "id": "ec7c8eb4",
   "metadata": {},
   "outputs": [],
   "source": []
  },
  {
   "cell_type": "code",
   "execution_count": null,
   "id": "ab380402",
   "metadata": {},
   "outputs": [],
   "source": []
  },
  {
   "cell_type": "code",
   "execution_count": null,
   "id": "2d71acdf",
   "metadata": {},
   "outputs": [],
   "source": []
  },
  {
   "cell_type": "code",
   "execution_count": null,
   "id": "8003e396",
   "metadata": {},
   "outputs": [],
   "source": []
  },
  {
   "cell_type": "code",
   "execution_count": null,
   "id": "1aed8f26",
   "metadata": {},
   "outputs": [],
   "source": []
  },
  {
   "cell_type": "code",
   "execution_count": null,
   "id": "7d47d8a2",
   "metadata": {},
   "outputs": [],
   "source": []
  },
  {
   "cell_type": "code",
   "execution_count": null,
   "id": "42c0b294",
   "metadata": {},
   "outputs": [],
   "source": []
  },
  {
   "cell_type": "code",
   "execution_count": null,
   "id": "d1a6b47c",
   "metadata": {},
   "outputs": [],
   "source": []
  },
  {
   "cell_type": "code",
   "execution_count": null,
   "id": "df3cb941",
   "metadata": {},
   "outputs": [],
   "source": []
  },
  {
   "cell_type": "code",
   "execution_count": null,
   "id": "5217aad0",
   "metadata": {},
   "outputs": [],
   "source": []
  },
  {
   "cell_type": "code",
   "execution_count": null,
   "id": "d00fa51e",
   "metadata": {},
   "outputs": [],
   "source": []
  },
  {
   "cell_type": "code",
   "execution_count": null,
   "id": "12e0f3b2",
   "metadata": {},
   "outputs": [],
   "source": []
  },
  {
   "cell_type": "code",
   "execution_count": null,
   "id": "80fcf1d5",
   "metadata": {},
   "outputs": [],
   "source": []
  },
  {
   "cell_type": "code",
   "execution_count": null,
   "id": "09f65263",
   "metadata": {},
   "outputs": [],
   "source": []
  },
  {
   "cell_type": "code",
   "execution_count": null,
   "id": "a58dd8af",
   "metadata": {},
   "outputs": [],
   "source": []
  },
  {
   "cell_type": "code",
   "execution_count": null,
   "id": "1abd6984",
   "metadata": {},
   "outputs": [],
   "source": []
  },
  {
   "cell_type": "code",
   "execution_count": null,
   "id": "4c48c090",
   "metadata": {},
   "outputs": [],
   "source": []
  },
  {
   "cell_type": "code",
   "execution_count": null,
   "id": "3f571f09",
   "metadata": {},
   "outputs": [],
   "source": []
  },
  {
   "cell_type": "code",
   "execution_count": null,
   "id": "2063dce4",
   "metadata": {},
   "outputs": [],
   "source": []
  },
  {
   "cell_type": "code",
   "execution_count": null,
   "id": "24c3f228",
   "metadata": {},
   "outputs": [],
   "source": []
  },
  {
   "cell_type": "code",
   "execution_count": null,
   "id": "4a3ac191",
   "metadata": {},
   "outputs": [],
   "source": []
  },
  {
   "cell_type": "code",
   "execution_count": null,
   "id": "27f1e6b7",
   "metadata": {},
   "outputs": [],
   "source": []
  },
  {
   "cell_type": "code",
   "execution_count": null,
   "id": "e2d9b853",
   "metadata": {},
   "outputs": [],
   "source": []
  },
  {
   "cell_type": "code",
   "execution_count": null,
   "id": "b67a18d2",
   "metadata": {},
   "outputs": [],
   "source": []
  },
  {
   "cell_type": "code",
   "execution_count": null,
   "id": "ca784a71",
   "metadata": {},
   "outputs": [],
   "source": []
  },
  {
   "cell_type": "code",
   "execution_count": null,
   "id": "afee51f7",
   "metadata": {},
   "outputs": [],
   "source": []
  },
  {
   "cell_type": "code",
   "execution_count": null,
   "id": "d6614b40",
   "metadata": {},
   "outputs": [],
   "source": []
  },
  {
   "cell_type": "code",
   "execution_count": null,
   "id": "3b535541",
   "metadata": {},
   "outputs": [],
   "source": []
  },
  {
   "cell_type": "code",
   "execution_count": null,
   "id": "514d41ce",
   "metadata": {},
   "outputs": [],
   "source": []
  },
  {
   "cell_type": "code",
   "execution_count": null,
   "id": "fa3a173a",
   "metadata": {},
   "outputs": [],
   "source": []
  },
  {
   "cell_type": "code",
   "execution_count": null,
   "id": "dfa686c0",
   "metadata": {},
   "outputs": [],
   "source": []
  },
  {
   "cell_type": "code",
   "execution_count": null,
   "id": "69361683",
   "metadata": {},
   "outputs": [],
   "source": []
  },
  {
   "cell_type": "code",
   "execution_count": null,
   "id": "77e06bed",
   "metadata": {},
   "outputs": [],
   "source": []
  },
  {
   "cell_type": "code",
   "execution_count": null,
   "id": "ce7324b0",
   "metadata": {},
   "outputs": [],
   "source": []
  },
  {
   "cell_type": "code",
   "execution_count": null,
   "id": "fd5caa95",
   "metadata": {},
   "outputs": [],
   "source": []
  },
  {
   "cell_type": "code",
   "execution_count": null,
   "id": "de019f64",
   "metadata": {},
   "outputs": [],
   "source": []
  },
  {
   "cell_type": "code",
   "execution_count": null,
   "id": "e1c5d283",
   "metadata": {},
   "outputs": [],
   "source": []
  },
  {
   "cell_type": "code",
   "execution_count": null,
   "id": "d357a4a2",
   "metadata": {},
   "outputs": [],
   "source": []
  },
  {
   "cell_type": "code",
   "execution_count": null,
   "id": "ba4edcf4",
   "metadata": {},
   "outputs": [],
   "source": []
  },
  {
   "cell_type": "code",
   "execution_count": null,
   "id": "efefac25",
   "metadata": {},
   "outputs": [],
   "source": []
  },
  {
   "cell_type": "code",
   "execution_count": null,
   "id": "661d44cb",
   "metadata": {},
   "outputs": [],
   "source": []
  },
  {
   "cell_type": "code",
   "execution_count": null,
   "id": "ec4c1d24",
   "metadata": {},
   "outputs": [],
   "source": []
  },
  {
   "cell_type": "code",
   "execution_count": null,
   "id": "6520b0fb",
   "metadata": {},
   "outputs": [],
   "source": []
  },
  {
   "cell_type": "code",
   "execution_count": null,
   "id": "862eb5a9",
   "metadata": {},
   "outputs": [],
   "source": []
  },
  {
   "cell_type": "code",
   "execution_count": null,
   "id": "11aad526",
   "metadata": {},
   "outputs": [],
   "source": []
  },
  {
   "cell_type": "code",
   "execution_count": null,
   "id": "6b1a6810",
   "metadata": {},
   "outputs": [],
   "source": []
  },
  {
   "cell_type": "code",
   "execution_count": null,
   "id": "3986da33",
   "metadata": {},
   "outputs": [],
   "source": []
  },
  {
   "cell_type": "code",
   "execution_count": null,
   "id": "09fa72a5",
   "metadata": {},
   "outputs": [],
   "source": []
  },
  {
   "cell_type": "code",
   "execution_count": null,
   "id": "5ea31817",
   "metadata": {},
   "outputs": [],
   "source": []
  },
  {
   "cell_type": "code",
   "execution_count": null,
   "id": "f6602efa",
   "metadata": {},
   "outputs": [],
   "source": []
  },
  {
   "cell_type": "code",
   "execution_count": null,
   "id": "4399b111",
   "metadata": {},
   "outputs": [],
   "source": []
  },
  {
   "cell_type": "code",
   "execution_count": null,
   "id": "85cf9fcd",
   "metadata": {},
   "outputs": [],
   "source": []
  },
  {
   "cell_type": "code",
   "execution_count": null,
   "id": "0d6f6c27",
   "metadata": {},
   "outputs": [],
   "source": []
  },
  {
   "cell_type": "code",
   "execution_count": null,
   "id": "057dee4a",
   "metadata": {},
   "outputs": [],
   "source": []
  },
  {
   "cell_type": "code",
   "execution_count": null,
   "id": "047231ba",
   "metadata": {},
   "outputs": [],
   "source": []
  },
  {
   "cell_type": "code",
   "execution_count": null,
   "id": "d00bc96d",
   "metadata": {},
   "outputs": [],
   "source": []
  },
  {
   "cell_type": "code",
   "execution_count": null,
   "id": "72c138ee",
   "metadata": {},
   "outputs": [],
   "source": []
  },
  {
   "cell_type": "code",
   "execution_count": null,
   "id": "0d06def3",
   "metadata": {},
   "outputs": [],
   "source": []
  },
  {
   "cell_type": "code",
   "execution_count": null,
   "id": "c2e2acef",
   "metadata": {},
   "outputs": [],
   "source": []
  },
  {
   "cell_type": "code",
   "execution_count": null,
   "id": "0b44f75d",
   "metadata": {},
   "outputs": [],
   "source": []
  },
  {
   "cell_type": "code",
   "execution_count": null,
   "id": "86cd5dec",
   "metadata": {},
   "outputs": [],
   "source": []
  }
 ],
 "metadata": {
  "kernelspec": {
   "display_name": "Python 3 (ipykernel)",
   "language": "python",
   "name": "python3"
  },
  "language_info": {
   "codemirror_mode": {
    "name": "ipython",
    "version": 3
   },
   "file_extension": ".py",
   "mimetype": "text/x-python",
   "name": "python",
   "nbconvert_exporter": "python",
   "pygments_lexer": "ipython3",
   "version": "3.11.3"
  },
  "toc": {
   "base_numbering": 1,
   "nav_menu": {},
   "number_sections": true,
   "sideBar": true,
   "skip_h1_title": false,
   "title_cell": "Table of Contents",
   "title_sidebar": "Contents",
   "toc_cell": false,
   "toc_position": {},
   "toc_section_display": true,
   "toc_window_display": false
  }
 },
 "nbformat": 4,
 "nbformat_minor": 5
}
