{
 "cells": [
  {
   "cell_type": "code",
   "execution_count": null,
   "id": "2c003901",
   "metadata": {},
   "outputs": [],
   "source": [
    "# 네이버페이지 열기\n",
    "# 검색창에 키워드입력후 검색\n",
    "# 이미지 탭 클릭\n",
    "# 이미지데이터 저장\n",
    "# 폴더 생성 "
   ]
  },
  {
   "cell_type": "code",
   "execution_count": 2,
   "id": "b48beb6f",
   "metadata": {
    "ExecuteTime": {
     "end_time": "2023-10-12T02:14:40.573561Z",
     "start_time": "2023-10-12T02:14:40.569906Z"
    }
   },
   "outputs": [],
   "source": [
    "# 파일시스템을 위한 라이브러리 / 파일 폴더 생성할때 사용하는 라이브러리\n",
    "import os # Operating System\n",
    "from selenium import webdriver as wb\n",
    "from selenium.webdriver.common.by import By\n",
    "from selenium.webdriver.common.keys import Keys\n",
    "from bs4 import BeautifulSoup as bs\n",
    "import time\n",
    "import pandas as pd\n",
    "# 이미지의 경로를 파일로 변경해주는 라이브러리\n",
    "from urllib.request import urlretrieve  \n"
   ]
  },
  {
   "cell_type": "code",
   "execution_count": 3,
   "id": "559272b9",
   "metadata": {
    "ExecuteTime": {
     "end_time": "2023-10-12T02:14:44.445399Z",
     "start_time": "2023-10-12T02:14:42.097451Z"
    }
   },
   "outputs": [
    {
     "name": "stdout",
     "output_type": "stream",
     "text": [
      "폴더 생성 완료\n"
     ]
    }
   ],
   "source": [
    "# os 라이브러리를 활용해서 폴더 생성\n",
    "directory_path = '/Users/sinhyeonjin/Downloads/짱구'\n",
    "\n",
    "# 디렉토리가 이미 존재하지 않는 경우에만 생성\n",
    "if not os.path.exists(directory_path):\n",
    "    os.mkdir(directory_path)\n",
    "    print('폴더 생성 완료')\n",
    "else:\n",
    "    print('폴더 이미 존재합니다.')\n",
    "    \n",
    "    \n",
    "# 네이바 사이트 열기\n",
    "driver = wb.Chrome()\n",
    "driver.get('https://search.naver.com/search.naver?where=image&section=image&query=%EC%A7%B1%EA%B5%AC%20%ED%94%84%EC%82%AC&res_fr=0&res_to=0&sm=tab_itg&color=&ccl=0&nso=so%3Ar%2Ca%3Aall%2Cp%3Aall&recent=0&datetype=0&startdate=0&enddate=0&gif=0&optStr=&nso_open=0&pq=%EC%A7%B1%EA%B5%AC')  \n",
    "\n"
   ]
  },
  {
   "cell_type": "code",
   "execution_count": 15,
   "id": "a324e702",
   "metadata": {
    "ExecuteTime": {
     "end_time": "2023-10-12T03:13:48.590926Z",
     "start_time": "2023-10-12T03:13:27.219690Z"
    }
   },
   "outputs": [],
   "source": [
    "# 스크롤 내리기 \n",
    "body = driver.find_element(By.CSS_SELECTOR, \"body\")\n",
    "for i in range(20):\n",
    "    body.send_keys(Keys.END) \n",
    "    time.sleep(1)\n",
    "    \n",
    "# 속성값 추출을 위해서 bs 객체화 \n",
    "# bs(페이지정보, 파싱방법)\n",
    "soup = bs(driver.page_source,'lxml')\n",
    "    \n",
    "\n",
    "img = soup.select('img.img-fluid')\n",
    "    \n"
   ]
  },
  {
   "cell_type": "code",
   "execution_count": 8,
   "id": "b0303586",
   "metadata": {
    "ExecuteTime": {
     "end_time": "2023-10-12T02:16:00.533864Z",
     "start_time": "2023-10-12T02:16:00.226304Z"
    }
   },
   "outputs": [
    {
     "data": {
      "text/plain": [
       "481"
      ]
     },
     "execution_count": 8,
     "metadata": {},
     "output_type": "execute_result"
    }
   ],
   "source": [
    "# 속성값 추출을 위해서 bs 객체화 \n",
    "# bs(페이지정보, 파싱방법)\n",
    "soup = bs(driver.page_source,'lxml')\n",
    "    \n",
    "\n",
    "img = soup.select('img._image._listImage')\n"
   ]
  },
  {
   "cell_type": "code",
   "execution_count": 10,
   "id": "74c6276b",
   "metadata": {
    "ExecuteTime": {
     "end_time": "2023-10-12T02:18:02.024008Z",
     "start_time": "2023-10-12T02:18:02.020629Z"
    }
   },
   "outputs": [
    {
     "data": {
      "text/plain": [
       "'https://search.pstatic.net/common/?src=http%3A%2F%2Fblogfiles.naver.net%2FMjAyMzAzMTJfMjgg%2FMDAxNjc4NjMwOTkxNDI4.XHM_R3P4LwLg9JbQl-luL-FLJ3fmJGlysW6K60HCysog.feZj1W0NAehuChPr9YPnBAHyIdf_Kg6Lntjs9D-xDNQg.JPEG.kis2092%2FIMG_3258.JPG&type=a340'"
      ]
     },
     "execution_count": 10,
     "metadata": {},
     "output_type": "execute_result"
    }
   ],
   "source": []
  },
  {
   "cell_type": "code",
   "execution_count": 11,
   "id": "4479ce9d",
   "metadata": {
    "ExecuteTime": {
     "end_time": "2023-10-12T02:18:11.864741Z",
     "start_time": "2023-10-12T02:18:11.861474Z"
    }
   },
   "outputs": [],
   "source": [
    "# 순수한 src 주소를 담은 리스트\n",
    "\n",
    "img_list = []\n",
    "for i in img:\n",
    "    img_list.append(i['src'])\n",
    "    \n",
    "\n"
   ]
  },
  {
   "cell_type": "code",
   "execution_count": 13,
   "id": "026de674",
   "metadata": {
    "ExecuteTime": {
     "end_time": "2023-10-12T02:20:43.571514Z",
     "start_time": "2023-10-12T02:19:36.783660Z"
    }
   },
   "outputs": [],
   "source": [
    "\n",
    "for i in range(len(img)):\n",
    "    urlretrieve(img_list[i],f'/Users/sinhyeonjin/Downloads/짱구/짱구{i+1}.jpg')"
   ]
  },
  {
   "cell_type": "code",
   "execution_count": null,
   "id": "f4ca6928",
   "metadata": {},
   "outputs": [],
   "source": []
  },
  {
   "cell_type": "code",
   "execution_count": null,
   "id": "bf06d7eb",
   "metadata": {},
   "outputs": [],
   "source": []
  },
  {
   "cell_type": "code",
   "execution_count": null,
   "id": "cc14da47",
   "metadata": {},
   "outputs": [],
   "source": []
  },
  {
   "cell_type": "code",
   "execution_count": null,
   "id": "06b19337",
   "metadata": {},
   "outputs": [],
   "source": []
  },
  {
   "cell_type": "code",
   "execution_count": null,
   "id": "b18a07c0",
   "metadata": {},
   "outputs": [],
   "source": []
  },
  {
   "cell_type": "code",
   "execution_count": null,
   "id": "0a22cf1b",
   "metadata": {},
   "outputs": [],
   "source": []
  }
 ],
 "metadata": {
  "kernelspec": {
   "display_name": "Python 3 (ipykernel)",
   "language": "python",
   "name": "python3"
  },
  "language_info": {
   "codemirror_mode": {
    "name": "ipython",
    "version": 3
   },
   "file_extension": ".py",
   "mimetype": "text/x-python",
   "name": "python",
   "nbconvert_exporter": "python",
   "pygments_lexer": "ipython3",
   "version": "3.11.3"
  },
  "toc": {
   "base_numbering": 1,
   "nav_menu": {},
   "number_sections": true,
   "sideBar": true,
   "skip_h1_title": false,
   "title_cell": "Table of Contents",
   "title_sidebar": "Contents",
   "toc_cell": false,
   "toc_position": {},
   "toc_section_display": true,
   "toc_window_display": false
  }
 },
 "nbformat": 4,
 "nbformat_minor": 5
}
