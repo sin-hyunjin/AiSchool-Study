{
 "cells": [
  {
   "cell_type": "code",
   "execution_count": 1,
   "id": "c6c46f34",
   "metadata": {
    "ExecuteTime": {
     "end_time": "2023-10-11T07:34:57.459974Z",
     "start_time": "2023-10-11T07:34:56.852402Z"
    }
   },
   "outputs": [],
   "source": [
    "from selenium import webdriver as wb\n",
    "from selenium.webdriver.common.by import By\n",
    "from selenium.webdriver.common.keys import Keys\n",
    "import pandas as pd\n",
    "import time\n",
    "from tqdm import tqdm_notebook as tq"
   ]
  },
  {
   "cell_type": "code",
   "execution_count": 3,
   "id": "88f9789f",
   "metadata": {
    "ExecuteTime": {
     "end_time": "2023-10-11T07:35:03.089015Z",
     "start_time": "2023-10-11T07:35:01.160587Z"
    }
   },
   "outputs": [],
   "source": [
    "driver = wb.Chrome()\n",
    "driver.get('https://map.naver.com/p?c=15.00,0,0,0,dh')"
   ]
  },
  {
   "cell_type": "code",
   "execution_count": 4,
   "id": "2aefefb4",
   "metadata": {
    "ExecuteTime": {
     "end_time": "2023-10-11T07:35:08.745704Z",
     "start_time": "2023-10-11T07:35:08.611118Z"
    }
   },
   "outputs": [],
   "source": [
    "# 검색창에 동명동 맛집 검색\n",
    "# 검색창의 id값이 매번 변경되므로, class를 활용한다.\n",
    "search = driver.find_element(By.CSS_SELECTOR, 'input.input_search')\n",
    "search.send_keys(\"동명동맛집\")\n",
    "search.send_keys(Keys.ENTER)"
   ]
  },
  {
   "cell_type": "code",
   "execution_count": null,
   "id": "5593b4b3",
   "metadata": {
    "ExecuteTime": {
     "end_time": "2023-10-11T07:34:59.366165Z",
     "start_time": "2023-10-11T07:34:59.366165Z"
    }
   },
   "outputs": [],
   "source": [
    "# 클릭할 가게 이름 수집\n",
    "# 선택이 되지 않은 이유는 = 데이터가 iframe으로 감싸져 있기 때문에.\n",
    "# 어떻게 ? 바라보는 html창을 iframe창으로 이동\n",
    "name = driver.find_elements(By.CSS_SELECTOR, 'span.place_bluelink.TYaxT')\n",
    "name[0].text"
   ]
  },
  {
   "cell_type": "code",
   "execution_count": 5,
   "id": "f3568e53",
   "metadata": {
    "ExecuteTime": {
     "end_time": "2023-10-11T07:35:17.295625Z",
     "start_time": "2023-10-11T07:35:17.256386Z"
    }
   },
   "outputs": [],
   "source": [
    "driver.switch_to.frame(\"searchIframe\")\n",
    "# driver.switch_to.frame(\"searchIframe\") 아이디를 검사하겠다는 뜻이므르 따로 선택자를 작성하지 않고 id를 입력하면 된다."
   ]
  },
  {
   "cell_type": "code",
   "execution_count": 6,
   "id": "b15e2331",
   "metadata": {
    "ExecuteTime": {
     "end_time": "2023-10-11T07:35:22.686699Z",
     "start_time": "2023-10-11T07:35:22.584727Z"
    }
   },
   "outputs": [],
   "source": [
    "name = driver.find_elements(By.CSS_SELECTOR, 'span.place_bluelink.TYaxT')\n",
    "name[0].click()"
   ]
  },
  {
   "cell_type": "code",
   "execution_count": 8,
   "id": "4aa303b3",
   "metadata": {
    "ExecuteTime": {
     "end_time": "2023-10-11T07:36:37.871649Z",
     "start_time": "2023-10-11T07:36:37.794034Z"
    }
   },
   "outputs": [
    {
     "ename": "NoSuchElementException",
     "evalue": "Message: no such element: Unable to locate element: {\"method\":\"css selector\",\"selector\":\"span.Fc1rA\"}\n  (Session info: chrome=117.0.5938.150); For documentation on this error, please visit: https://www.selenium.dev/documentation/webdriver/troubleshooting/errors#no-such-element-exception\nStacktrace:\n\tGetHandleVerifier [0x00007FF7C5F27D12+55474]\n\t(No symbol) [0x00007FF7C5E977C2]\n\t(No symbol) [0x00007FF7C5D4E0EB]\n\t(No symbol) [0x00007FF7C5D8EBAC]\n\t(No symbol) [0x00007FF7C5D8ED2C]\n\t(No symbol) [0x00007FF7C5DC9F77]\n\t(No symbol) [0x00007FF7C5DAF19F]\n\t(No symbol) [0x00007FF7C5DC7EF2]\n\t(No symbol) [0x00007FF7C5DAEF33]\n\t(No symbol) [0x00007FF7C5D83D41]\n\t(No symbol) [0x00007FF7C5D84F84]\n\tGetHandleVerifier [0x00007FF7C628B762+3609346]\n\tGetHandleVerifier [0x00007FF7C62E1A80+3962400]\n\tGetHandleVerifier [0x00007FF7C62D9F0F+3930799]\n\tGetHandleVerifier [0x00007FF7C5FC3CA6+694342]\n\t(No symbol) [0x00007FF7C5EA2218]\n\t(No symbol) [0x00007FF7C5E9E484]\n\t(No symbol) [0x00007FF7C5E9E5B2]\n\t(No symbol) [0x00007FF7C5E8EE13]\n\tBaseThreadInitThunk [0x00007FF93F35257D+29]\n\tRtlUserThreadStart [0x00007FF940FCAA68+40]\n",
     "output_type": "error",
     "traceback": [
      "\u001b[1;31m---------------------------------------------------------------------------\u001b[0m",
      "\u001b[1;31mNoSuchElementException\u001b[0m                    Traceback (most recent call last)",
      "Cell \u001b[1;32mIn[8], line 2\u001b[0m\n\u001b[0;32m      1\u001b[0m \u001b[38;5;66;03m# 상세페이지에서 가게이름 수집\u001b[39;00m\n\u001b[1;32m----> 2\u001b[0m \u001b[43mdriver\u001b[49m\u001b[38;5;241;43m.\u001b[39;49m\u001b[43mfind_element\u001b[49m\u001b[43m(\u001b[49m\u001b[43mBy\u001b[49m\u001b[38;5;241;43m.\u001b[39;49m\u001b[43mCSS_SELECTOR\u001b[49m\u001b[43m,\u001b[49m\u001b[38;5;124;43m\"\u001b[39;49m\u001b[38;5;124;43mspan.Fc1rA\u001b[39;49m\u001b[38;5;124;43m\"\u001b[39;49m\u001b[43m)\u001b[49m\n",
      "File \u001b[1;32m~\\anaconda3\\lib\\site-packages\\selenium\\webdriver\\remote\\webdriver.py:738\u001b[0m, in \u001b[0;36mWebDriver.find_element\u001b[1;34m(self, by, value)\u001b[0m\n\u001b[0;32m    735\u001b[0m     by \u001b[38;5;241m=\u001b[39m By\u001b[38;5;241m.\u001b[39mCSS_SELECTOR\n\u001b[0;32m    736\u001b[0m     value \u001b[38;5;241m=\u001b[39m \u001b[38;5;124mf\u001b[39m\u001b[38;5;124m'\u001b[39m\u001b[38;5;124m[name=\u001b[39m\u001b[38;5;124m\"\u001b[39m\u001b[38;5;132;01m{\u001b[39;00mvalue\u001b[38;5;132;01m}\u001b[39;00m\u001b[38;5;124m\"\u001b[39m\u001b[38;5;124m]\u001b[39m\u001b[38;5;124m'\u001b[39m\n\u001b[1;32m--> 738\u001b[0m \u001b[38;5;28;01mreturn\u001b[39;00m \u001b[38;5;28;43mself\u001b[39;49m\u001b[38;5;241;43m.\u001b[39;49m\u001b[43mexecute\u001b[49m\u001b[43m(\u001b[49m\u001b[43mCommand\u001b[49m\u001b[38;5;241;43m.\u001b[39;49m\u001b[43mFIND_ELEMENT\u001b[49m\u001b[43m,\u001b[49m\u001b[43m \u001b[49m\u001b[43m{\u001b[49m\u001b[38;5;124;43m\"\u001b[39;49m\u001b[38;5;124;43musing\u001b[39;49m\u001b[38;5;124;43m\"\u001b[39;49m\u001b[43m:\u001b[49m\u001b[43m \u001b[49m\u001b[43mby\u001b[49m\u001b[43m,\u001b[49m\u001b[43m \u001b[49m\u001b[38;5;124;43m\"\u001b[39;49m\u001b[38;5;124;43mvalue\u001b[39;49m\u001b[38;5;124;43m\"\u001b[39;49m\u001b[43m:\u001b[49m\u001b[43m \u001b[49m\u001b[43mvalue\u001b[49m\u001b[43m}\u001b[49m\u001b[43m)\u001b[49m[\u001b[38;5;124m\"\u001b[39m\u001b[38;5;124mvalue\u001b[39m\u001b[38;5;124m\"\u001b[39m]\n",
      "File \u001b[1;32m~\\anaconda3\\lib\\site-packages\\selenium\\webdriver\\remote\\webdriver.py:344\u001b[0m, in \u001b[0;36mWebDriver.execute\u001b[1;34m(self, driver_command, params)\u001b[0m\n\u001b[0;32m    342\u001b[0m response \u001b[38;5;241m=\u001b[39m \u001b[38;5;28mself\u001b[39m\u001b[38;5;241m.\u001b[39mcommand_executor\u001b[38;5;241m.\u001b[39mexecute(driver_command, params)\n\u001b[0;32m    343\u001b[0m \u001b[38;5;28;01mif\u001b[39;00m response:\n\u001b[1;32m--> 344\u001b[0m     \u001b[38;5;28;43mself\u001b[39;49m\u001b[38;5;241;43m.\u001b[39;49m\u001b[43merror_handler\u001b[49m\u001b[38;5;241;43m.\u001b[39;49m\u001b[43mcheck_response\u001b[49m\u001b[43m(\u001b[49m\u001b[43mresponse\u001b[49m\u001b[43m)\u001b[49m\n\u001b[0;32m    345\u001b[0m     response[\u001b[38;5;124m\"\u001b[39m\u001b[38;5;124mvalue\u001b[39m\u001b[38;5;124m\"\u001b[39m] \u001b[38;5;241m=\u001b[39m \u001b[38;5;28mself\u001b[39m\u001b[38;5;241m.\u001b[39m_unwrap_value(response\u001b[38;5;241m.\u001b[39mget(\u001b[38;5;124m\"\u001b[39m\u001b[38;5;124mvalue\u001b[39m\u001b[38;5;124m\"\u001b[39m, \u001b[38;5;28;01mNone\u001b[39;00m))\n\u001b[0;32m    346\u001b[0m     \u001b[38;5;28;01mreturn\u001b[39;00m response\n",
      "File \u001b[1;32m~\\anaconda3\\lib\\site-packages\\selenium\\webdriver\\remote\\errorhandler.py:229\u001b[0m, in \u001b[0;36mErrorHandler.check_response\u001b[1;34m(self, response)\u001b[0m\n\u001b[0;32m    227\u001b[0m         alert_text \u001b[38;5;241m=\u001b[39m value[\u001b[38;5;124m\"\u001b[39m\u001b[38;5;124malert\u001b[39m\u001b[38;5;124m\"\u001b[39m]\u001b[38;5;241m.\u001b[39mget(\u001b[38;5;124m\"\u001b[39m\u001b[38;5;124mtext\u001b[39m\u001b[38;5;124m\"\u001b[39m)\n\u001b[0;32m    228\u001b[0m     \u001b[38;5;28;01mraise\u001b[39;00m exception_class(message, screen, stacktrace, alert_text)  \u001b[38;5;66;03m# type: ignore[call-arg]  # mypy is not smart enough here\u001b[39;00m\n\u001b[1;32m--> 229\u001b[0m \u001b[38;5;28;01mraise\u001b[39;00m exception_class(message, screen, stacktrace)\n",
      "\u001b[1;31mNoSuchElementException\u001b[0m: Message: no such element: Unable to locate element: {\"method\":\"css selector\",\"selector\":\"span.Fc1rA\"}\n  (Session info: chrome=117.0.5938.150); For documentation on this error, please visit: https://www.selenium.dev/documentation/webdriver/troubleshooting/errors#no-such-element-exception\nStacktrace:\n\tGetHandleVerifier [0x00007FF7C5F27D12+55474]\n\t(No symbol) [0x00007FF7C5E977C2]\n\t(No symbol) [0x00007FF7C5D4E0EB]\n\t(No symbol) [0x00007FF7C5D8EBAC]\n\t(No symbol) [0x00007FF7C5D8ED2C]\n\t(No symbol) [0x00007FF7C5DC9F77]\n\t(No symbol) [0x00007FF7C5DAF19F]\n\t(No symbol) [0x00007FF7C5DC7EF2]\n\t(No symbol) [0x00007FF7C5DAEF33]\n\t(No symbol) [0x00007FF7C5D83D41]\n\t(No symbol) [0x00007FF7C5D84F84]\n\tGetHandleVerifier [0x00007FF7C628B762+3609346]\n\tGetHandleVerifier [0x00007FF7C62E1A80+3962400]\n\tGetHandleVerifier [0x00007FF7C62D9F0F+3930799]\n\tGetHandleVerifier [0x00007FF7C5FC3CA6+694342]\n\t(No symbol) [0x00007FF7C5EA2218]\n\t(No symbol) [0x00007FF7C5E9E484]\n\t(No symbol) [0x00007FF7C5E9E5B2]\n\t(No symbol) [0x00007FF7C5E8EE13]\n\tBaseThreadInitThunk [0x00007FF93F35257D+29]\n\tRtlUserThreadStart [0x00007FF940FCAA68+40]\n"
     ]
    }
   ],
   "source": [
    "# 상세페이지에서 가게이름 수집\n",
    "title = driver.find_element(By.CSS_SELECTOR,\"span.Fc1rA\")\n",
    "title.text"
   ]
  },
  {
   "cell_type": "code",
   "execution_count": 9,
   "id": "0fa06ab0",
   "metadata": {
    "ExecuteTime": {
     "end_time": "2023-10-11T07:36:57.200241Z",
     "start_time": "2023-10-11T07:36:57.048993Z"
    }
   },
   "outputs": [
    {
     "ename": "NoSuchFrameException",
     "evalue": "Message: entryIframe\n",
     "output_type": "error",
     "traceback": [
      "\u001b[1;31m---------------------------------------------------------------------------\u001b[0m",
      "\u001b[1;31mNoSuchElementException\u001b[0m                    Traceback (most recent call last)",
      "File \u001b[1;32m~\\anaconda3\\lib\\site-packages\\selenium\\webdriver\\remote\\switch_to.py:88\u001b[0m, in \u001b[0;36mSwitchTo.frame\u001b[1;34m(self, frame_reference)\u001b[0m\n\u001b[0;32m     87\u001b[0m \u001b[38;5;28;01mtry\u001b[39;00m:\n\u001b[1;32m---> 88\u001b[0m     frame_reference \u001b[38;5;241m=\u001b[39m \u001b[38;5;28;43mself\u001b[39;49m\u001b[38;5;241;43m.\u001b[39;49m\u001b[43m_driver\u001b[49m\u001b[38;5;241;43m.\u001b[39;49m\u001b[43mfind_element\u001b[49m\u001b[43m(\u001b[49m\u001b[43mBy\u001b[49m\u001b[38;5;241;43m.\u001b[39;49m\u001b[43mID\u001b[49m\u001b[43m,\u001b[49m\u001b[43m \u001b[49m\u001b[43mframe_reference\u001b[49m\u001b[43m)\u001b[49m\n\u001b[0;32m     89\u001b[0m \u001b[38;5;28;01mexcept\u001b[39;00m NoSuchElementException:\n",
      "File \u001b[1;32m~\\anaconda3\\lib\\site-packages\\selenium\\webdriver\\remote\\webdriver.py:738\u001b[0m, in \u001b[0;36mWebDriver.find_element\u001b[1;34m(self, by, value)\u001b[0m\n\u001b[0;32m    736\u001b[0m     value \u001b[38;5;241m=\u001b[39m \u001b[38;5;124mf\u001b[39m\u001b[38;5;124m'\u001b[39m\u001b[38;5;124m[name=\u001b[39m\u001b[38;5;124m\"\u001b[39m\u001b[38;5;132;01m{\u001b[39;00mvalue\u001b[38;5;132;01m}\u001b[39;00m\u001b[38;5;124m\"\u001b[39m\u001b[38;5;124m]\u001b[39m\u001b[38;5;124m'\u001b[39m\n\u001b[1;32m--> 738\u001b[0m \u001b[38;5;28;01mreturn\u001b[39;00m \u001b[38;5;28;43mself\u001b[39;49m\u001b[38;5;241;43m.\u001b[39;49m\u001b[43mexecute\u001b[49m\u001b[43m(\u001b[49m\u001b[43mCommand\u001b[49m\u001b[38;5;241;43m.\u001b[39;49m\u001b[43mFIND_ELEMENT\u001b[49m\u001b[43m,\u001b[49m\u001b[43m \u001b[49m\u001b[43m{\u001b[49m\u001b[38;5;124;43m\"\u001b[39;49m\u001b[38;5;124;43musing\u001b[39;49m\u001b[38;5;124;43m\"\u001b[39;49m\u001b[43m:\u001b[49m\u001b[43m \u001b[49m\u001b[43mby\u001b[49m\u001b[43m,\u001b[49m\u001b[43m \u001b[49m\u001b[38;5;124;43m\"\u001b[39;49m\u001b[38;5;124;43mvalue\u001b[39;49m\u001b[38;5;124;43m\"\u001b[39;49m\u001b[43m:\u001b[49m\u001b[43m \u001b[49m\u001b[43mvalue\u001b[49m\u001b[43m}\u001b[49m\u001b[43m)\u001b[49m[\u001b[38;5;124m\"\u001b[39m\u001b[38;5;124mvalue\u001b[39m\u001b[38;5;124m\"\u001b[39m]\n",
      "File \u001b[1;32m~\\anaconda3\\lib\\site-packages\\selenium\\webdriver\\remote\\webdriver.py:344\u001b[0m, in \u001b[0;36mWebDriver.execute\u001b[1;34m(self, driver_command, params)\u001b[0m\n\u001b[0;32m    343\u001b[0m \u001b[38;5;28;01mif\u001b[39;00m response:\n\u001b[1;32m--> 344\u001b[0m     \u001b[38;5;28;43mself\u001b[39;49m\u001b[38;5;241;43m.\u001b[39;49m\u001b[43merror_handler\u001b[49m\u001b[38;5;241;43m.\u001b[39;49m\u001b[43mcheck_response\u001b[49m\u001b[43m(\u001b[49m\u001b[43mresponse\u001b[49m\u001b[43m)\u001b[49m\n\u001b[0;32m    345\u001b[0m     response[\u001b[38;5;124m\"\u001b[39m\u001b[38;5;124mvalue\u001b[39m\u001b[38;5;124m\"\u001b[39m] \u001b[38;5;241m=\u001b[39m \u001b[38;5;28mself\u001b[39m\u001b[38;5;241m.\u001b[39m_unwrap_value(response\u001b[38;5;241m.\u001b[39mget(\u001b[38;5;124m\"\u001b[39m\u001b[38;5;124mvalue\u001b[39m\u001b[38;5;124m\"\u001b[39m, \u001b[38;5;28;01mNone\u001b[39;00m))\n",
      "File \u001b[1;32m~\\anaconda3\\lib\\site-packages\\selenium\\webdriver\\remote\\errorhandler.py:229\u001b[0m, in \u001b[0;36mErrorHandler.check_response\u001b[1;34m(self, response)\u001b[0m\n\u001b[0;32m    228\u001b[0m     \u001b[38;5;28;01mraise\u001b[39;00m exception_class(message, screen, stacktrace, alert_text)  \u001b[38;5;66;03m# type: ignore[call-arg]  # mypy is not smart enough here\u001b[39;00m\n\u001b[1;32m--> 229\u001b[0m \u001b[38;5;28;01mraise\u001b[39;00m exception_class(message, screen, stacktrace)\n",
      "\u001b[1;31mNoSuchElementException\u001b[0m: Message: no such element: Unable to locate element: {\"method\":\"css selector\",\"selector\":\"[id=\"entryIframe\"]\"}\n  (Session info: chrome=117.0.5938.150); For documentation on this error, please visit: https://www.selenium.dev/documentation/webdriver/troubleshooting/errors#no-such-element-exception\nStacktrace:\n\tGetHandleVerifier [0x00007FF7C5F27D12+55474]\n\t(No symbol) [0x00007FF7C5E977C2]\n\t(No symbol) [0x00007FF7C5D4E0EB]\n\t(No symbol) [0x00007FF7C5D8EBAC]\n\t(No symbol) [0x00007FF7C5D8ED2C]\n\t(No symbol) [0x00007FF7C5DC9F77]\n\t(No symbol) [0x00007FF7C5DAF19F]\n\t(No symbol) [0x00007FF7C5DC7EF2]\n\t(No symbol) [0x00007FF7C5DAEF33]\n\t(No symbol) [0x00007FF7C5D83D41]\n\t(No symbol) [0x00007FF7C5D84F84]\n\tGetHandleVerifier [0x00007FF7C628B762+3609346]\n\tGetHandleVerifier [0x00007FF7C62E1A80+3962400]\n\tGetHandleVerifier [0x00007FF7C62D9F0F+3930799]\n\tGetHandleVerifier [0x00007FF7C5FC3CA6+694342]\n\t(No symbol) [0x00007FF7C5EA2218]\n\t(No symbol) [0x00007FF7C5E9E484]\n\t(No symbol) [0x00007FF7C5E9E5B2]\n\t(No symbol) [0x00007FF7C5E8EE13]\n\tBaseThreadInitThunk [0x00007FF93F35257D+29]\n\tRtlUserThreadStart [0x00007FF940FCAA68+40]\n",
      "\nDuring handling of the above exception, another exception occurred:\n",
      "\u001b[1;31mNoSuchElementException\u001b[0m                    Traceback (most recent call last)",
      "File \u001b[1;32m~\\anaconda3\\lib\\site-packages\\selenium\\webdriver\\remote\\switch_to.py:91\u001b[0m, in \u001b[0;36mSwitchTo.frame\u001b[1;34m(self, frame_reference)\u001b[0m\n\u001b[0;32m     90\u001b[0m \u001b[38;5;28;01mtry\u001b[39;00m:\n\u001b[1;32m---> 91\u001b[0m     frame_reference \u001b[38;5;241m=\u001b[39m \u001b[38;5;28;43mself\u001b[39;49m\u001b[38;5;241;43m.\u001b[39;49m\u001b[43m_driver\u001b[49m\u001b[38;5;241;43m.\u001b[39;49m\u001b[43mfind_element\u001b[49m\u001b[43m(\u001b[49m\u001b[43mBy\u001b[49m\u001b[38;5;241;43m.\u001b[39;49m\u001b[43mNAME\u001b[49m\u001b[43m,\u001b[49m\u001b[43m \u001b[49m\u001b[43mframe_reference\u001b[49m\u001b[43m)\u001b[49m\n\u001b[0;32m     92\u001b[0m \u001b[38;5;28;01mexcept\u001b[39;00m NoSuchElementException \u001b[38;5;28;01mas\u001b[39;00m exc:\n",
      "File \u001b[1;32m~\\anaconda3\\lib\\site-packages\\selenium\\webdriver\\remote\\webdriver.py:738\u001b[0m, in \u001b[0;36mWebDriver.find_element\u001b[1;34m(self, by, value)\u001b[0m\n\u001b[0;32m    736\u001b[0m     value \u001b[38;5;241m=\u001b[39m \u001b[38;5;124mf\u001b[39m\u001b[38;5;124m'\u001b[39m\u001b[38;5;124m[name=\u001b[39m\u001b[38;5;124m\"\u001b[39m\u001b[38;5;132;01m{\u001b[39;00mvalue\u001b[38;5;132;01m}\u001b[39;00m\u001b[38;5;124m\"\u001b[39m\u001b[38;5;124m]\u001b[39m\u001b[38;5;124m'\u001b[39m\n\u001b[1;32m--> 738\u001b[0m \u001b[38;5;28;01mreturn\u001b[39;00m \u001b[38;5;28;43mself\u001b[39;49m\u001b[38;5;241;43m.\u001b[39;49m\u001b[43mexecute\u001b[49m\u001b[43m(\u001b[49m\u001b[43mCommand\u001b[49m\u001b[38;5;241;43m.\u001b[39;49m\u001b[43mFIND_ELEMENT\u001b[49m\u001b[43m,\u001b[49m\u001b[43m \u001b[49m\u001b[43m{\u001b[49m\u001b[38;5;124;43m\"\u001b[39;49m\u001b[38;5;124;43musing\u001b[39;49m\u001b[38;5;124;43m\"\u001b[39;49m\u001b[43m:\u001b[49m\u001b[43m \u001b[49m\u001b[43mby\u001b[49m\u001b[43m,\u001b[49m\u001b[43m \u001b[49m\u001b[38;5;124;43m\"\u001b[39;49m\u001b[38;5;124;43mvalue\u001b[39;49m\u001b[38;5;124;43m\"\u001b[39;49m\u001b[43m:\u001b[49m\u001b[43m \u001b[49m\u001b[43mvalue\u001b[49m\u001b[43m}\u001b[49m\u001b[43m)\u001b[49m[\u001b[38;5;124m\"\u001b[39m\u001b[38;5;124mvalue\u001b[39m\u001b[38;5;124m\"\u001b[39m]\n",
      "File \u001b[1;32m~\\anaconda3\\lib\\site-packages\\selenium\\webdriver\\remote\\webdriver.py:344\u001b[0m, in \u001b[0;36mWebDriver.execute\u001b[1;34m(self, driver_command, params)\u001b[0m\n\u001b[0;32m    343\u001b[0m \u001b[38;5;28;01mif\u001b[39;00m response:\n\u001b[1;32m--> 344\u001b[0m     \u001b[38;5;28;43mself\u001b[39;49m\u001b[38;5;241;43m.\u001b[39;49m\u001b[43merror_handler\u001b[49m\u001b[38;5;241;43m.\u001b[39;49m\u001b[43mcheck_response\u001b[49m\u001b[43m(\u001b[49m\u001b[43mresponse\u001b[49m\u001b[43m)\u001b[49m\n\u001b[0;32m    345\u001b[0m     response[\u001b[38;5;124m\"\u001b[39m\u001b[38;5;124mvalue\u001b[39m\u001b[38;5;124m\"\u001b[39m] \u001b[38;5;241m=\u001b[39m \u001b[38;5;28mself\u001b[39m\u001b[38;5;241m.\u001b[39m_unwrap_value(response\u001b[38;5;241m.\u001b[39mget(\u001b[38;5;124m\"\u001b[39m\u001b[38;5;124mvalue\u001b[39m\u001b[38;5;124m\"\u001b[39m, \u001b[38;5;28;01mNone\u001b[39;00m))\n",
      "File \u001b[1;32m~\\anaconda3\\lib\\site-packages\\selenium\\webdriver\\remote\\errorhandler.py:229\u001b[0m, in \u001b[0;36mErrorHandler.check_response\u001b[1;34m(self, response)\u001b[0m\n\u001b[0;32m    228\u001b[0m     \u001b[38;5;28;01mraise\u001b[39;00m exception_class(message, screen, stacktrace, alert_text)  \u001b[38;5;66;03m# type: ignore[call-arg]  # mypy is not smart enough here\u001b[39;00m\n\u001b[1;32m--> 229\u001b[0m \u001b[38;5;28;01mraise\u001b[39;00m exception_class(message, screen, stacktrace)\n",
      "\u001b[1;31mNoSuchElementException\u001b[0m: Message: no such element: Unable to locate element: {\"method\":\"css selector\",\"selector\":\"[name=\"entryIframe\"]\"}\n  (Session info: chrome=117.0.5938.150); For documentation on this error, please visit: https://www.selenium.dev/documentation/webdriver/troubleshooting/errors#no-such-element-exception\nStacktrace:\n\tGetHandleVerifier [0x00007FF7C5F27D12+55474]\n\t(No symbol) [0x00007FF7C5E977C2]\n\t(No symbol) [0x00007FF7C5D4E0EB]\n\t(No symbol) [0x00007FF7C5D8EBAC]\n\t(No symbol) [0x00007FF7C5D8ED2C]\n\t(No symbol) [0x00007FF7C5DC9F77]\n\t(No symbol) [0x00007FF7C5DAF19F]\n\t(No symbol) [0x00007FF7C5DC7EF2]\n\t(No symbol) [0x00007FF7C5DAEF33]\n\t(No symbol) [0x00007FF7C5D83D41]\n\t(No symbol) [0x00007FF7C5D84F84]\n\tGetHandleVerifier [0x00007FF7C628B762+3609346]\n\tGetHandleVerifier [0x00007FF7C62E1A80+3962400]\n\tGetHandleVerifier [0x00007FF7C62D9F0F+3930799]\n\tGetHandleVerifier [0x00007FF7C5FC3CA6+694342]\n\t(No symbol) [0x00007FF7C5EA2218]\n\t(No symbol) [0x00007FF7C5E9E484]\n\t(No symbol) [0x00007FF7C5E9E5B2]\n\t(No symbol) [0x00007FF7C5E8EE13]\n\tBaseThreadInitThunk [0x00007FF93F35257D+29]\n\tRtlUserThreadStart [0x00007FF940FCAA68+40]\n",
      "\nThe above exception was the direct cause of the following exception:\n",
      "\u001b[1;31mNoSuchFrameException\u001b[0m                      Traceback (most recent call last)",
      "Cell \u001b[1;32mIn[9], line 2\u001b[0m\n\u001b[0;32m      1\u001b[0m \u001b[38;5;66;03m# iframe을 이동\u001b[39;00m\n\u001b[1;32m----> 2\u001b[0m \u001b[43mdriver\u001b[49m\u001b[38;5;241;43m.\u001b[39;49m\u001b[43mswitch_to\u001b[49m\u001b[38;5;241;43m.\u001b[39;49m\u001b[43mframe\u001b[49m\u001b[43m(\u001b[49m\u001b[38;5;124;43m\"\u001b[39;49m\u001b[38;5;124;43mentryIframe\u001b[39;49m\u001b[38;5;124;43m\"\u001b[39;49m\u001b[43m)\u001b[49m\n",
      "File \u001b[1;32m~\\anaconda3\\lib\\site-packages\\selenium\\webdriver\\remote\\switch_to.py:93\u001b[0m, in \u001b[0;36mSwitchTo.frame\u001b[1;34m(self, frame_reference)\u001b[0m\n\u001b[0;32m     91\u001b[0m             frame_reference \u001b[38;5;241m=\u001b[39m \u001b[38;5;28mself\u001b[39m\u001b[38;5;241m.\u001b[39m_driver\u001b[38;5;241m.\u001b[39mfind_element(By\u001b[38;5;241m.\u001b[39mNAME, frame_reference)\n\u001b[0;32m     92\u001b[0m         \u001b[38;5;28;01mexcept\u001b[39;00m NoSuchElementException \u001b[38;5;28;01mas\u001b[39;00m exc:\n\u001b[1;32m---> 93\u001b[0m             \u001b[38;5;28;01mraise\u001b[39;00m NoSuchFrameException(frame_reference) \u001b[38;5;28;01mfrom\u001b[39;00m \u001b[38;5;21;01mexc\u001b[39;00m\n\u001b[0;32m     95\u001b[0m \u001b[38;5;28mself\u001b[39m\u001b[38;5;241m.\u001b[39m_driver\u001b[38;5;241m.\u001b[39mexecute(Command\u001b[38;5;241m.\u001b[39mSWITCH_TO_FRAME, {\u001b[38;5;124m\"\u001b[39m\u001b[38;5;124mid\u001b[39m\u001b[38;5;124m\"\u001b[39m: frame_reference})\n",
      "\u001b[1;31mNoSuchFrameException\u001b[0m: Message: entryIframe\n"
     ]
    }
   ],
   "source": [
    "# iframe을 이동\n",
    "driver.switch_to.frame(\"entryIframe\")"
   ]
  },
  {
   "cell_type": "code",
   "execution_count": 10,
   "id": "f2ccae37",
   "metadata": {
    "ExecuteTime": {
     "end_time": "2023-10-11T07:37:00.039691Z",
     "start_time": "2023-10-11T07:37:00.021275Z"
    }
   },
   "outputs": [],
   "source": [
    "# 메인페이지로 이동 => 다른 iframe 이동\n",
    "driver.switch_to.default_content()"
   ]
  },
  {
   "cell_type": "code",
   "execution_count": 11,
   "id": "6d92f33b",
   "metadata": {
    "ExecuteTime": {
     "end_time": "2023-10-11T07:37:04.956678Z",
     "start_time": "2023-10-11T07:37:04.912642Z"
    }
   },
   "outputs": [],
   "source": [
    "driver.switch_to.frame(\"entryIframe\")"
   ]
  },
  {
   "cell_type": "code",
   "execution_count": 12,
   "id": "350da6af",
   "metadata": {
    "ExecuteTime": {
     "end_time": "2023-10-11T07:37:06.900693Z",
     "start_time": "2023-10-11T07:37:06.865358Z"
    }
   },
   "outputs": [
    {
     "data": {
      "text/plain": [
       "'훗스테이크 광주동명점'"
      ]
     },
     "execution_count": 12,
     "metadata": {},
     "output_type": "execute_result"
    }
   ],
   "source": [
    "title = driver.find_element(By.CSS_SELECTOR,\"span.Fc1rA\")\n",
    "title.text"
   ]
  },
  {
   "cell_type": "code",
   "execution_count": 14,
   "id": "66f99ff0",
   "metadata": {
    "ExecuteTime": {
     "end_time": "2023-10-11T07:44:21.899822Z",
     "start_time": "2023-10-11T07:44:21.744882Z"
    }
   },
   "outputs": [],
   "source": [
    "driver.switch_to.default_content()\n",
    "driver.switch_to.frame(\"searchIframe\")\n",
    "name = driver.find_elements(By.CSS_SELECTOR, 'span.place_bluelink.TYaxT')\n",
    "name[1].click()"
   ]
  },
  {
   "cell_type": "code",
   "execution_count": 13,
   "id": "8e3b74af",
   "metadata": {
    "ExecuteTime": {
     "end_time": "2023-10-11T07:39:48.486371Z",
     "start_time": "2023-10-11T07:39:48.468384Z"
    }
   },
   "outputs": [],
   "source": [
    "# 이동시 원본에 갔다가 와야댐 iframe 안에 iframe은 없음"
   ]
  },
  {
   "cell_type": "code",
   "execution_count": null,
   "id": "505d945a",
   "metadata": {},
   "outputs": [],
   "source": [
    "# 스크롤 내릴려면 iframe에 가서 내려야되는데..\n",
    "# body에 내려도 안됨 => 밑에 영역 스크롤이 되는 영역에 명령을 내려야됨"
   ]
  },
  {
   "cell_type": "code",
   "execution_count": 17,
   "id": "82add30f",
   "metadata": {
    "ExecuteTime": {
     "end_time": "2023-10-11T07:45:37.556204Z",
     "start_time": "2023-10-11T07:45:37.523354Z"
    }
   },
   "outputs": [],
   "source": [
    "driver.switch_to.default_content()\n",
    "driver.switch_to.frame(\"searchIframe\")"
   ]
  },
  {
   "cell_type": "code",
   "execution_count": 18,
   "id": "399979f4",
   "metadata": {
    "ExecuteTime": {
     "end_time": "2023-10-11T07:45:39.565746Z",
     "start_time": "2023-10-11T07:45:39.488767Z"
    }
   },
   "outputs": [],
   "source": [
    "# 화면 왼쪽에 스크롤 하는 방법\n",
    "body = driver.find_element(By.CSS_SELECTOR, \"body\")\n",
    "body.send_keys(Keys.END)"
   ]
  },
  {
   "cell_type": "code",
   "execution_count": 20,
   "id": "70939bd1",
   "metadata": {
    "ExecuteTime": {
     "end_time": "2023-10-11T07:45:59.671694Z",
     "start_time": "2023-10-11T07:45:59.547257Z"
    }
   },
   "outputs": [],
   "source": [
    "div = driver.find_element(By.CSS_SELECTOR, \".XUrfU\")\n",
    "div.click()"
   ]
  },
  {
   "cell_type": "code",
   "execution_count": null,
   "id": "30369218",
   "metadata": {},
   "outputs": [],
   "source": [
    "body = driver.find_element(By.CSS_SELECTOR, \"body\")\n",
    "body.send_keys(Keys.END)"
   ]
  },
  {
   "cell_type": "markdown",
   "id": "100f3328",
   "metadata": {},
   "source": [
    "### selenium에서 frame 이동하는 방법\n",
    "- iframe을 이동하려면 switch_to.frame(\"frame아이디\")\n",
    "- 주의점! iframe에서 iframe으로 이동이 불가능\n",
    "- 해결법! 원본데이터로 이동 => 다른 iframe으로 이동\n",
    "- switch_to.default_content()\n",
    "- 추가! 스크롤이 움직이지 않은경우.\n",
    "- 영역자체가 구분되어 있는 경우는, body에게 스크롤을 줘도 움직이지가 않는다.\n",
    "- 스크롤이 움직이는 영역을 한번 클릭 후, 스크롤 명령을 준다."
   ]
  },
  {
   "cell_type": "code",
   "execution_count": null,
   "id": "c12b9906",
   "metadata": {},
   "outputs": [],
   "source": []
  },
  {
   "cell_type": "code",
   "execution_count": null,
   "id": "7d652637",
   "metadata": {},
   "outputs": [],
   "source": []
  },
  {
   "cell_type": "code",
   "execution_count": null,
   "id": "65639044",
   "metadata": {},
   "outputs": [],
   "source": []
  },
  {
   "cell_type": "code",
   "execution_count": null,
   "id": "17480f90",
   "metadata": {},
   "outputs": [],
   "source": []
  },
  {
   "cell_type": "code",
   "execution_count": null,
   "id": "627a8b1f",
   "metadata": {},
   "outputs": [],
   "source": []
  },
  {
   "cell_type": "code",
   "execution_count": null,
   "id": "b05778b7",
   "metadata": {},
   "outputs": [],
   "source": []
  },
  {
   "cell_type": "code",
   "execution_count": null,
   "id": "c728a115",
   "metadata": {},
   "outputs": [],
   "source": []
  },
  {
   "cell_type": "code",
   "execution_count": null,
   "id": "1cdde578",
   "metadata": {},
   "outputs": [],
   "source": []
  },
  {
   "cell_type": "code",
   "execution_count": null,
   "id": "d59cd81c",
   "metadata": {},
   "outputs": [],
   "source": []
  },
  {
   "cell_type": "code",
   "execution_count": null,
   "id": "73c49803",
   "metadata": {},
   "outputs": [],
   "source": []
  },
  {
   "cell_type": "code",
   "execution_count": null,
   "id": "2bcfb3e7",
   "metadata": {},
   "outputs": [],
   "source": []
  },
  {
   "cell_type": "code",
   "execution_count": null,
   "id": "5b58f02c",
   "metadata": {},
   "outputs": [],
   "source": []
  },
  {
   "cell_type": "code",
   "execution_count": null,
   "id": "e45ecfe5",
   "metadata": {},
   "outputs": [],
   "source": []
  },
  {
   "cell_type": "code",
   "execution_count": null,
   "id": "6831704f",
   "metadata": {},
   "outputs": [],
   "source": []
  },
  {
   "cell_type": "code",
   "execution_count": null,
   "id": "d4cc49e5",
   "metadata": {},
   "outputs": [],
   "source": []
  },
  {
   "cell_type": "code",
   "execution_count": null,
   "id": "b6d0bd1c",
   "metadata": {},
   "outputs": [],
   "source": []
  },
  {
   "cell_type": "code",
   "execution_count": null,
   "id": "cb5e2d62",
   "metadata": {},
   "outputs": [],
   "source": []
  },
  {
   "cell_type": "code",
   "execution_count": null,
   "id": "6f40a13d",
   "metadata": {},
   "outputs": [],
   "source": []
  },
  {
   "cell_type": "code",
   "execution_count": null,
   "id": "3df927a6",
   "metadata": {},
   "outputs": [],
   "source": []
  },
  {
   "cell_type": "code",
   "execution_count": null,
   "id": "f413cf24",
   "metadata": {},
   "outputs": [],
   "source": []
  },
  {
   "cell_type": "code",
   "execution_count": null,
   "id": "080d6d7e",
   "metadata": {},
   "outputs": [],
   "source": []
  },
  {
   "cell_type": "code",
   "execution_count": null,
   "id": "5a356fae",
   "metadata": {},
   "outputs": [],
   "source": []
  },
  {
   "cell_type": "code",
   "execution_count": null,
   "id": "53da59ef",
   "metadata": {},
   "outputs": [],
   "source": []
  },
  {
   "cell_type": "code",
   "execution_count": null,
   "id": "307ca211",
   "metadata": {},
   "outputs": [],
   "source": []
  },
  {
   "cell_type": "code",
   "execution_count": null,
   "id": "1edc9bdc",
   "metadata": {},
   "outputs": [],
   "source": []
  },
  {
   "cell_type": "code",
   "execution_count": null,
   "id": "27ac16ab",
   "metadata": {},
   "outputs": [],
   "source": []
  },
  {
   "cell_type": "code",
   "execution_count": null,
   "id": "31e1f364",
   "metadata": {},
   "outputs": [],
   "source": []
  },
  {
   "cell_type": "code",
   "execution_count": null,
   "id": "328d3b94",
   "metadata": {},
   "outputs": [],
   "source": []
  },
  {
   "cell_type": "code",
   "execution_count": null,
   "id": "2ae6b295",
   "metadata": {},
   "outputs": [],
   "source": []
  },
  {
   "cell_type": "code",
   "execution_count": null,
   "id": "71a6dadf",
   "metadata": {},
   "outputs": [],
   "source": []
  },
  {
   "cell_type": "code",
   "execution_count": null,
   "id": "849cecf7",
   "metadata": {},
   "outputs": [],
   "source": []
  },
  {
   "cell_type": "code",
   "execution_count": null,
   "id": "df3dafec",
   "metadata": {},
   "outputs": [],
   "source": []
  },
  {
   "cell_type": "code",
   "execution_count": null,
   "id": "71209dc3",
   "metadata": {},
   "outputs": [],
   "source": []
  },
  {
   "cell_type": "code",
   "execution_count": null,
   "id": "4cef7d26",
   "metadata": {},
   "outputs": [],
   "source": []
  },
  {
   "cell_type": "code",
   "execution_count": null,
   "id": "d9ecbb29",
   "metadata": {},
   "outputs": [],
   "source": []
  },
  {
   "cell_type": "code",
   "execution_count": null,
   "id": "eaa5701c",
   "metadata": {},
   "outputs": [],
   "source": []
  },
  {
   "cell_type": "code",
   "execution_count": null,
   "id": "702e981a",
   "metadata": {},
   "outputs": [],
   "source": []
  },
  {
   "cell_type": "code",
   "execution_count": null,
   "id": "63868ae4",
   "metadata": {},
   "outputs": [],
   "source": []
  },
  {
   "cell_type": "code",
   "execution_count": null,
   "id": "aa8de818",
   "metadata": {},
   "outputs": [],
   "source": []
  },
  {
   "cell_type": "code",
   "execution_count": null,
   "id": "cd5c4760",
   "metadata": {},
   "outputs": [],
   "source": []
  },
  {
   "cell_type": "code",
   "execution_count": null,
   "id": "94238091",
   "metadata": {},
   "outputs": [],
   "source": []
  },
  {
   "cell_type": "code",
   "execution_count": null,
   "id": "2157d398",
   "metadata": {},
   "outputs": [],
   "source": []
  },
  {
   "cell_type": "code",
   "execution_count": null,
   "id": "596dff28",
   "metadata": {},
   "outputs": [],
   "source": []
  },
  {
   "cell_type": "code",
   "execution_count": null,
   "id": "214fbb44",
   "metadata": {},
   "outputs": [],
   "source": []
  },
  {
   "cell_type": "code",
   "execution_count": null,
   "id": "a355fe72",
   "metadata": {},
   "outputs": [],
   "source": []
  },
  {
   "cell_type": "code",
   "execution_count": null,
   "id": "55d3b598",
   "metadata": {},
   "outputs": [],
   "source": []
  },
  {
   "cell_type": "code",
   "execution_count": null,
   "id": "3b76a8af",
   "metadata": {},
   "outputs": [],
   "source": []
  },
  {
   "cell_type": "code",
   "execution_count": null,
   "id": "601f5d95",
   "metadata": {},
   "outputs": [],
   "source": []
  },
  {
   "cell_type": "code",
   "execution_count": null,
   "id": "893100c0",
   "metadata": {},
   "outputs": [],
   "source": []
  },
  {
   "cell_type": "code",
   "execution_count": null,
   "id": "a2f33fd4",
   "metadata": {},
   "outputs": [],
   "source": []
  },
  {
   "cell_type": "code",
   "execution_count": null,
   "id": "71f22e0c",
   "metadata": {},
   "outputs": [],
   "source": []
  },
  {
   "cell_type": "code",
   "execution_count": null,
   "id": "b135c05b",
   "metadata": {},
   "outputs": [],
   "source": []
  },
  {
   "cell_type": "code",
   "execution_count": null,
   "id": "08c8773e",
   "metadata": {},
   "outputs": [],
   "source": []
  },
  {
   "cell_type": "code",
   "execution_count": null,
   "id": "ca7018e4",
   "metadata": {},
   "outputs": [],
   "source": []
  },
  {
   "cell_type": "code",
   "execution_count": null,
   "id": "5515c013",
   "metadata": {},
   "outputs": [],
   "source": []
  },
  {
   "cell_type": "code",
   "execution_count": null,
   "id": "8e10cc55",
   "metadata": {},
   "outputs": [],
   "source": []
  },
  {
   "cell_type": "code",
   "execution_count": null,
   "id": "f27b09e8",
   "metadata": {},
   "outputs": [],
   "source": []
  },
  {
   "cell_type": "code",
   "execution_count": null,
   "id": "1b4768de",
   "metadata": {},
   "outputs": [],
   "source": []
  },
  {
   "cell_type": "code",
   "execution_count": null,
   "id": "79b1b20d",
   "metadata": {},
   "outputs": [],
   "source": []
  },
  {
   "cell_type": "code",
   "execution_count": null,
   "id": "efb8ae84",
   "metadata": {},
   "outputs": [],
   "source": []
  },
  {
   "cell_type": "code",
   "execution_count": null,
   "id": "23454160",
   "metadata": {},
   "outputs": [],
   "source": []
  },
  {
   "cell_type": "code",
   "execution_count": null,
   "id": "f9b8719e",
   "metadata": {},
   "outputs": [],
   "source": []
  },
  {
   "cell_type": "code",
   "execution_count": null,
   "id": "22e4ff86",
   "metadata": {},
   "outputs": [],
   "source": []
  },
  {
   "cell_type": "code",
   "execution_count": null,
   "id": "d8734793",
   "metadata": {},
   "outputs": [],
   "source": []
  },
  {
   "cell_type": "code",
   "execution_count": null,
   "id": "f0221050",
   "metadata": {},
   "outputs": [],
   "source": []
  },
  {
   "cell_type": "code",
   "execution_count": null,
   "id": "fd9873d3",
   "metadata": {},
   "outputs": [],
   "source": []
  },
  {
   "cell_type": "code",
   "execution_count": null,
   "id": "34269161",
   "metadata": {},
   "outputs": [],
   "source": []
  },
  {
   "cell_type": "code",
   "execution_count": null,
   "id": "e4089d5c",
   "metadata": {},
   "outputs": [],
   "source": []
  },
  {
   "cell_type": "code",
   "execution_count": null,
   "id": "8e033806",
   "metadata": {},
   "outputs": [],
   "source": []
  },
  {
   "cell_type": "code",
   "execution_count": null,
   "id": "aefda1e0",
   "metadata": {},
   "outputs": [],
   "source": []
  },
  {
   "cell_type": "code",
   "execution_count": null,
   "id": "32cec720",
   "metadata": {},
   "outputs": [],
   "source": []
  },
  {
   "cell_type": "code",
   "execution_count": null,
   "id": "d80901fd",
   "metadata": {},
   "outputs": [],
   "source": []
  },
  {
   "cell_type": "code",
   "execution_count": null,
   "id": "3983da0d",
   "metadata": {},
   "outputs": [],
   "source": []
  },
  {
   "cell_type": "code",
   "execution_count": null,
   "id": "16e544bf",
   "metadata": {},
   "outputs": [],
   "source": []
  }
 ],
 "metadata": {
  "kernelspec": {
   "display_name": "Python 3 (ipykernel)",
   "language": "python",
   "name": "python3"
  },
  "language_info": {
   "codemirror_mode": {
    "name": "ipython",
    "version": 3
   },
   "file_extension": ".py",
   "mimetype": "text/x-python",
   "name": "python",
   "nbconvert_exporter": "python",
   "pygments_lexer": "ipython3",
   "version": "3.10.9"
  },
  "toc": {
   "base_numbering": 1,
   "nav_menu": {},
   "number_sections": true,
   "sideBar": true,
   "skip_h1_title": false,
   "title_cell": "Table of Contents",
   "title_sidebar": "Contents",
   "toc_cell": false,
   "toc_position": {},
   "toc_section_display": true,
   "toc_window_display": false
  }
 },
 "nbformat": 4,
 "nbformat_minor": 5
}
