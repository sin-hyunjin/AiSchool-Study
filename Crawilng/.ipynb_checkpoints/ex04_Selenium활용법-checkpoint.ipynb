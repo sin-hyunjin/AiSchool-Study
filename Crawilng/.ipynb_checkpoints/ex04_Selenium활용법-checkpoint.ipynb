{
 "cells": [
  {
   "cell_type": "markdown",
   "id": "70fd23d7",
   "metadata": {},
   "source": [
    "#  Selenium\n",
    "- 브라우저의 조작을 컴퓨터가 자동으로 할 수 있게 해주는 라이브러리\n",
    "- 사람처럼 프로그래밍을 짜야한다."
   ]
  },
  {
   "cell_type": "code",
   "execution_count": 1,
   "id": "97c9755f",
   "metadata": {
    "ExecuteTime": {
     "end_time": "2023-10-10T06:16:13.280226Z",
     "start_time": "2023-10-10T06:16:03.170719Z"
    },
    "collapsed": true
   },
   "outputs": [
    {
     "name": "stdout",
     "output_type": "stream",
     "text": [
      "Collecting selenium\n",
      "  Downloading selenium-4.14.0-py3-none-any.whl (9.9 MB)\n",
      "     ---------------------------------------- 9.9/9.9 MB 3.6 MB/s eta 0:00:00\n",
      "Requirement already satisfied: urllib3[socks]<3,>=1.26 in c:\\users\\gjaischool\\anaconda3\\lib\\site-packages (from selenium) (1.26.14)\n",
      "Collecting trio-websocket~=0.9\n",
      "  Downloading trio_websocket-0.11.1-py3-none-any.whl (17 kB)\n",
      "Collecting trio~=0.17\n",
      "  Downloading trio-0.22.2-py3-none-any.whl (400 kB)\n",
      "     -------------------------------------- 400.2/400.2 kB 1.8 MB/s eta 0:00:00\n",
      "Requirement already satisfied: certifi>=2021.10.8 in c:\\users\\gjaischool\\anaconda3\\lib\\site-packages (from selenium) (2022.12.7)\n",
      "Requirement already satisfied: sniffio in c:\\users\\gjaischool\\anaconda3\\lib\\site-packages (from trio~=0.17->selenium) (1.2.0)\n",
      "Requirement already satisfied: sortedcontainers in c:\\users\\gjaischool\\anaconda3\\lib\\site-packages (from trio~=0.17->selenium) (2.4.0)\n",
      "Collecting exceptiongroup>=1.0.0rc9\n",
      "  Using cached exceptiongroup-1.1.3-py3-none-any.whl (14 kB)\n",
      "Requirement already satisfied: attrs>=20.1.0 in c:\\users\\gjaischool\\anaconda3\\lib\\site-packages (from trio~=0.17->selenium) (22.1.0)\n",
      "Collecting outcome\n",
      "  Downloading outcome-1.2.0-py2.py3-none-any.whl (9.7 kB)\n",
      "Requirement already satisfied: cffi>=1.14 in c:\\users\\gjaischool\\anaconda3\\lib\\site-packages (from trio~=0.17->selenium) (1.15.1)\n",
      "Requirement already satisfied: idna in c:\\users\\gjaischool\\anaconda3\\lib\\site-packages (from trio~=0.17->selenium) (3.4)\n",
      "Collecting wsproto>=0.14\n",
      "  Downloading wsproto-1.2.0-py3-none-any.whl (24 kB)\n",
      "Requirement already satisfied: PySocks!=1.5.7,<2.0,>=1.5.6 in c:\\users\\gjaischool\\anaconda3\\lib\\site-packages (from urllib3[socks]<3,>=1.26->selenium) (1.7.1)\n",
      "Requirement already satisfied: pycparser in c:\\users\\gjaischool\\anaconda3\\lib\\site-packages (from cffi>=1.14->trio~=0.17->selenium) (2.21)\n",
      "Collecting h11<1,>=0.9.0\n",
      "  Downloading h11-0.14.0-py3-none-any.whl (58 kB)\n",
      "     ---------------------------------------- 58.3/58.3 kB 3.0 MB/s eta 0:00:00\n",
      "Installing collected packages: outcome, h11, exceptiongroup, wsproto, trio, trio-websocket, selenium\n",
      "Successfully installed exceptiongroup-1.1.3 h11-0.14.0 outcome-1.2.0 selenium-4.14.0 trio-0.22.2 trio-websocket-0.11.1 wsproto-1.2.0\n"
     ]
    }
   ],
   "source": [
    "# 반드시 한번 설치를 해줘야 함.\n",
    "# !(느낌표) : 강제 설치_파이썬 버전이 다를 수 있으니 충돌을 방지하기 위해 강제로 설치\n",
    "!pip install selenium"
   ]
  },
  {
   "cell_type": "code",
   "execution_count": 2,
   "id": "7f792fdd",
   "metadata": {
    "ExecuteTime": {
     "end_time": "2023-10-10T06:19:42.493901Z",
     "start_time": "2023-10-10T06:19:38.437437Z"
    },
    "collapsed": true
   },
   "outputs": [
    {
     "name": "stdout",
     "output_type": "stream",
     "text": [
      "Requirement already satisfied: selenium in c:\\users\\gjaischool\\anaconda3\\lib\\site-packages (4.14.0)\n",
      "Requirement already satisfied: trio-websocket~=0.9 in c:\\users\\gjaischool\\anaconda3\\lib\\site-packages (from selenium) (0.11.1)\n",
      "Requirement already satisfied: trio~=0.17 in c:\\users\\gjaischool\\anaconda3\\lib\\site-packages (from selenium) (0.22.2)\n",
      "Requirement already satisfied: certifi>=2021.10.8 in c:\\users\\gjaischool\\anaconda3\\lib\\site-packages (from selenium) (2022.12.7)\n",
      "Requirement already satisfied: urllib3[socks]<3,>=1.26 in c:\\users\\gjaischool\\anaconda3\\lib\\site-packages (from selenium) (1.26.14)\n",
      "Requirement already satisfied: sniffio in c:\\users\\gjaischool\\anaconda3\\lib\\site-packages (from trio~=0.17->selenium) (1.2.0)\n",
      "Requirement already satisfied: cffi>=1.14 in c:\\users\\gjaischool\\anaconda3\\lib\\site-packages (from trio~=0.17->selenium) (1.15.1)\n",
      "Requirement already satisfied: exceptiongroup>=1.0.0rc9 in c:\\users\\gjaischool\\anaconda3\\lib\\site-packages (from trio~=0.17->selenium) (1.1.3)\n",
      "Requirement already satisfied: sortedcontainers in c:\\users\\gjaischool\\anaconda3\\lib\\site-packages (from trio~=0.17->selenium) (2.4.0)\n",
      "Requirement already satisfied: outcome in c:\\users\\gjaischool\\anaconda3\\lib\\site-packages (from trio~=0.17->selenium) (1.2.0)\n",
      "Requirement already satisfied: attrs>=20.1.0 in c:\\users\\gjaischool\\anaconda3\\lib\\site-packages (from trio~=0.17->selenium) (22.1.0)\n",
      "Requirement already satisfied: idna in c:\\users\\gjaischool\\anaconda3\\lib\\site-packages (from trio~=0.17->selenium) (3.4)\n",
      "Requirement already satisfied: wsproto>=0.14 in c:\\users\\gjaischool\\anaconda3\\lib\\site-packages (from trio-websocket~=0.9->selenium) (1.2.0)\n",
      "Requirement already satisfied: PySocks!=1.5.7,<2.0,>=1.5.6 in c:\\users\\gjaischool\\anaconda3\\lib\\site-packages (from urllib3[socks]<3,>=1.26->selenium) (1.7.1)\n",
      "Requirement already satisfied: pycparser in c:\\users\\gjaischool\\anaconda3\\lib\\site-packages (from cffi>=1.14->trio~=0.17->selenium) (2.21)\n",
      "Requirement already satisfied: h11<1,>=0.9.0 in c:\\users\\gjaischool\\anaconda3\\lib\\site-packages (from wsproto>=0.14->trio-websocket~=0.9->selenium) (0.14.0)\n"
     ]
    }
   ],
   "source": [
    "# 최신버전으로 업데이트\n",
    "# 원래 위에거만 깔아도 최신버전이지만, 충돌을 막기위해 update해주는 것\n",
    "# 업데이트 하는 이유\n",
    "# 과거 버전에서는 컴퓨터용 크롬 드라이버를 설치했었어야 함\n",
    "# 업데이트 시, 알아서 버전을 맞춰준다.\n",
    "!pip install -U selenium"
   ]
  },
  {
   "cell_type": "code",
   "execution_count": 4,
   "id": "93e224a8",
   "metadata": {
    "ExecuteTime": {
     "end_time": "2023-10-10T06:25:16.848363Z",
     "start_time": "2023-10-10T06:25:16.833242Z"
    }
   },
   "outputs": [],
   "source": [
    "# 1. 브라우저 역할을 하는 라이브러리 webdriver\n",
    "from selenium import webdriver as wb\n",
    "# 2. 선택자의 구분자 역할을 해주는 라이브러리\n",
    "# import 할 때 by만 B 대문자!!\n",
    "from selenium.webdriver.common.by import By\n",
    "# 3. 컴퓨터용 키보드\n",
    "from selenium.webdriver.common.keys import Keys"
   ]
  },
  {
   "cell_type": "code",
   "execution_count": 10,
   "id": "6f6fd8b6",
   "metadata": {
    "ExecuteTime": {
     "end_time": "2023-10-10T06:37:08.649325Z",
     "start_time": "2023-10-10T06:37:04.552634Z"
    }
   },
   "outputs": [],
   "source": [
    "# 1. 브라우저를 시작\n",
    "# C는 대문자, 크롬을 실행하라는 \"기능\"이니까 소괄호\n",
    "# * 구 버전은 Chrome(\"드라이버경로\") : 소괄호 안에 웹드라이버 경로를 넣어주라고 하겠지만, 현재 최신 버전에서는 필요없다.\n",
    "driver = wb.Chrome()\n",
    "# driver는 브라우저니까, 얘는 html 코드 그대로 가져오기 때문"
   ]
  },
  {
   "cell_type": "code",
   "execution_count": 11,
   "id": "a60a0a8e",
   "metadata": {
    "ExecuteTime": {
     "end_time": "2023-10-10T06:37:09.441963Z",
     "start_time": "2023-10-10T06:37:08.651292Z"
    }
   },
   "outputs": [],
   "source": [
    "# 페이지 정보를 요청\n",
    "driver.get(\"https://www.naver.com\")"
   ]
  },
  {
   "cell_type": "code",
   "execution_count": 17,
   "id": "7b31a367",
   "metadata": {
    "ExecuteTime": {
     "end_time": "2023-10-10T07:20:51.863867Z",
     "start_time": "2023-10-10T07:20:51.831376Z"
    }
   },
   "outputs": [],
   "source": [
    "# 검색창에 아시안 게임 입력\n",
    "# 검색창의 요소를 수집\n",
    "# soup.select(\"선택자\")\n",
    "# find_element(By.구분자, \"값\") = 특정 요소 수집 : like JS getElementsBy00\n",
    "# 여러개를 수집하는 경우는 find_elements를 통해 수집\n",
    "\n",
    "# tip!\n",
    "# 구버전은 find_element_by_id('값')\n",
    "\n",
    "search = driver.find_element(By.ID,'query')"
   ]
  },
  {
   "cell_type": "code",
   "execution_count": 18,
   "id": "57f7fed5",
   "metadata": {
    "ExecuteTime": {
     "end_time": "2023-10-10T07:20:52.188628Z",
     "start_time": "2023-10-10T07:20:52.143127Z"
    }
   },
   "outputs": [],
   "source": [
    "# 검색창에 '아시안게임' 보내주기\n",
    "search.send_keys(\"아시안게임\")"
   ]
  },
  {
   "cell_type": "code",
   "execution_count": 20,
   "id": "d5902ec6",
   "metadata": {
    "ExecuteTime": {
     "end_time": "2023-10-10T07:22:37.938507Z",
     "start_time": "2023-10-10T07:22:35.633699Z"
    }
   },
   "outputs": [],
   "source": [
    "# 엔터입력\n",
    "search.send_keys(Keys.ENTER)"
   ]
  },
  {
   "cell_type": "code",
   "execution_count": 23,
   "id": "e4f2cbe2",
   "metadata": {
    "ExecuteTime": {
     "end_time": "2023-10-10T07:25:47.732960Z",
     "start_time": "2023-10-10T07:25:47.688411Z"
    }
   },
   "outputs": [],
   "source": [
    "# 화면의 스크롤 최하단으로 이동\n",
    "body = driver.find_element(By.TAG_NAME,\"body\")\n",
    "body.send_keys(Keys.END) "
   ]
  },
  {
   "cell_type": "code",
   "execution_count": 24,
   "id": "e0b3efd0",
   "metadata": {
    "ExecuteTime": {
     "end_time": "2023-10-10T07:28:16.346463Z",
     "start_time": "2023-10-10T07:28:15.769564Z"
    }
   },
   "outputs": [],
   "source": [
    "# 뒤로가기\n",
    "driver.back()"
   ]
  },
  {
   "cell_type": "code",
   "execution_count": 25,
   "id": "f3d4d7f4",
   "metadata": {
    "ExecuteTime": {
     "end_time": "2023-10-10T07:28:28.751669Z",
     "start_time": "2023-10-10T07:28:28.119553Z"
    }
   },
   "outputs": [],
   "source": [
    "# 앞으로가기\n",
    "driver.forward()"
   ]
  },
  {
   "cell_type": "code",
   "execution_count": 29,
   "id": "49efcbfe",
   "metadata": {
    "ExecuteTime": {
     "end_time": "2023-10-10T07:35:01.137778Z",
     "start_time": "2023-10-10T07:35:01.093027Z"
    }
   },
   "outputs": [],
   "source": [
    "# selenium을 통해서 수집을 진행할 때, 반드시 \n",
    "# 페이지가 이동이나 새로고침이 되면 데이터를 초기화 시킨다.\n",
    "# 항상 새롭게 데이터를 수집.\n",
    "search = driver.find_element(By.ID,'query')\n",
    "search.send_keys(\"이강인\")\n",
    "# 오류가 남. 왜?\n",
    "# 페이지를 새로 불러와지면 html값도 새로 가져와지기 때문에 선택자도 새로 값을 넣어줘야 함."
   ]
  },
  {
   "cell_type": "code",
   "execution_count": 31,
   "id": "4001aebb",
   "metadata": {
    "ExecuteTime": {
     "end_time": "2023-10-10T07:36:44.136795Z",
     "start_time": "2023-10-10T07:36:43.307394Z"
    }
   },
   "outputs": [],
   "source": [
    "# 검색버튼 클릭\n",
    "# #sform > fieldset > button\n",
    "btn = driver.find_element(By.CSS_SELECTOR, \".btn_search\")\n",
    "btn.click()"
   ]
  },
  {
   "cell_type": "code",
   "execution_count": 36,
   "id": "bf025d25",
   "metadata": {
    "ExecuteTime": {
     "end_time": "2023-10-10T07:40:11.701710Z",
     "start_time": "2023-10-10T07:40:11.675378Z"
    }
   },
   "outputs": [
    {
     "data": {
      "text/plain": [
       "'파리 생제르맹 FC (MF 미드필더, 19)'"
      ]
     },
     "execution_count": 36,
     "metadata": {},
     "output_type": "execute_result"
    }
   ],
   "source": [
    "# 소속팀 글자정보 수집\n",
    "team = driver.find_elements(By.CSS_SELECTOR,\"#main_pack > section.sc_new.cs_common_module.case_normal._au_people_content_wrap.color_16._cs_sports_people > div.cm_content_wrap._content > div.cm_content_area._cm_content_area_profile > div > div.detail_info > dl > div:nth-child(3) > dd \")\n",
    "team[0].text"
   ]
  },
  {
   "cell_type": "code",
   "execution_count": 37,
   "id": "b2175d23",
   "metadata": {
    "ExecuteTime": {
     "end_time": "2023-10-10T07:41:37.216297Z",
     "start_time": "2023-10-10T07:41:37.102481Z"
    }
   },
   "outputs": [],
   "source": [
    "# 브라우저 창 종료\n",
    "driver.close() # 브라우저 창만 닫는거\n",
    "# OR\n",
    "driver.quit() # 메모리까지 죽이는 거 ==> 더 확실함!"
   ]
  },
  {
   "cell_type": "code",
   "execution_count": null,
   "id": "236e1349",
   "metadata": {},
   "outputs": [],
   "source": []
  },
  {
   "cell_type": "code",
   "execution_count": null,
   "id": "0ac94912",
   "metadata": {},
   "outputs": [],
   "source": []
  },
  {
   "cell_type": "code",
   "execution_count": null,
   "id": "f328d611",
   "metadata": {},
   "outputs": [],
   "source": []
  }
 ],
 "metadata": {
  "kernelspec": {
   "display_name": "Python 3 (ipykernel)",
   "language": "python",
   "name": "python3"
  },
  "language_info": {
   "codemirror_mode": {
    "name": "ipython",
    "version": 3
   },
   "file_extension": ".py",
   "mimetype": "text/x-python",
   "name": "python",
   "nbconvert_exporter": "python",
   "pygments_lexer": "ipython3",
   "version": "3.11.3"
  },
  "toc": {
   "base_numbering": 1,
   "nav_menu": {},
   "number_sections": true,
   "sideBar": true,
   "skip_h1_title": false,
   "title_cell": "Table of Contents",
   "title_sidebar": "Contents",
   "toc_cell": false,
   "toc_position": {},
   "toc_section_display": true,
   "toc_window_display": false
  }
 },
 "nbformat": 4,
 "nbformat_minor": 5
}
