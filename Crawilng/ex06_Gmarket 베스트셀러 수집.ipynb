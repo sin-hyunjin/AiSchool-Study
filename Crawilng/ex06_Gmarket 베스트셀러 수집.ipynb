{
 "cells": [
  {
   "cell_type": "code",
   "execution_count": 1,
   "id": "e6c90f23",
   "metadata": {
    "ExecuteTime": {
     "end_time": "2023-10-11T02:37:41.084712Z",
     "start_time": "2023-10-11T02:37:40.479543Z"
    }
   },
   "outputs": [],
   "source": [
    "from selenium import webdriver as wb\n",
    "from selenium.webdriver.common.by import By\n",
    "from selenium.webdriver.common.keys import Keys\n",
    "import pandas as pd\n",
    "import time"
   ]
  },
  {
   "cell_type": "markdown",
   "id": "6d213877",
   "metadata": {},
   "source": [
    "### Gmarket 베스트페이지에서 자동으로 페이지 이동 후 상품명, 가격, 카테고리 수집"
   ]
  },
  {
   "cell_type": "markdown",
   "id": "8b0ff56b",
   "metadata": {},
   "source": [
    "- 첫번째 상품정보 수집하기!"
   ]
  },
  {
   "cell_type": "code",
   "execution_count": 6,
   "id": "11d4b7bf",
   "metadata": {
    "ExecuteTime": {
     "end_time": "2023-10-11T02:43:19.355597Z",
     "start_time": "2023-10-11T02:43:15.917122Z"
    }
   },
   "outputs": [],
   "source": [
    "# Chrome 브라우저 실행\n",
    "driver = wb.Chrome()\n",
    "# Gmarket 사이트로 이동\n",
    "driver.get('http://corners.gmarket.co.kr/Bestsellers')"
   ]
  },
  {
   "cell_type": "code",
   "execution_count": 7,
   "id": "4c760a2b",
   "metadata": {
    "ExecuteTime": {
     "end_time": "2023-10-11T02:43:34.262255Z",
     "start_time": "2023-10-11T02:43:19.357793Z"
    }
   },
   "outputs": [],
   "source": [
    "# 첫번째 상품을 클릭해서 이동\n",
    "# 힌트 : 상품의 이미지를 클릭하기~\n",
    "img = driver.find_elements(By.CSS_SELECTOR,'img.image__lazy.image__load')\n",
    "img[0].click()"
   ]
  },
  {
   "cell_type": "code",
   "execution_count": 11,
   "id": "9166d4a1",
   "metadata": {
    "ExecuteTime": {
     "end_time": "2023-10-11T02:48:14.105431Z",
     "start_time": "2023-10-11T02:48:14.013498Z"
    }
   },
   "outputs": [
    {
     "name": "stdout",
     "output_type": "stream",
     "text": [
      "슬라이스 쪽갈비 400gX4팩 20,900원 수입돼지고기\n"
     ]
    }
   ],
   "source": [
    "# 상품의 정보수집\n",
    "# 1. 상품명 수집\n",
    "title = driver.find_element(By.CSS_SELECTOR, 'h1.itemtit')\n",
    "\n",
    "# 2. 상품 가격 수집\n",
    "price = driver.find_element(By.CSS_SELECTOR, 'strong.price_real')\n",
    "\n",
    "# 3. 상품 마지막카테고리 수집\n",
    "cate = driver.find_element(By.CSS_SELECTOR, 'li.on > a')\n",
    "\n",
    "print(title.text, price.text, cate.text)"
   ]
  },
  {
   "cell_type": "code",
   "execution_count": null,
   "id": "1421bf30",
   "metadata": {
    "ExecuteTime": {
     "end_time": "2023-10-11T02:37:44.603261Z",
     "start_time": "2023-10-11T02:37:44.603261Z"
    }
   },
   "outputs": [],
   "source": [
    "# 뒤로가기\n",
    "driver.back()"
   ]
  },
  {
   "cell_type": "markdown",
   "id": "aa4a2b48",
   "metadata": {},
   "source": [
    "### 1번째 상품부터 10번째 상품까지 데이터 수집"
   ]
  },
  {
   "cell_type": "code",
   "execution_count": 16,
   "id": "5bbe00e5",
   "metadata": {
    "ExecuteTime": {
     "end_time": "2023-10-11T03:37:37.954582Z",
     "start_time": "2023-10-11T03:35:31.865974Z"
    }
   },
   "outputs": [
    {
     "name": "stderr",
     "output_type": "stream",
     "text": [
      "C:\\Users\\gjaischool1\\AppData\\Local\\Temp\\ipykernel_6856\\1425094351.py:11: TqdmDeprecationWarning: This function will be removed in tqdm==5.0.0\n",
      "Please use `tqdm.notebook.tqdm` instead of `tqdm.tqdm_notebook`\n",
      "  for i in tq(range(10)):\n"
     ]
    },
    {
     "data": {
      "application/vnd.jupyter.widget-view+json": {
       "model_id": "6ce11ccbe0974e958ad472222981a630",
       "version_major": 2,
       "version_minor": 0
      },
      "text/plain": [
       "  0%|          | 0/10 [00:00<?, ?it/s]"
      ]
     },
     "metadata": {},
     "output_type": "display_data"
    }
   ],
   "source": [
    "# Chrome 브라우저 실행\n",
    "driver = wb.Chrome()\n",
    "# Gmarket 사이트로 이동\n",
    "driver.get('http://corners.gmarket.co.kr/Bestsellers')\n",
    "time.sleep(1)\n",
    "\n",
    "title_list = []\n",
    "price_list = []\n",
    "cate_list = []\n",
    "\n",
    "for i in tq(range(10)):\n",
    "    img = driver.find_elements(By.CSS_SELECTOR,'img.image__lazy.image__load')\n",
    "    img[i].click()\n",
    "    time.sleep(1)\n",
    "\n",
    "    # 1. 상품명 수집\n",
    "    title = driver.find_element(By.CSS_SELECTOR, 'h1.itemtit').text\n",
    "    # 2. 상품 가격 수집\n",
    "    price = driver.find_element(By.CSS_SELECTOR, 'strong.price_real').text\n",
    "    # 3. 상품 마지막카테고리 수집\n",
    "    cate = driver.find_element(By.CSS_SELECTOR, 'li.on > a').text\n",
    "    \n",
    "    title_list.append(title)\n",
    "    price_list.append(price)\n",
    "    cate_list.append(cate)\n",
    "    \n",
    "    driver.back()\n",
    "    time.sleep(1)\n",
    "\n",
    "# 데이터 프레임 만들기\n",
    "dic = {'상품명' : title_list, '가격' : price_list, '카테고리' : cate_list}\n",
    "gmarket = pd.DataFrame(dic)\n",
    "# csv 파일로내보내기\n",
    "gmarket.to_csv('data/지마켓.csv', encoding='euc-kr')"
   ]
  },
  {
   "cell_type": "markdown",
   "id": "2cef643d",
   "metadata": {},
   "source": [
    "### 현재 진행상황을 확인할수 있는 로딩바"
   ]
  },
  {
   "cell_type": "code",
   "execution_count": 14,
   "id": "91f30c8c",
   "metadata": {
    "ExecuteTime": {
     "end_time": "2023-10-11T03:33:45.481865Z",
     "start_time": "2023-10-11T03:33:45.472883Z"
    }
   },
   "outputs": [],
   "source": [
    "from tqdm import tqdm_notebook as tq"
   ]
  },
  {
   "cell_type": "code",
   "execution_count": null,
   "id": "b8059c50",
   "metadata": {},
   "outputs": [],
   "source": []
  },
  {
   "cell_type": "code",
   "execution_count": null,
   "id": "e8363a35",
   "metadata": {},
   "outputs": [],
   "source": []
  },
  {
   "cell_type": "code",
   "execution_count": null,
   "id": "7fbc0d8d",
   "metadata": {},
   "outputs": [],
   "source": []
  },
  {
   "cell_type": "code",
   "execution_count": null,
   "id": "e76805ff",
   "metadata": {},
   "outputs": [],
   "source": []
  },
  {
   "cell_type": "code",
   "execution_count": null,
   "id": "89f6821b",
   "metadata": {},
   "outputs": [],
   "source": []
  },
  {
   "cell_type": "code",
   "execution_count": null,
   "id": "b41e8f3a",
   "metadata": {},
   "outputs": [],
   "source": []
  },
  {
   "cell_type": "code",
   "execution_count": null,
   "id": "1eb87333",
   "metadata": {},
   "outputs": [],
   "source": []
  },
  {
   "cell_type": "code",
   "execution_count": null,
   "id": "8bdd7422",
   "metadata": {},
   "outputs": [],
   "source": []
  },
  {
   "cell_type": "code",
   "execution_count": null,
   "id": "0e640f72",
   "metadata": {},
   "outputs": [],
   "source": []
  },
  {
   "cell_type": "code",
   "execution_count": null,
   "id": "6e47f44a",
   "metadata": {},
   "outputs": [],
   "source": []
  },
  {
   "cell_type": "code",
   "execution_count": null,
   "id": "9efdfc22",
   "metadata": {},
   "outputs": [],
   "source": []
  },
  {
   "cell_type": "code",
   "execution_count": null,
   "id": "ebc3edd4",
   "metadata": {},
   "outputs": [],
   "source": []
  },
  {
   "cell_type": "code",
   "execution_count": null,
   "id": "05e45206",
   "metadata": {},
   "outputs": [],
   "source": []
  },
  {
   "cell_type": "code",
   "execution_count": null,
   "id": "4c27017a",
   "metadata": {},
   "outputs": [],
   "source": []
  },
  {
   "cell_type": "code",
   "execution_count": null,
   "id": "6bbe4a6c",
   "metadata": {},
   "outputs": [],
   "source": []
  },
  {
   "cell_type": "code",
   "execution_count": null,
   "id": "d7157bd5",
   "metadata": {},
   "outputs": [],
   "source": []
  },
  {
   "cell_type": "code",
   "execution_count": null,
   "id": "80deb8f1",
   "metadata": {},
   "outputs": [],
   "source": []
  },
  {
   "cell_type": "code",
   "execution_count": null,
   "id": "701e693e",
   "metadata": {},
   "outputs": [],
   "source": []
  },
  {
   "cell_type": "code",
   "execution_count": null,
   "id": "8a075d82",
   "metadata": {},
   "outputs": [],
   "source": []
  },
  {
   "cell_type": "code",
   "execution_count": null,
   "id": "c4de07c0",
   "metadata": {},
   "outputs": [],
   "source": []
  },
  {
   "cell_type": "code",
   "execution_count": null,
   "id": "96447a88",
   "metadata": {},
   "outputs": [],
   "source": []
  },
  {
   "cell_type": "code",
   "execution_count": null,
   "id": "6f49e8a5",
   "metadata": {},
   "outputs": [],
   "source": []
  },
  {
   "cell_type": "code",
   "execution_count": null,
   "id": "42cf1fd4",
   "metadata": {},
   "outputs": [],
   "source": []
  },
  {
   "cell_type": "code",
   "execution_count": null,
   "id": "24cabe5f",
   "metadata": {},
   "outputs": [],
   "source": []
  },
  {
   "cell_type": "code",
   "execution_count": null,
   "id": "d51ed4d5",
   "metadata": {},
   "outputs": [],
   "source": []
  },
  {
   "cell_type": "code",
   "execution_count": null,
   "id": "8a4e23f9",
   "metadata": {},
   "outputs": [],
   "source": []
  },
  {
   "cell_type": "code",
   "execution_count": null,
   "id": "e8354f20",
   "metadata": {},
   "outputs": [],
   "source": []
  },
  {
   "cell_type": "code",
   "execution_count": null,
   "id": "a2159461",
   "metadata": {},
   "outputs": [],
   "source": []
  },
  {
   "cell_type": "code",
   "execution_count": null,
   "id": "ea21cc98",
   "metadata": {},
   "outputs": [],
   "source": []
  },
  {
   "cell_type": "code",
   "execution_count": null,
   "id": "6e6998db",
   "metadata": {},
   "outputs": [],
   "source": []
  },
  {
   "cell_type": "code",
   "execution_count": null,
   "id": "689df107",
   "metadata": {},
   "outputs": [],
   "source": []
  },
  {
   "cell_type": "code",
   "execution_count": null,
   "id": "0e03b1c5",
   "metadata": {},
   "outputs": [],
   "source": []
  },
  {
   "cell_type": "code",
   "execution_count": null,
   "id": "94f077d8",
   "metadata": {},
   "outputs": [],
   "source": []
  },
  {
   "cell_type": "code",
   "execution_count": null,
   "id": "2aef86b1",
   "metadata": {},
   "outputs": [],
   "source": []
  },
  {
   "cell_type": "code",
   "execution_count": null,
   "id": "f0cae903",
   "metadata": {},
   "outputs": [],
   "source": []
  },
  {
   "cell_type": "code",
   "execution_count": null,
   "id": "f00c1c48",
   "metadata": {},
   "outputs": [],
   "source": []
  },
  {
   "cell_type": "code",
   "execution_count": null,
   "id": "f3d596ac",
   "metadata": {},
   "outputs": [],
   "source": []
  },
  {
   "cell_type": "code",
   "execution_count": null,
   "id": "101f0eb4",
   "metadata": {},
   "outputs": [],
   "source": []
  },
  {
   "cell_type": "code",
   "execution_count": null,
   "id": "16da3626",
   "metadata": {},
   "outputs": [],
   "source": []
  },
  {
   "cell_type": "code",
   "execution_count": null,
   "id": "98db92be",
   "metadata": {},
   "outputs": [],
   "source": []
  },
  {
   "cell_type": "code",
   "execution_count": null,
   "id": "f7efecda",
   "metadata": {},
   "outputs": [],
   "source": []
  },
  {
   "cell_type": "code",
   "execution_count": null,
   "id": "69156254",
   "metadata": {},
   "outputs": [],
   "source": []
  },
  {
   "cell_type": "code",
   "execution_count": null,
   "id": "6dcfd2a2",
   "metadata": {},
   "outputs": [],
   "source": []
  },
  {
   "cell_type": "code",
   "execution_count": null,
   "id": "b1adfd3a",
   "metadata": {},
   "outputs": [],
   "source": []
  },
  {
   "cell_type": "code",
   "execution_count": null,
   "id": "a92b1cf1",
   "metadata": {},
   "outputs": [],
   "source": []
  },
  {
   "cell_type": "code",
   "execution_count": null,
   "id": "649daa76",
   "metadata": {},
   "outputs": [],
   "source": []
  },
  {
   "cell_type": "code",
   "execution_count": null,
   "id": "0f2ab374",
   "metadata": {},
   "outputs": [],
   "source": []
  },
  {
   "cell_type": "code",
   "execution_count": null,
   "id": "aa2787d8",
   "metadata": {},
   "outputs": [],
   "source": []
  },
  {
   "cell_type": "code",
   "execution_count": null,
   "id": "4125939a",
   "metadata": {},
   "outputs": [],
   "source": []
  },
  {
   "cell_type": "code",
   "execution_count": null,
   "id": "54f0abc0",
   "metadata": {},
   "outputs": [],
   "source": []
  },
  {
   "cell_type": "code",
   "execution_count": null,
   "id": "d647e1f7",
   "metadata": {},
   "outputs": [],
   "source": []
  },
  {
   "cell_type": "code",
   "execution_count": null,
   "id": "47f505da",
   "metadata": {},
   "outputs": [],
   "source": []
  },
  {
   "cell_type": "code",
   "execution_count": null,
   "id": "0030d563",
   "metadata": {},
   "outputs": [],
   "source": []
  },
  {
   "cell_type": "code",
   "execution_count": null,
   "id": "39350816",
   "metadata": {},
   "outputs": [],
   "source": []
  },
  {
   "cell_type": "code",
   "execution_count": null,
   "id": "dfcd302a",
   "metadata": {},
   "outputs": [],
   "source": []
  }
 ],
 "metadata": {
  "kernelspec": {
   "display_name": "Python 3 (ipykernel)",
   "language": "python",
   "name": "python3"
  },
  "language_info": {
   "codemirror_mode": {
    "name": "ipython",
    "version": 3
   },
   "file_extension": ".py",
   "mimetype": "text/x-python",
   "name": "python",
   "nbconvert_exporter": "python",
   "pygments_lexer": "ipython3",
   "version": "3.10.9"
  },
  "toc": {
   "base_numbering": 1,
   "nav_menu": {},
   "number_sections": true,
   "sideBar": true,
   "skip_h1_title": false,
   "title_cell": "Table of Contents",
   "title_sidebar": "Contents",
   "toc_cell": false,
   "toc_position": {},
   "toc_section_display": true,
   "toc_window_display": false
  }
 },
 "nbformat": 4,
 "nbformat_minor": 5
}
