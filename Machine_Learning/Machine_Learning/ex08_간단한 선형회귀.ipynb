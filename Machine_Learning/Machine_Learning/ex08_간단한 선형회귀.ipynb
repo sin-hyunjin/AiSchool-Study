{
 "cells": [
  {
   "cell_type": "markdown",
   "id": "be04bf06",
   "metadata": {},
   "source": [
    "### 선형회귀 이해하기 \n",
    "- 성적 데이터를 기반으로 선형회귀를 이해해보자 \n"
   ]
  },
  {
   "cell_type": "markdown",
   "id": "08a76085",
   "metadata": {},
   "source": [
    "- 선형모델\n",
    "    : 입력 데이터를 설명할 수 있는 선형 함수를 구하는 것 \n",
    "    : 선형함수 기본식\n",
    "    : 문제가 1개 ==> y= wx + b\n",
    "    : 문제개 p개 ==> y = w1x1 + w2x2 + ... + wpxp + b\n",
    "    : 입력 데이터를 완벽하게 설명하는 선형함수를 찾는 것은 불가능\n",
    "        ==> 오차가 가장 작은 선형함수 찾자 : MSE가 가장 작은 선형함수가 최선의 선형함수\n",
    "            그릴 수 있는 선형함수의 수가 무한대이기 떄문에 모든 선형함수의 오차를 계산할 수 없음.\n",
    "        "
   ]
  },
  {
   "cell_type": "code",
   "execution_count": null,
   "id": "a9c15d3f",
   "metadata": {},
   "outputs": [],
   "source": []
  },
  {
   "cell_type": "code",
   "execution_count": 38,
   "id": "1a25c89b",
   "metadata": {
    "ExecuteTime": {
     "end_time": "2023-09-04T01:36:55.590326Z",
     "start_time": "2023-09-04T01:36:55.587644Z"
    }
   },
   "outputs": [],
   "source": [
    "# 성적데이터 생성을 위한 라이브러리 꺼내오기\n",
    "import pandas as pd \n",
    "import warnings\n",
    "warnings.filterwarnings('ignore') # warning을 무시하기"
   ]
  },
  {
   "cell_type": "code",
   "execution_count": 7,
   "id": "839b2ab3",
   "metadata": {
    "ExecuteTime": {
     "end_time": "2023-09-04T00:43:48.439112Z",
     "start_time": "2023-09-04T00:43:48.431907Z"
    }
   },
   "outputs": [
    {
     "data": {
      "text/html": [
       "<div>\n",
       "<style scoped>\n",
       "    .dataframe tbody tr th:only-of-type {\n",
       "        vertical-align: middle;\n",
       "    }\n",
       "\n",
       "    .dataframe tbody tr th {\n",
       "        vertical-align: top;\n",
       "    }\n",
       "\n",
       "    .dataframe thead th {\n",
       "        text-align: right;\n",
       "    }\n",
       "</style>\n",
       "<table border=\"1\" class=\"dataframe\">\n",
       "  <thead>\n",
       "    <tr style=\"text-align: right;\">\n",
       "      <th></th>\n",
       "      <th>시간</th>\n",
       "      <th>성적</th>\n",
       "    </tr>\n",
       "  </thead>\n",
       "  <tbody>\n",
       "    <tr>\n",
       "      <th>명인</th>\n",
       "      <td>2</td>\n",
       "      <td>20</td>\n",
       "    </tr>\n",
       "    <tr>\n",
       "      <th>한수</th>\n",
       "      <td>4</td>\n",
       "      <td>40</td>\n",
       "    </tr>\n",
       "    <tr>\n",
       "      <th>보원</th>\n",
       "      <td>8</td>\n",
       "      <td>80</td>\n",
       "    </tr>\n",
       "    <tr>\n",
       "      <th>힌솔</th>\n",
       "      <td>9</td>\n",
       "      <td>90</td>\n",
       "    </tr>\n",
       "  </tbody>\n",
       "</table>\n",
       "</div>"
      ],
      "text/plain": [
       "    시간  성적\n",
       "명인   2  20\n",
       "한수   4  40\n",
       "보원   8  80\n",
       "힌솔   9  90"
      ]
     },
     "execution_count": 7,
     "metadata": {},
     "output_type": "execute_result"
    }
   ],
   "source": [
    "# 성적데이터 생성 \n",
    "data = pd.DataFrame([[2,20], [4,40], [8,80], [9,90]],\n",
    "            index= ['명인', '한수', '보원', '힌솔'],\n",
    "            columns=['시간','성적'])\n",
    "\n",
    "data"
   ]
  },
  {
   "cell_type": "markdown",
   "id": "ab8d8f38",
   "metadata": {},
   "source": [
    "### MSE가 최소가 되는 최적의 w,b를 찾는 방법\n",
    "- MSE : 평균제곱오차(mean squared error) --> 비용함수(cost)\n",
    "- 1. 수학 공식을 이용한 해석적 모델 : LinearRegression\n",
    "- 2. 경사하강법 : SGDRegressor --> XGBoost 에서 오차를 계산하는 방법"
   ]
  },
  {
   "cell_type": "markdown",
   "id": "8f5cf8d2",
   "metadata": {},
   "source": [
    "#### 수학 공식을 이용한 해석적 모델\n",
    "- LinearRegression \n",
    "- 공식을 이용해서 적은 계산으로 한번에 최적의 선형함수를 찾는 방법 \n",
    "- 공식이 완벽하지 않을 경우 최적의 선형함수를 잘 못찾을수도 있고, ==> 단점\n",
    "- 공식이 잘못되었을때 고칠 수 없다는 문제 "
   ]
  },
  {
   "cell_type": "code",
   "execution_count": 39,
   "id": "8f49527b",
   "metadata": {
    "ExecuteTime": {
     "end_time": "2023-09-04T01:36:58.112785Z",
     "start_time": "2023-09-04T01:36:58.105128Z"
    }
   },
   "outputs": [
    {
     "data": {
      "text/html": [
       "<style>#sk-container-id-2 {color: black;background-color: white;}#sk-container-id-2 pre{padding: 0;}#sk-container-id-2 div.sk-toggleable {background-color: white;}#sk-container-id-2 label.sk-toggleable__label {cursor: pointer;display: block;width: 100%;margin-bottom: 0;padding: 0.3em;box-sizing: border-box;text-align: center;}#sk-container-id-2 label.sk-toggleable__label-arrow:before {content: \"▸\";float: left;margin-right: 0.25em;color: #696969;}#sk-container-id-2 label.sk-toggleable__label-arrow:hover:before {color: black;}#sk-container-id-2 div.sk-estimator:hover label.sk-toggleable__label-arrow:before {color: black;}#sk-container-id-2 div.sk-toggleable__content {max-height: 0;max-width: 0;overflow: hidden;text-align: left;background-color: #f0f8ff;}#sk-container-id-2 div.sk-toggleable__content pre {margin: 0.2em;color: black;border-radius: 0.25em;background-color: #f0f8ff;}#sk-container-id-2 input.sk-toggleable__control:checked~div.sk-toggleable__content {max-height: 200px;max-width: 100%;overflow: auto;}#sk-container-id-2 input.sk-toggleable__control:checked~label.sk-toggleable__label-arrow:before {content: \"▾\";}#sk-container-id-2 div.sk-estimator input.sk-toggleable__control:checked~label.sk-toggleable__label {background-color: #d4ebff;}#sk-container-id-2 div.sk-label input.sk-toggleable__control:checked~label.sk-toggleable__label {background-color: #d4ebff;}#sk-container-id-2 input.sk-hidden--visually {border: 0;clip: rect(1px 1px 1px 1px);clip: rect(1px, 1px, 1px, 1px);height: 1px;margin: -1px;overflow: hidden;padding: 0;position: absolute;width: 1px;}#sk-container-id-2 div.sk-estimator {font-family: monospace;background-color: #f0f8ff;border: 1px dotted black;border-radius: 0.25em;box-sizing: border-box;margin-bottom: 0.5em;}#sk-container-id-2 div.sk-estimator:hover {background-color: #d4ebff;}#sk-container-id-2 div.sk-parallel-item::after {content: \"\";width: 100%;border-bottom: 1px solid gray;flex-grow: 1;}#sk-container-id-2 div.sk-label:hover label.sk-toggleable__label {background-color: #d4ebff;}#sk-container-id-2 div.sk-serial::before {content: \"\";position: absolute;border-left: 1px solid gray;box-sizing: border-box;top: 0;bottom: 0;left: 50%;z-index: 0;}#sk-container-id-2 div.sk-serial {display: flex;flex-direction: column;align-items: center;background-color: white;padding-right: 0.2em;padding-left: 0.2em;position: relative;}#sk-container-id-2 div.sk-item {position: relative;z-index: 1;}#sk-container-id-2 div.sk-parallel {display: flex;align-items: stretch;justify-content: center;background-color: white;position: relative;}#sk-container-id-2 div.sk-item::before, #sk-container-id-2 div.sk-parallel-item::before {content: \"\";position: absolute;border-left: 1px solid gray;box-sizing: border-box;top: 0;bottom: 0;left: 50%;z-index: -1;}#sk-container-id-2 div.sk-parallel-item {display: flex;flex-direction: column;z-index: 1;position: relative;background-color: white;}#sk-container-id-2 div.sk-parallel-item:first-child::after {align-self: flex-end;width: 50%;}#sk-container-id-2 div.sk-parallel-item:last-child::after {align-self: flex-start;width: 50%;}#sk-container-id-2 div.sk-parallel-item:only-child::after {width: 0;}#sk-container-id-2 div.sk-dashed-wrapped {border: 1px dashed gray;margin: 0 0.4em 0.5em 0.4em;box-sizing: border-box;padding-bottom: 0.4em;background-color: white;}#sk-container-id-2 div.sk-label label {font-family: monospace;font-weight: bold;display: inline-block;line-height: 1.2em;}#sk-container-id-2 div.sk-label-container {text-align: center;}#sk-container-id-2 div.sk-container {/* jupyter's `normalize.less` sets `[hidden] { display: none; }` but bootstrap.min.css set `[hidden] { display: none !important; }` so we also need the `!important` here to be able to override the default hidden behavior on the sphinx rendered scikit-learn.org. See: https://github.com/scikit-learn/scikit-learn/issues/21755 */display: inline-block !important;position: relative;}#sk-container-id-2 div.sk-text-repr-fallback {display: none;}</style><div id=\"sk-container-id-2\" class=\"sk-top-container\"><div class=\"sk-text-repr-fallback\"><pre>LinearRegression()</pre><b>In a Jupyter environment, please rerun this cell to show the HTML representation or trust the notebook. <br />On GitHub, the HTML representation is unable to render, please try loading this page with nbviewer.org.</b></div><div class=\"sk-container\" hidden><div class=\"sk-item\"><div class=\"sk-estimator sk-toggleable\"><input class=\"sk-toggleable__control sk-hidden--visually\" id=\"sk-estimator-id-2\" type=\"checkbox\" checked><label for=\"sk-estimator-id-2\" class=\"sk-toggleable__label sk-toggleable__label-arrow\">LinearRegression</label><div class=\"sk-toggleable__content\"><pre>LinearRegression()</pre></div></div></div></div></div>"
      ],
      "text/plain": [
       "LinearRegression()"
      ]
     },
     "execution_count": 39,
     "metadata": {},
     "output_type": "execute_result"
    }
   ],
   "source": [
    "from sklearn.linear_model import LinearRegression\n",
    "\n",
    "# 모델 생성\n",
    "lm = LinearRegression()\n",
    "\n",
    "# 학습\n",
    "lm.fit(data[['시간']], data['성적'])"
   ]
  },
  {
   "cell_type": "markdown",
   "id": "3a1edd9e",
   "metadata": {},
   "source": [
    "#### 선형함수\n",
    "- 선형함수 기본식 : y = wx + b(1개의 문제)\n",
    "- x : 문제, 특성\n",
    "- p개의 문제(특성)\n",
    "- y= w1x1 \n",
    "\n",
    "오차가 가장 작은 선형함수를 찾는방법\n",
    "- 평균제곱오차(MSE)"
   ]
  },
  {
   "cell_type": "code",
   "execution_count": 16,
   "id": "33ea15d3",
   "metadata": {
    "ExecuteTime": {
     "end_time": "2023-09-04T01:27:41.042482Z",
     "start_time": "2023-09-04T01:27:41.039253Z"
    }
   },
   "outputs": [
    {
     "name": "stdout",
     "output_type": "stream",
     "text": [
      "기울기, 가중치 :  [10.]\n",
      "절편, 편향 : 7.105427357601002e-15\n"
     ]
    }
   ],
   "source": [
    "# 기울기, 가중치 출력 \n",
    "print('기울기, 가중치 : ', lm.coef_)\n",
    "\n",
    "# 절편, 편향 출력\n",
    "print('절편, 편향 :', lm.intercept_)"
   ]
  },
  {
   "cell_type": "code",
   "execution_count": 14,
   "id": "f7e3e6e6",
   "metadata": {
    "ExecuteTime": {
     "end_time": "2023-09-04T01:22:59.980971Z",
     "start_time": "2023-09-04T01:22:59.976775Z"
    }
   },
   "outputs": [
    {
     "data": {
      "text/plain": [
       "array([70.])"
      ]
     },
     "execution_count": 14,
     "metadata": {},
     "output_type": "execute_result"
    }
   ],
   "source": [
    "# 내가 7시간 공부했을때 몇 점? - 예측\n",
    "lm.predict([[7]])"
   ]
  },
  {
   "cell_type": "markdown",
   "id": "df72a471",
   "metadata": {},
   "source": [
    "#### H(x)\n",
    "- 가설 함수 "
   ]
  },
  {
   "cell_type": "code",
   "execution_count": 21,
   "id": "7301db32",
   "metadata": {
    "ExecuteTime": {
     "end_time": "2023-09-04T01:30:35.171464Z",
     "start_time": "2023-09-04T01:30:35.169090Z"
    }
   },
   "outputs": [],
   "source": [
    "# 함수 정의 \n",
    "def h(w,x) :\n",
    "    return w*x + 0 "
   ]
  },
  {
   "cell_type": "markdown",
   "id": "0be2e38a",
   "metadata": {},
   "source": [
    "#### 비용함수(Cost funtion)\n",
    "- 비용함수 "
   ]
  },
  {
   "cell_type": "code",
   "execution_count": 36,
   "id": "ede47b55",
   "metadata": {
    "ExecuteTime": {
     "end_time": "2023-09-04T01:36:37.590553Z",
     "start_time": "2023-09-04T01:36:37.587586Z"
    }
   },
   "outputs": [],
   "source": [
    "# 비용함수 정의 \n",
    "# data : 문제값\n",
    "# target : 정답(실제값)\n",
    "# weight : 가중치 \n",
    "\n",
    "def cost(data, target, weight) :\n",
    "    # 예측\n",
    "    y_pre = h(weight, data)\n",
    "    # ((예측값 - 실제값) ** 2).mean() ==> 평균제곱오차\n",
    "    error = ((y_pre - target) **2).mean()\n",
    "    return error\n"
   ]
  },
  {
   "cell_type": "code",
   "execution_count": 35,
   "id": "c27ba0c7",
   "metadata": {
    "ExecuteTime": {
     "end_time": "2023-09-04T01:36:35.589460Z",
     "start_time": "2023-09-04T01:36:35.584872Z"
    }
   },
   "outputs": [
    {
     "data": {
      "text/plain": [
       "3341.25"
      ]
     },
     "execution_count": 35,
     "metadata": {},
     "output_type": "execute_result"
    }
   ],
   "source": [
    "# 가중치에 따른 오차값 확인 \n",
    "cost(data['시간'],data['성적'], 1)"
   ]
  },
  {
   "cell_type": "code",
   "execution_count": 34,
   "id": "62377f00",
   "metadata": {
    "ExecuteTime": {
     "end_time": "2023-09-04T01:36:34.452595Z",
     "start_time": "2023-09-04T01:36:34.431625Z"
    }
   },
   "outputs": [
    {
     "data": {
      "text/plain": [
       "[16500.0,\n",
       " 14891.25,\n",
       " 13365.0,\n",
       " 11921.25,\n",
       " 10560.0,\n",
       " 9281.25,\n",
       " 8085.0,\n",
       " 6971.25,\n",
       " 5940.0,\n",
       " 4991.25,\n",
       " 4125.0,\n",
       " 3341.25,\n",
       " 2640.0,\n",
       " 2021.25,\n",
       " 1485.0,\n",
       " 1031.25,\n",
       " 660.0,\n",
       " 371.25,\n",
       " 165.0,\n",
       " 41.25,\n",
       " 0.0,\n",
       " 41.25,\n",
       " 165.0,\n",
       " 371.25,\n",
       " 660.0,\n",
       " 1031.25,\n",
       " 1485.0,\n",
       " 2021.25,\n",
       " 2640.0,\n",
       " 3341.25,\n",
       " 4125.0,\n",
       " 4991.25,\n",
       " 5940.0,\n",
       " 6971.25,\n",
       " 8085.0,\n",
       " 9281.25,\n",
       " 10560.0,\n",
       " 11921.25,\n",
       " 13365.0,\n",
       " 14891.25,\n",
       " 16500.0]"
      ]
     },
     "execution_count": 34,
     "metadata": {},
     "output_type": "execute_result"
    }
   ],
   "source": [
    "# 가중치 변화에 따른 비용함수와 변화를 그래프로 확인하기 \n",
    "cost_list = []\n",
    "# -10 ~ 30 가중치 변화\n",
    "for w in range(-10,31) :\n",
    "    err = cost(data['시간'], data['성적'], w)\n",
    "    cost_list.append(err)\n",
    "\n",
    "cost_list"
   ]
  },
  {
   "cell_type": "code",
   "execution_count": 43,
   "id": "7f315d07",
   "metadata": {
    "ExecuteTime": {
     "end_time": "2023-09-04T01:38:08.333394Z",
     "start_time": "2023-09-04T01:38:07.872093Z"
    }
   },
   "outputs": [
    {
     "data": {
      "text/plain": [
       "<function matplotlib.pyplot.show(close=None, block=None)>"
      ]
     },
     "execution_count": 43,
     "metadata": {},
     "output_type": "execute_result"
    },
    {
     "data": {
      "image/png": "[encoded data removed]",
      "text/plain": [
       "<Figure size 640x480 with 1 Axes>"
      ]
     },
     "metadata": {},
     "output_type": "display_data"
    }
   ],
   "source": [
    "# 비용함수(MSE) 그래프 그리기 \n",
    "import matplotlib.pyplot as plt\n",
    "plt.plot(range(-10,31), cost_list)\n",
    "plt.show\n"
   ]
  },
  {
   "cell_type": "code",
   "execution_count": 54,
   "id": "43a7bb4b",
   "metadata": {
    "ExecuteTime": {
     "end_time": "2023-09-04T01:47:32.927718Z",
     "start_time": "2023-09-04T01:47:32.921432Z"
    }
   },
   "outputs": [
    {
     "data": {
      "text/plain": [
       "1.0"
      ]
     },
     "execution_count": 54,
     "metadata": {},
     "output_type": "execute_result"
    }
   ],
   "source": [
    "# 분류 모델 : 정확도 - score\n",
    "# 회귀 모델 : socre (R2 스코어 - 유사도)\n",
    "\n",
    "lm.score(data[['시간']],data['성적'])"
   ]
  },
  {
   "cell_type": "code",
   "execution_count": null,
   "id": "953d8b9b",
   "metadata": {},
   "outputs": [],
   "source": []
  },
  {
   "cell_type": "markdown",
   "id": "b8159a28",
   "metadata": {},
   "source": [
    "#### 경사하강법 \n",
    "- SGDRegressor\n",
    "- 점진적으로 오차가 작은 선형함수를 찾아가는 방법\n",
    "- 오차를 수정하는 방향으로 그래프를 다시 그려줌 \n",
    "- 선형함수를 잘못 찾았을 경우 수정이 가능 ==> 장점\n",
    "- 점진적으로 찾아가므로 계산량이 많아 시간이 오래 걸림 ==> 단점\n",
    "- 학습율(learning rate)\n",
    "    - 너무 크게 설정하면 : 오차가 커짐(발산)\n",
    "    - 너무 작게 설정하면 : "
   ]
  },
  {
   "cell_type": "code",
   "execution_count": 48,
   "id": "24543492",
   "metadata": {
    "ExecuteTime": {
     "end_time": "2023-09-04T01:41:48.725800Z",
     "start_time": "2023-09-04T01:41:48.708509Z"
    }
   },
   "outputs": [
    {
     "name": "stdout",
     "output_type": "stream",
     "text": [
      "-- Epoch 1\n",
      "Norm: 1.20, NNZs: 1, Bias: 0.175382, T: 4, Avg. loss: 1895.532670\n",
      "Total training time: 0.00 seconds.\n",
      "-- Epoch 2\n",
      "Norm: 2.06, NNZs: 1, Bias: 0.296417, T: 8, Avg. loss: 1490.061601\n",
      "Total training time: 0.00 seconds.\n",
      "-- Epoch 3\n",
      "Norm: 2.75, NNZs: 1, Bias: 0.394038, T: 12, Avg. loss: 1217.312314\n",
      "Total training time: 0.00 seconds.\n",
      "-- Epoch 4\n",
      "Norm: 3.33, NNZs: 1, Bias: 0.476212, T: 16, Avg. loss: 1014.163223\n",
      "Total training time: 0.00 seconds.\n",
      "-- Epoch 5\n",
      "Norm: 3.84, NNZs: 1, Bias: 0.547347, T: 20, Avg. loss: 855.544259\n",
      "Total training time: 0.00 seconds.\n",
      "-- Epoch 6\n",
      "Norm: 4.29, NNZs: 1, Bias: 0.609813, T: 24, Avg. loss: 728.488493\n",
      "Total training time: 0.00 seconds.\n",
      "-- Epoch 7\n",
      "Norm: 4.69, NNZs: 1, Bias: 0.665369, T: 28, Avg. loss: 624.712183\n",
      "Total training time: 0.00 seconds.\n",
      "-- Epoch 8\n",
      "Norm: 5.04, NNZs: 1, Bias: 0.715148, T: 32, Avg. loss: 538.881581\n",
      "Total training time: 0.00 seconds.\n",
      "-- Epoch 9\n",
      "Norm: 5.36, NNZs: 1, Bias: 0.760086, T: 36, Avg. loss: 467.085168\n",
      "Total training time: 0.00 seconds.\n",
      "-- Epoch 10\n",
      "Norm: 5.66, NNZs: 1, Bias: 0.800844, T: 40, Avg. loss: 406.563932\n",
      "Total training time: 0.00 seconds.\n",
      "-- Epoch 11\n",
      "Norm: 5.92, NNZs: 1, Bias: 0.837997, T: 44, Avg. loss: 355.155245\n",
      "Total training time: 0.00 seconds.\n",
      "-- Epoch 12\n",
      "Norm: 6.17, NNZs: 1, Bias: 0.871975, T: 48, Avg. loss: 311.253782\n",
      "Total training time: 0.00 seconds.\n",
      "-- Epoch 13\n",
      "Norm: 6.39, NNZs: 1, Bias: 0.903162, T: 52, Avg. loss: 273.551242\n",
      "Total training time: 0.00 seconds.\n",
      "-- Epoch 14\n",
      "Norm: 6.60, NNZs: 1, Bias: 0.931857, T: 56, Avg. loss: 241.043725\n",
      "Total training time: 0.00 seconds.\n",
      "-- Epoch 15\n",
      "Norm: 6.79, NNZs: 1, Bias: 0.958333, T: 60, Avg. loss: 212.892029\n",
      "Total training time: 0.00 seconds.\n",
      "-- Epoch 16\n",
      "Norm: 6.97, NNZs: 1, Bias: 0.982809, T: 64, Avg. loss: 188.436826\n",
      "Total training time: 0.00 seconds.\n",
      "-- Epoch 17\n",
      "Norm: 7.13, NNZs: 1, Bias: 1.005483, T: 68, Avg. loss: 167.117076\n",
      "Total training time: 0.00 seconds.\n",
      "-- Epoch 18\n",
      "Norm: 7.28, NNZs: 1, Bias: 1.026524, T: 72, Avg. loss: 148.484038\n",
      "Total training time: 0.00 seconds.\n",
      "-- Epoch 19\n",
      "Norm: 7.43, NNZs: 1, Bias: 1.046082, T: 76, Avg. loss: 132.150854\n",
      "Total training time: 0.00 seconds.\n",
      "-- Epoch 20\n",
      "Norm: 7.56, NNZs: 1, Bias: 1.064286, T: 80, Avg. loss: 117.803678\n",
      "Total training time: 0.00 seconds.\n",
      "-- Epoch 21\n",
      "Norm: 7.68, NNZs: 1, Bias: 1.081254, T: 84, Avg. loss: 105.169247\n",
      "Total training time: 0.00 seconds.\n",
      "-- Epoch 22\n",
      "Norm: 7.80, NNZs: 1, Bias: 1.097089, T: 88, Avg. loss: 94.023279\n",
      "Total training time: 0.00 seconds.\n",
      "-- Epoch 23\n",
      "Norm: 7.90, NNZs: 1, Bias: 1.111882, T: 92, Avg. loss: 84.168974\n",
      "Total training time: 0.00 seconds.\n",
      "-- Epoch 24\n",
      "Norm: 8.00, NNZs: 1, Bias: 1.125718, T: 96, Avg. loss: 75.443208\n",
      "Total training time: 0.00 seconds.\n",
      "-- Epoch 25\n",
      "Norm: 8.10, NNZs: 1, Bias: 1.138669, T: 100, Avg. loss: 67.701968\n",
      "Total training time: 0.00 seconds.\n",
      "-- Epoch 26\n",
      "Norm: 8.19, NNZs: 1, Bias: 1.150805, T: 104, Avg. loss: 60.824866\n",
      "Total training time: 0.00 seconds.\n",
      "-- Epoch 27\n",
      "Norm: 8.27, NNZs: 1, Bias: 1.162186, T: 108, Avg. loss: 54.705087\n",
      "Total training time: 0.00 seconds.\n",
      "-- Epoch 28\n",
      "Norm: 8.35, NNZs: 1, Bias: 1.172867, T: 112, Avg. loss: 49.252672\n",
      "Total training time: 0.00 seconds.\n",
      "-- Epoch 29\n",
      "Norm: 8.42, NNZs: 1, Bias: 1.182897, T: 116, Avg. loss: 44.387483\n",
      "Total training time: 0.00 seconds.\n",
      "-- Epoch 30\n",
      "Norm: 8.49, NNZs: 1, Bias: 1.192326, T: 120, Avg. loss: 40.041574\n",
      "Total training time: 0.00 seconds.\n",
      "-- Epoch 31\n",
      "Norm: 8.56, NNZs: 1, Bias: 1.201192, T: 124, Avg. loss: 36.154220\n",
      "Total training time: 0.00 seconds.\n",
      "-- Epoch 32\n",
      "Norm: 8.62, NNZs: 1, Bias: 1.209535, T: 128, Avg. loss: 32.673618\n",
      "Total training time: 0.00 seconds.\n",
      "-- Epoch 33\n",
      "Norm: 8.68, NNZs: 1, Bias: 1.217391, T: 132, Avg. loss: 29.553354\n",
      "Total training time: 0.00 seconds.\n",
      "-- Epoch 34\n",
      "Norm: 8.73, NNZs: 1, Bias: 1.224791, T: 136, Avg. loss: 26.753602\n",
      "Total training time: 0.00 seconds.\n",
      "-- Epoch 35\n",
      "Norm: 8.78, NNZs: 1, Bias: 1.231766, T: 140, Avg. loss: 24.238610\n",
      "Total training time: 0.00 seconds.\n",
      "-- Epoch 36\n",
      "Norm: 8.83, NNZs: 1, Bias: 1.238344, T: 144, Avg. loss: 21.977539\n",
      "Total training time: 0.00 seconds.\n",
      "-- Epoch 37\n",
      "Norm: 8.88, NNZs: 1, Bias: 1.244549, T: 148, Avg. loss: 19.942656\n",
      "Total training time: 0.00 seconds.\n",
      "-- Epoch 38\n",
      "Norm: 8.92, NNZs: 1, Bias: 1.250405, T: 152, Avg. loss: 18.109920\n",
      "Total training time: 0.00 seconds.\n",
      "-- Epoch 39\n",
      "Norm: 8.97, NNZs: 1, Bias: 1.255934, T: 156, Avg. loss: 16.457689\n",
      "Total training time: 0.00 seconds.\n",
      "-- Epoch 40\n",
      "Norm: 9.01, NNZs: 1, Bias: 1.261156, T: 160, Avg. loss: 14.967109\n",
      "Total training time: 0.00 seconds.\n",
      "-- Epoch 41\n",
      "Norm: 9.04, NNZs: 1, Bias: 1.266090, T: 164, Avg. loss: 13.621193\n",
      "Total training time: 0.00 seconds.\n",
      "-- Epoch 42\n",
      "Norm: 9.08, NNZs: 1, Bias: 1.270753, T: 168, Avg. loss: 12.405076\n",
      "Total training time: 0.00 seconds.\n",
      "-- Epoch 43\n",
      "Norm: 9.11, NNZs: 1, Bias: 1.275162, T: 172, Avg. loss: 11.305357\n",
      "Total training time: 0.00 seconds.\n",
      "-- Epoch 44\n",
      "Norm: 9.14, NNZs: 1, Bias: 1.279331, T: 176, Avg. loss: 10.310256\n",
      "Total training time: 0.00 seconds.\n",
      "-- Epoch 45\n",
      "Norm: 9.17, NNZs: 1, Bias: 1.283274, T: 180, Avg. loss: 9.409152\n",
      "Total training time: 0.00 seconds.\n",
      "-- Epoch 46\n",
      "Norm: 9.20, NNZs: 1, Bias: 1.287005, T: 184, Avg. loss: 8.592665\n",
      "Total training time: 0.00 seconds.\n",
      "-- Epoch 47\n",
      "Norm: 9.23, NNZs: 1, Bias: 1.290536, T: 188, Avg. loss: 7.852344\n",
      "Total training time: 0.00 seconds.\n",
      "-- Epoch 48\n",
      "Norm: 9.26, NNZs: 1, Bias: 1.293878, T: 192, Avg. loss: 7.180688\n",
      "Total training time: 0.00 seconds.\n",
      "-- Epoch 49\n",
      "Norm: 9.28, NNZs: 1, Bias: 1.297042, T: 196, Avg. loss: 6.570943\n",
      "Total training time: 0.00 seconds.\n",
      "-- Epoch 50\n",
      "Norm: 9.30, NNZs: 1, Bias: 1.300038, T: 200, Avg. loss: 6.017088\n",
      "Total training time: 0.00 seconds.\n",
      "-- Epoch 51\n",
      "Norm: 9.33, NNZs: 1, Bias: 1.302874, T: 204, Avg. loss: 5.513708\n",
      "Total training time: 0.00 seconds.\n",
      "-- Epoch 52\n",
      "Norm: 9.35, NNZs: 1, Bias: 1.305561, T: 208, Avg. loss: 5.055950\n",
      "Total training time: 0.00 seconds.\n",
      "-- Epoch 53\n",
      "Norm: 9.37, NNZs: 1, Bias: 1.308106, T: 212, Avg. loss: 4.639457\n",
      "Total training time: 0.00 seconds.\n",
      "-- Epoch 54\n",
      "Norm: 9.39, NNZs: 1, Bias: 1.310517, T: 216, Avg. loss: 4.260304\n",
      "Total training time: 0.00 seconds.\n",
      "-- Epoch 55\n",
      "Norm: 9.40, NNZs: 1, Bias: 1.312800, T: 220, Avg. loss: 3.914974\n",
      "Total training time: 0.00 seconds.\n",
      "-- Epoch 56\n",
      "Norm: 9.42, NNZs: 1, Bias: 1.314964, T: 224, Avg. loss: 3.600285\n",
      "Total training time: 0.00 seconds.\n",
      "-- Epoch 57\n",
      "Norm: 9.44, NNZs: 1, Bias: 1.317013, T: 228, Avg. loss: 3.313387\n",
      "Total training time: 0.00 seconds.\n",
      "-- Epoch 58\n",
      "Norm: 9.45, NNZs: 1, Bias: 1.318956, T: 232, Avg. loss: 3.051692\n",
      "Total training time: 0.00 seconds.\n",
      "-- Epoch 59\n",
      "Norm: 9.47, NNZs: 1, Bias: 1.320795, T: 236, Avg. loss: 2.812887\n",
      "Total training time: 0.00 seconds.\n",
      "-- Epoch 60\n",
      "Norm: 9.48, NNZs: 1, Bias: 1.322538, T: 240, Avg. loss: 2.594857\n",
      "Total training time: 0.00 seconds.\n",
      "-- Epoch 61\n",
      "Norm: 9.50, NNZs: 1, Bias: 1.324190, T: 244, Avg. loss: 2.395722\n",
      "Total training time: 0.00 seconds.\n",
      "-- Epoch 62\n",
      "Norm: 9.51, NNZs: 1, Bias: 1.325754, T: 248, Avg. loss: 2.213751\n",
      "Total training time: 0.00 seconds.\n",
      "-- Epoch 63\n",
      "Norm: 9.52, NNZs: 1, Bias: 1.327235, T: 252, Avg. loss: 2.047409\n",
      "Total training time: 0.00 seconds.\n",
      "-- Epoch 64\n",
      "Norm: 9.53, NNZs: 1, Bias: 1.328638, T: 256, Avg. loss: 1.895275\n",
      "Total training time: 0.00 seconds.\n",
      "-- Epoch 65\n",
      "Norm: 9.55, NNZs: 1, Bias: 1.329967, T: 260, Avg. loss: 1.756096\n",
      "Total training time: 0.00 seconds.\n",
      "-- Epoch 66\n",
      "Norm: 9.56, NNZs: 1, Bias: 1.331225, T: 264, Avg. loss: 1.628701\n",
      "Total training time: 0.00 seconds.\n",
      "-- Epoch 67\n",
      "Norm: 9.57, NNZs: 1, Bias: 1.332415, T: 268, Avg. loss: 1.512064\n",
      "Total training time: 0.00 seconds.\n",
      "-- Epoch 68\n",
      "Norm: 9.58, NNZs: 1, Bias: 1.333542, T: 272, Avg. loss: 1.405219\n",
      "Total training time: 0.00 seconds.\n",
      "-- Epoch 69\n",
      "Norm: 9.59, NNZs: 1, Bias: 1.334608, T: 276, Avg. loss: 1.307324\n",
      "Total training time: 0.00 seconds.\n",
      "-- Epoch 70\n",
      "Norm: 9.60, NNZs: 1, Bias: 1.335617, T: 280, Avg. loss: 1.217581\n",
      "Total training time: 0.00 seconds.\n",
      "-- Epoch 71\n",
      "Norm: 9.60, NNZs: 1, Bias: 1.336570, T: 284, Avg. loss: 1.135297\n",
      "Total training time: 0.00 seconds.\n",
      "-- Epoch 72\n",
      "Norm: 9.61, NNZs: 1, Bias: 1.337472, T: 288, Avg. loss: 1.059809\n",
      "Total training time: 0.00 seconds.\n",
      "-- Epoch 73\n",
      "Norm: 9.62, NNZs: 1, Bias: 1.338323, T: 292, Avg. loss: 0.990548\n",
      "Total training time: 0.00 seconds.\n",
      "-- Epoch 74\n",
      "Norm: 9.63, NNZs: 1, Bias: 1.339128, T: 296, Avg. loss: 0.926963\n",
      "Total training time: 0.00 seconds.\n",
      "-- Epoch 75\n",
      "Norm: 9.64, NNZs: 1, Bias: 1.339887, T: 300, Avg. loss: 0.868585\n",
      "Total training time: 0.00 seconds.\n",
      "-- Epoch 76\n",
      "Norm: 9.64, NNZs: 1, Bias: 1.340603, T: 304, Avg. loss: 0.814955\n",
      "Total training time: 0.00 seconds.\n",
      "-- Epoch 77\n",
      "Norm: 9.65, NNZs: 1, Bias: 1.341279, T: 308, Avg. loss: 0.765685\n",
      "Total training time: 0.00 seconds.\n",
      "-- Epoch 78\n",
      "Norm: 9.66, NNZs: 1, Bias: 1.341915, T: 312, Avg. loss: 0.720392\n",
      "Total training time: 0.00 seconds.\n",
      "-- Epoch 79\n",
      "Norm: 9.66, NNZs: 1, Bias: 1.342515, T: 316, Avg. loss: 0.678756\n",
      "Total training time: 0.00 seconds.\n",
      "-- Epoch 80\n",
      "Norm: 9.67, NNZs: 1, Bias: 1.343079, T: 320, Avg. loss: 0.640457\n",
      "Total training time: 0.00 seconds.\n",
      "-- Epoch 81\n",
      "Norm: 9.67, NNZs: 1, Bias: 1.343610, T: 324, Avg. loss: 0.605229\n",
      "Total training time: 0.00 seconds.\n",
      "-- Epoch 82\n",
      "Norm: 9.68, NNZs: 1, Bias: 1.344108, T: 328, Avg. loss: 0.572803\n",
      "Total training time: 0.00 seconds.\n",
      "-- Epoch 83\n",
      "Norm: 9.68, NNZs: 1, Bias: 1.344576, T: 332, Avg. loss: 0.542961\n",
      "Total training time: 0.00 seconds.\n",
      "-- Epoch 84\n",
      "Norm: 9.69, NNZs: 1, Bias: 1.345015, T: 336, Avg. loss: 0.515476\n",
      "Total training time: 0.00 seconds.\n",
      "-- Epoch 85\n",
      "Norm: 9.69, NNZs: 1, Bias: 1.345425, T: 340, Avg. loss: 0.490167\n",
      "Total training time: 0.00 seconds.\n",
      "-- Epoch 86\n",
      "Norm: 9.70, NNZs: 1, Bias: 1.345810, T: 344, Avg. loss: 0.466843\n",
      "Total training time: 0.00 seconds.\n",
      "-- Epoch 87\n",
      "Norm: 9.70, NNZs: 1, Bias: 1.346168, T: 348, Avg. loss: 0.445354\n",
      "Total training time: 0.00 seconds.\n",
      "-- Epoch 88\n",
      "Norm: 9.71, NNZs: 1, Bias: 1.346503, T: 352, Avg. loss: 0.425538\n",
      "Total training time: 0.00 seconds.\n",
      "-- Epoch 89\n",
      "Norm: 9.71, NNZs: 1, Bias: 1.346814, T: 356, Avg. loss: 0.407272\n",
      "Total training time: 0.00 seconds.\n",
      "-- Epoch 90\n",
      "Norm: 9.71, NNZs: 1, Bias: 1.347104, T: 360, Avg. loss: 0.390418\n",
      "Total training time: 0.00 seconds.\n",
      "-- Epoch 91\n",
      "Norm: 9.72, NNZs: 1, Bias: 1.347372, T: 364, Avg. loss: 0.374875\n",
      "Total training time: 0.00 seconds.\n",
      "-- Epoch 92\n",
      "Norm: 9.72, NNZs: 1, Bias: 1.347621, T: 368, Avg. loss: 0.360525\n",
      "Total training time: 0.00 seconds.\n",
      "-- Epoch 93\n",
      "Norm: 9.73, NNZs: 1, Bias: 1.347850, T: 372, Avg. loss: 0.347285\n",
      "Total training time: 0.00 seconds.\n",
      "-- Epoch 94\n",
      "Norm: 9.73, NNZs: 1, Bias: 1.348060, T: 376, Avg. loss: 0.335054\n",
      "Total training time: 0.00 seconds.\n",
      "-- Epoch 95\n",
      "Norm: 9.73, NNZs: 1, Bias: 1.348254, T: 380, Avg. loss: 0.323762\n",
      "Total training time: 0.00 seconds.\n",
      "-- Epoch 96\n",
      "Norm: 9.73, NNZs: 1, Bias: 1.348430, T: 384, Avg. loss: 0.313326\n",
      "Total training time: 0.00 seconds.\n",
      "-- Epoch 97\n",
      "Norm: 9.74, NNZs: 1, Bias: 1.348590, T: 388, Avg. loss: 0.303688\n",
      "Total training time: 0.00 seconds.\n",
      "-- Epoch 98\n",
      "Norm: 9.74, NNZs: 1, Bias: 1.348736, T: 392, Avg. loss: 0.294774\n",
      "Total training time: 0.00 seconds.\n",
      "-- Epoch 99\n",
      "Norm: 9.74, NNZs: 1, Bias: 1.348866, T: 396, Avg. loss: 0.286537\n",
      "Total training time: 0.00 seconds.\n",
      "-- Epoch 100\n",
      "Norm: 9.75, NNZs: 1, Bias: 1.348983, T: 400, Avg. loss: 0.278916\n",
      "Total training time: 0.01 seconds.\n",
      "-- Epoch 101\n",
      "Norm: 9.75, NNZs: 1, Bias: 1.349086, T: 404, Avg. loss: 0.271870\n",
      "Total training time: 0.01 seconds.\n",
      "-- Epoch 102\n",
      "Norm: 9.75, NNZs: 1, Bias: 1.349176, T: 408, Avg. loss: 0.265346\n",
      "Total training time: 0.01 seconds.\n",
      "-- Epoch 103\n",
      "Norm: 9.75, NNZs: 1, Bias: 1.349254, T: 412, Avg. loss: 0.259313\n",
      "Total training time: 0.01 seconds.\n",
      "-- Epoch 104\n",
      "Norm: 9.75, NNZs: 1, Bias: 1.349321, T: 416, Avg. loss: 0.253723\n",
      "Total training time: 0.01 seconds.\n",
      "-- Epoch 105\n",
      "Norm: 9.76, NNZs: 1, Bias: 1.349376, T: 420, Avg. loss: 0.248551\n",
      "Total training time: 0.01 seconds.\n",
      "-- Epoch 106\n",
      "Norm: 9.76, NNZs: 1, Bias: 1.349420, T: 424, Avg. loss: 0.243757\n",
      "Total training time: 0.01 seconds.\n",
      "-- Epoch 107\n",
      "Norm: 9.76, NNZs: 1, Bias: 1.349455, T: 428, Avg. loss: 0.239319\n",
      "Total training time: 0.01 seconds.\n",
      "-- Epoch 108\n",
      "Norm: 9.76, NNZs: 1, Bias: 1.349479, T: 432, Avg. loss: 0.235202\n",
      "Total training time: 0.01 seconds.\n",
      "-- Epoch 109\n",
      "Norm: 9.76, NNZs: 1, Bias: 1.349494, T: 436, Avg. loss: 0.231390\n",
      "Total training time: 0.01 seconds.\n",
      "-- Epoch 110\n",
      "Norm: 9.77, NNZs: 1, Bias: 1.349500, T: 440, Avg. loss: 0.227852\n",
      "Total training time: 0.01 seconds.\n",
      "-- Epoch 111\n",
      "Norm: 9.77, NNZs: 1, Bias: 1.349498, T: 444, Avg. loss: 0.224573\n",
      "Total training time: 0.01 seconds.\n",
      "-- Epoch 112\n",
      "Norm: 9.77, NNZs: 1, Bias: 1.349487, T: 448, Avg. loss: 0.221528\n",
      "Total training time: 0.01 seconds.\n",
      "-- Epoch 113\n",
      "Norm: 9.77, NNZs: 1, Bias: 1.349469, T: 452, Avg. loss: 0.218706\n",
      "Total training time: 0.01 seconds.\n",
      "-- Epoch 114\n",
      "Norm: 9.77, NNZs: 1, Bias: 1.349443, T: 456, Avg. loss: 0.216082\n",
      "Total training time: 0.01 seconds.\n",
      "-- Epoch 115\n",
      "Norm: 9.77, NNZs: 1, Bias: 1.349410, T: 460, Avg. loss: 0.213650\n",
      "Total training time: 0.01 seconds.\n",
      "-- Epoch 116\n",
      "Norm: 9.78, NNZs: 1, Bias: 1.349370, T: 464, Avg. loss: 0.211387\n",
      "Total training time: 0.01 seconds.\n",
      "-- Epoch 117\n",
      "Norm: 9.78, NNZs: 1, Bias: 1.349323, T: 468, Avg. loss: 0.209287\n",
      "Total training time: 0.01 seconds.\n",
      "-- Epoch 118\n",
      "Norm: 9.78, NNZs: 1, Bias: 1.349270, T: 472, Avg. loss: 0.207333\n",
      "Total training time: 0.01 seconds.\n",
      "-- Epoch 119\n",
      "Norm: 9.78, NNZs: 1, Bias: 1.349211, T: 476, Avg. loss: 0.205519\n",
      "Total training time: 0.01 seconds.\n",
      "-- Epoch 120\n",
      "Norm: 9.78, NNZs: 1, Bias: 1.349146, T: 480, Avg. loss: 0.203829\n",
      "Total training time: 0.01 seconds.\n",
      "-- Epoch 121\n",
      "Norm: 9.78, NNZs: 1, Bias: 1.349076, T: 484, Avg. loss: 0.202260\n",
      "Total training time: 0.01 seconds.\n",
      "-- Epoch 122\n",
      "Norm: 9.78, NNZs: 1, Bias: 1.349000, T: 488, Avg. loss: 0.200797\n",
      "Total training time: 0.01 seconds.\n",
      "-- Epoch 123\n",
      "Norm: 9.78, NNZs: 1, Bias: 1.348919, T: 492, Avg. loss: 0.199437\n",
      "Total training time: 0.01 seconds.\n",
      "-- Epoch 124\n",
      "Norm: 9.78, NNZs: 1, Bias: 1.348834, T: 496, Avg. loss: 0.198168\n",
      "Total training time: 0.01 seconds.\n",
      "-- Epoch 125\n",
      "Norm: 9.79, NNZs: 1, Bias: 1.348744, T: 500, Avg. loss: 0.196988\n",
      "Total training time: 0.01 seconds.\n",
      "-- Epoch 126\n",
      "Norm: 9.79, NNZs: 1, Bias: 1.348649, T: 504, Avg. loss: 0.195886\n",
      "Total training time: 0.01 seconds.\n",
      "-- Epoch 127\n",
      "Norm: 9.79, NNZs: 1, Bias: 1.348550, T: 508, Avg. loss: 0.194861\n",
      "Total training time: 0.01 seconds.\n",
      "-- Epoch 128\n",
      "Norm: 9.79, NNZs: 1, Bias: 1.348447, T: 512, Avg. loss: 0.193902\n",
      "Total training time: 0.01 seconds.\n",
      "-- Epoch 129\n",
      "Norm: 9.79, NNZs: 1, Bias: 1.348340, T: 516, Avg. loss: 0.193010\n",
      "Total training time: 0.01 seconds.\n",
      "-- Epoch 130\n",
      "Norm: 9.79, NNZs: 1, Bias: 1.348229, T: 520, Avg. loss: 0.192174\n",
      "Total training time: 0.01 seconds.\n",
      "-- Epoch 131\n",
      "Norm: 9.79, NNZs: 1, Bias: 1.348115, T: 524, Avg. loss: 0.191396\n",
      "Total training time: 0.01 seconds.\n",
      "-- Epoch 132\n",
      "Norm: 9.79, NNZs: 1, Bias: 1.347997, T: 528, Avg. loss: 0.190667\n",
      "Total training time: 0.01 seconds.\n",
      "Convergence after 132 epochs took 0.01 seconds\n"
     ]
    },
    {
     "data": {
      "text/html": [
       "<style>#sk-container-id-4 {color: black;background-color: white;}#sk-container-id-4 pre{padding: 0;}#sk-container-id-4 div.sk-toggleable {background-color: white;}#sk-container-id-4 label.sk-toggleable__label {cursor: pointer;display: block;width: 100%;margin-bottom: 0;padding: 0.3em;box-sizing: border-box;text-align: center;}#sk-container-id-4 label.sk-toggleable__label-arrow:before {content: \"▸\";float: left;margin-right: 0.25em;color: #696969;}#sk-container-id-4 label.sk-toggleable__label-arrow:hover:before {color: black;}#sk-container-id-4 div.sk-estimator:hover label.sk-toggleable__label-arrow:before {color: black;}#sk-container-id-4 div.sk-toggleable__content {max-height: 0;max-width: 0;overflow: hidden;text-align: left;background-color: #f0f8ff;}#sk-container-id-4 div.sk-toggleable__content pre {margin: 0.2em;color: black;border-radius: 0.25em;background-color: #f0f8ff;}#sk-container-id-4 input.sk-toggleable__control:checked~div.sk-toggleable__content {max-height: 200px;max-width: 100%;overflow: auto;}#sk-container-id-4 input.sk-toggleable__control:checked~label.sk-toggleable__label-arrow:before {content: \"▾\";}#sk-container-id-4 div.sk-estimator input.sk-toggleable__control:checked~label.sk-toggleable__label {background-color: #d4ebff;}#sk-container-id-4 div.sk-label input.sk-toggleable__control:checked~label.sk-toggleable__label {background-color: #d4ebff;}#sk-container-id-4 input.sk-hidden--visually {border: 0;clip: rect(1px 1px 1px 1px);clip: rect(1px, 1px, 1px, 1px);height: 1px;margin: -1px;overflow: hidden;padding: 0;position: absolute;width: 1px;}#sk-container-id-4 div.sk-estimator {font-family: monospace;background-color: #f0f8ff;border: 1px dotted black;border-radius: 0.25em;box-sizing: border-box;margin-bottom: 0.5em;}#sk-container-id-4 div.sk-estimator:hover {background-color: #d4ebff;}#sk-container-id-4 div.sk-parallel-item::after {content: \"\";width: 100%;border-bottom: 1px solid gray;flex-grow: 1;}#sk-container-id-4 div.sk-label:hover label.sk-toggleable__label {background-color: #d4ebff;}#sk-container-id-4 div.sk-serial::before {content: \"\";position: absolute;border-left: 1px solid gray;box-sizing: border-box;top: 0;bottom: 0;left: 50%;z-index: 0;}#sk-container-id-4 div.sk-serial {display: flex;flex-direction: column;align-items: center;background-color: white;padding-right: 0.2em;padding-left: 0.2em;position: relative;}#sk-container-id-4 div.sk-item {position: relative;z-index: 1;}#sk-container-id-4 div.sk-parallel {display: flex;align-items: stretch;justify-content: center;background-color: white;position: relative;}#sk-container-id-4 div.sk-item::before, #sk-container-id-4 div.sk-parallel-item::before {content: \"\";position: absolute;border-left: 1px solid gray;box-sizing: border-box;top: 0;bottom: 0;left: 50%;z-index: -1;}#sk-container-id-4 div.sk-parallel-item {display: flex;flex-direction: column;z-index: 1;position: relative;background-color: white;}#sk-container-id-4 div.sk-parallel-item:first-child::after {align-self: flex-end;width: 50%;}#sk-container-id-4 div.sk-parallel-item:last-child::after {align-self: flex-start;width: 50%;}#sk-container-id-4 div.sk-parallel-item:only-child::after {width: 0;}#sk-container-id-4 div.sk-dashed-wrapped {border: 1px dashed gray;margin: 0 0.4em 0.5em 0.4em;box-sizing: border-box;padding-bottom: 0.4em;background-color: white;}#sk-container-id-4 div.sk-label label {font-family: monospace;font-weight: bold;display: inline-block;line-height: 1.2em;}#sk-container-id-4 div.sk-label-container {text-align: center;}#sk-container-id-4 div.sk-container {/* jupyter's `normalize.less` sets `[hidden] { display: none; }` but bootstrap.min.css set `[hidden] { display: none !important; }` so we also need the `!important` here to be able to override the default hidden behavior on the sphinx rendered scikit-learn.org. See: https://github.com/scikit-learn/scikit-learn/issues/21755 */display: inline-block !important;position: relative;}#sk-container-id-4 div.sk-text-repr-fallback {display: none;}</style><div id=\"sk-container-id-4\" class=\"sk-top-container\"><div class=\"sk-text-repr-fallback\"><pre>SGDRegressor(eta0=0.001, max_iter=5000, verbose=1)</pre><b>In a Jupyter environment, please rerun this cell to show the HTML representation or trust the notebook. <br />On GitHub, the HTML representation is unable to render, please try loading this page with nbviewer.org.</b></div><div class=\"sk-container\" hidden><div class=\"sk-item\"><div class=\"sk-estimator sk-toggleable\"><input class=\"sk-toggleable__control sk-hidden--visually\" id=\"sk-estimator-id-4\" type=\"checkbox\" checked><label for=\"sk-estimator-id-4\" class=\"sk-toggleable__label sk-toggleable__label-arrow\">SGDRegressor</label><div class=\"sk-toggleable__content\"><pre>SGDRegressor(eta0=0.001, max_iter=5000, verbose=1)</pre></div></div></div></div></div>"
      ],
      "text/plain": [
       "SGDRegressor(eta0=0.001, max_iter=5000, verbose=1)"
      ]
     },
     "execution_count": 48,
     "metadata": {},
     "output_type": "execute_result"
    }
   ],
   "source": [
    "from sklearn.linear_model import SGDRegressor\n",
    "\n",
    "# 모델 생성 \n",
    "sgd_model = SGDRegressor(max_iter=5000,\n",
    "                        eta0=0.001,\n",
    "                        verbose=1)\n",
    "\n",
    "# 학습 \n",
    "sgd_model.fit(data[['시간']], data['성적'])"
   ]
  },
  {
   "cell_type": "code",
   "execution_count": 49,
   "id": "33d724ae",
   "metadata": {
    "ExecuteTime": {
     "end_time": "2023-09-04T01:44:00.316090Z",
     "start_time": "2023-09-04T01:44:00.312029Z"
    }
   },
   "outputs": [
    {
     "data": {
      "text/plain": [
       "array([69.88669228])"
      ]
     },
     "execution_count": 49,
     "metadata": {},
     "output_type": "execute_result"
    }
   ],
   "source": [
    "# 예측 \n",
    "sgd_model.predict([[7]])"
   ]
  },
  {
   "cell_type": "code",
   "execution_count": 50,
   "id": "fa2b09e6",
   "metadata": {
    "ExecuteTime": {
     "end_time": "2023-09-04T01:45:45.959565Z",
     "start_time": "2023-09-04T01:45:45.954726Z"
    }
   },
   "outputs": [
    {
     "name": "stdout",
     "output_type": "stream",
     "text": [
      "가중치 :  [9.79124217]\n",
      "절편 : [1.3479971]\n"
     ]
    }
   ],
   "source": [
    "# 가중치, 절편 확인하기\n",
    "print('가중치 : ', sgd_model.coef_)\n",
    "print('절편 :', sgd_model.intercept_)\n"
   ]
  },
  {
   "cell_type": "code",
   "execution_count": 56,
   "id": "d4bbcf11",
   "metadata": {
    "ExecuteTime": {
     "end_time": "2023-09-04T01:49:26.003813Z",
     "start_time": "2023-09-04T01:49:25.997489Z"
    }
   },
   "outputs": [
    {
     "data": {
      "text/plain": [
       "0.9995375788466502"
      ]
     },
     "execution_count": 56,
     "metadata": {},
     "output_type": "execute_result"
    }
   ],
   "source": [
    "sgd_model.score(data[['시간']],data['성적'])\n",
    "\n",
    "# 회귀 socre : 모델의 예측 성능 판단 \n",
    "# 1에 가까울수록 모델이 예측한 성능이 높다고 판단"
   ]
  },
  {
   "cell_type": "code",
   "execution_count": null,
   "id": "11b4e530",
   "metadata": {},
   "outputs": [],
   "source": []
  },
  {
   "cell_type": "code",
   "execution_count": null,
   "id": "02c3cc0f",
   "metadata": {},
   "outputs": [],
   "source": []
  },
  {
   "cell_type": "code",
   "execution_count": null,
   "id": "60bc348d",
   "metadata": {},
   "outputs": [],
   "source": []
  },
  {
   "cell_type": "code",
   "execution_count": null,
   "id": "e5eeba39",
   "metadata": {},
   "outputs": [],
   "source": []
  },
  {
   "cell_type": "code",
   "execution_count": null,
   "id": "4bbf5aab",
   "metadata": {},
   "outputs": [],
   "source": []
  }
 ],
 "metadata": {
  "kernelspec": {
   "display_name": "Python 3 (ipykernel)",
   "language": "python",
   "name": "python3"
  },
  "language_info": {
   "codemirror_mode": {
    "name": "ipython",
    "version": 3
   },
   "file_extension": ".py",
   "mimetype": "text/x-python",
   "name": "python",
   "nbconvert_exporter": "python",
   "pygments_lexer": "ipython3",
   "version": "3.11.3"
  },
  "toc": {
   "base_numbering": 1,
   "nav_menu": {},
   "number_sections": true,
   "sideBar": true,
   "skip_h1_title": false,
   "title_cell": "Table of Contents",
   "title_sidebar": "Contents",
   "toc_cell": false,
   "toc_position": {
    "height": "calc(100% - 180px)",
    "left": "10px",
    "top": "150px",
    "width": "205px"
   },
   "toc_section_display": true,
   "toc_window_display": true
  }
 },
 "nbformat": 4,
 "nbformat_minor": 5
}
