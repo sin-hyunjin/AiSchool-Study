{
 "cells": [
  {
   "cell_type": "markdown",
   "id": "6d49bb27",
   "metadata": {},
   "source": [
    "[목표]\n",
    "- 500명의 키와 몸무게, 비만도 라벨을 이용하여 비만을 판단하는 모델을 만들어보자 \n",
    "- 머신러닝 전체 과정의 흐름을 이해하자 "
   ]
  },
  {
   "cell_type": "markdown",
   "id": "64bb7929",
   "metadata": {},
   "source": [
    "# 문제정의\n",
    "- 머신러닝을 통해서 어떤 문제를 해결할 것인가?\n",
    "- 지도 vs 비지도 vs 강화 \n",
    "- 지도 : 분류 vs 회귀 \n",
    "- 비만을 판단하는 모델을 만들자 \n",
    "- 비만을 판단하는 모델을 만들자 --> 지도학습 - 분류 "
   ]
  },
  {
   "cell_type": "markdown",
   "id": "9e9c279e",
   "metadata": {},
   "source": [
    "# 데이터 수집\n",
    "- csv 파일로 이루어진 데이터 수집 \n",
    "- 500명의 성별, 키, 몸무게, 비만도 등급 "
   ]
  },
  {
   "cell_type": "code",
   "execution_count": 1,
   "id": "045d0e84",
   "metadata": {
    "ExecuteTime": {
     "end_time": "2023-08-23T00:48:32.333763Z",
     "start_time": "2023-08-23T00:48:32.020538Z"
    }
   },
   "outputs": [],
   "source": [
    "# 데이터 꺼내오기 \n",
    "import pandas as pd \n",
    "bmi = pd.read_csv('./Data/bmi_500.csv')\n"
   ]
  },
  {
   "cell_type": "markdown",
   "id": "1ba39759",
   "metadata": {},
   "source": [
    "# 데이터 전처리\n",
    "- 1.결측치 처리 : 비어있는 데이터를 채워주기 \n",
    "- 2.이상치 처리 : 정상적인 범위를 벗어난 데이터 수정하기 "
   ]
  },
  {
   "cell_type": "markdown",
   "id": "285621af",
   "metadata": {},
   "source": [
    "## 결측지 확인 \n",
    "- 데이터프레임의 형태를 갖춘후 Info()함수 사용 "
   ]
  },
  {
   "cell_type": "code",
   "execution_count": 2,
   "id": "604d709f",
   "metadata": {
    "ExecuteTime": {
     "end_time": "2023-08-23T00:48:32.341513Z",
     "start_time": "2023-08-23T00:48:32.334425Z"
    }
   },
   "outputs": [
    {
     "name": "stdout",
     "output_type": "stream",
     "text": [
      "<class 'pandas.core.frame.DataFrame'>\n",
      "RangeIndex: 500 entries, 0 to 499\n",
      "Data columns (total 4 columns):\n",
      " #   Column  Non-Null Count  Dtype \n",
      "---  ------  --------------  ----- \n",
      " 0   Gender  500 non-null    object\n",
      " 1   Height  500 non-null    int64 \n",
      " 2   Weight  500 non-null    int64 \n",
      " 3   Label   500 non-null    object\n",
      "dtypes: int64(2), object(2)\n",
      "memory usage: 15.8+ KB\n"
     ]
    }
   ],
   "source": [
    "bmi.info()"
   ]
  },
  {
   "cell_type": "markdown",
   "id": "778d966a",
   "metadata": {},
   "source": [
    "## 이상치 확인\n",
    "- 데이터프레임의 형태를 갖춘후 describe()함수 사용 \n",
    "- describe() 수치형 데이터만 분석가능, 기술통계"
   ]
  },
  {
   "cell_type": "code",
   "execution_count": 3,
   "id": "0652baab",
   "metadata": {
    "ExecuteTime": {
     "end_time": "2023-08-23T00:48:32.352638Z",
     "start_time": "2023-08-23T00:48:32.342792Z"
    }
   },
   "outputs": [
    {
     "data": {
      "text/html": [
       "<div>\n",
       "<style scoped>\n",
       "    .dataframe tbody tr th:only-of-type {\n",
       "        vertical-align: middle;\n",
       "    }\n",
       "\n",
       "    .dataframe tbody tr th {\n",
       "        vertical-align: top;\n",
       "    }\n",
       "\n",
       "    .dataframe thead th {\n",
       "        text-align: right;\n",
       "    }\n",
       "</style>\n",
       "<table border=\"1\" class=\"dataframe\">\n",
       "  <thead>\n",
       "    <tr style=\"text-align: right;\">\n",
       "      <th></th>\n",
       "      <th>Height</th>\n",
       "      <th>Weight</th>\n",
       "    </tr>\n",
       "  </thead>\n",
       "  <tbody>\n",
       "    <tr>\n",
       "      <th>count</th>\n",
       "      <td>500.000000</td>\n",
       "      <td>500.000000</td>\n",
       "    </tr>\n",
       "    <tr>\n",
       "      <th>mean</th>\n",
       "      <td>169.944000</td>\n",
       "      <td>106.000000</td>\n",
       "    </tr>\n",
       "    <tr>\n",
       "      <th>std</th>\n",
       "      <td>16.375261</td>\n",
       "      <td>32.382607</td>\n",
       "    </tr>\n",
       "    <tr>\n",
       "      <th>min</th>\n",
       "      <td>140.000000</td>\n",
       "      <td>50.000000</td>\n",
       "    </tr>\n",
       "    <tr>\n",
       "      <th>25%</th>\n",
       "      <td>156.000000</td>\n",
       "      <td>80.000000</td>\n",
       "    </tr>\n",
       "    <tr>\n",
       "      <th>50%</th>\n",
       "      <td>170.500000</td>\n",
       "      <td>106.000000</td>\n",
       "    </tr>\n",
       "    <tr>\n",
       "      <th>75%</th>\n",
       "      <td>184.000000</td>\n",
       "      <td>136.000000</td>\n",
       "    </tr>\n",
       "    <tr>\n",
       "      <th>max</th>\n",
       "      <td>199.000000</td>\n",
       "      <td>160.000000</td>\n",
       "    </tr>\n",
       "  </tbody>\n",
       "</table>\n",
       "</div>"
      ],
      "text/plain": [
       "           Height      Weight\n",
       "count  500.000000  500.000000\n",
       "mean   169.944000  106.000000\n",
       "std     16.375261   32.382607\n",
       "min    140.000000   50.000000\n",
       "25%    156.000000   80.000000\n",
       "50%    170.500000  106.000000\n",
       "75%    184.000000  136.000000\n",
       "max    199.000000  160.000000"
      ]
     },
     "execution_count": 3,
     "metadata": {},
     "output_type": "execute_result"
    }
   ],
   "source": [
    "bmi.describe()\n",
    "# count : 데이터 수 \n",
    "# mean : 평균값\n",
    "# std : 표준편차 \n",
    "# min : 최솟값 \n",
    "# 25% : 1분위 수\n",
    "# 50% : 중앙값 \n",
    "# 75% : 3분위 수 \n",
    "# max : 최댓값\n",
    "\n",
    "# 1.min, max 확인하기\n",
    "# 2.평균(mean), 중앙값(50%) 확인하기 -> 두 수치가 비슷한지 확인\n",
    "# 3.두 수치(평균, 중앙값)가 비슷하지 않을경우 : min~max까지 5개의 간격을확인하기 -> 각 국간의 데이터가 고르게 분포가 되어있느지 확인\n",
    "\n",
    "# 우리의 데이터는 정상적인 데이터로 판단이 됨 "
   ]
  },
  {
   "cell_type": "markdown",
   "id": "d8b508fa",
   "metadata": {},
   "source": [
    "# 탐색적 데이터 분석(EDA)\n",
    "- 데이터를 자세하게 살펴보자 \n",
    "- 비만도별로 데이터를 잘 나뉘어져있는지 확인"
   ]
  },
  {
   "cell_type": "markdown",
   "id": "7724add1",
   "metadata": {},
   "source": [
    "## 비만도 등급 확인\n"
   ]
  },
  {
   "cell_type": "code",
   "execution_count": 4,
   "id": "1d35a307",
   "metadata": {
    "ExecuteTime": {
     "end_time": "2023-08-23T00:48:32.358950Z",
     "start_time": "2023-08-23T00:48:32.354795Z"
    }
   },
   "outputs": [
    {
     "data": {
      "text/plain": [
       "array(['Obesity', 'Normal', 'Overweight', 'Extreme Obesity', 'Weak',\n",
       "       'Extremely Weak'], dtype=object)"
      ]
     },
     "execution_count": 4,
     "metadata": {},
     "output_type": "execute_result"
    }
   ],
   "source": [
    "# 중복된 값은 제거하고 확인 - unique()\n",
    "bmi[\"Label\"].unique()\n",
    "\n",
    "#'Obesity' : 비만\n",
    "#'Normal'  : 정상\n",
    "#'Overweight' : 과체중\n",
    "#'Extreme Obesity' : 고도비만\n",
    "#'Weak' : 저체중\n",
    "#'Extremely Weak' : 극심한 저체중 "
   ]
  },
  {
   "cell_type": "markdown",
   "id": "bcf79974",
   "metadata": {},
   "source": [
    "## Label이 Weak인 사람들만 추려보기 "
   ]
  },
  {
   "cell_type": "code",
   "execution_count": 5,
   "id": "6c33bec8",
   "metadata": {
    "ExecuteTime": {
     "end_time": "2023-08-23T00:48:32.361986Z",
     "start_time": "2023-08-23T00:48:32.359708Z"
    }
   },
   "outputs": [],
   "source": [
    "# 불리언 인덱싱 \n",
    "# bmi[bmi[\"Label\"] == \"Weak\"] #일반적인 불리언 인덱싱 \n",
    "\n",
    "bol = bmi[\"Label\"] == \"Weak\" # 불리언 인덱싱 결과를 사용하기 위해 변수에 저장 \n",
    "data = bmi.loc[bol] # 라벨이 Weak인 전체 행에 대한 데이터를 가져옴 \n",
    "\n"
   ]
  },
  {
   "cell_type": "markdown",
   "id": "7afd333a",
   "metadata": {},
   "source": [
    "## Weak인 사람들을 그래프로 그려보기 \n",
    "- 산점도 "
   ]
  },
  {
   "cell_type": "code",
   "execution_count": 6,
   "id": "658bf947",
   "metadata": {
    "ExecuteTime": {
     "end_time": "2023-08-23T00:48:32.709580Z",
     "start_time": "2023-08-23T00:48:32.362780Z"
    }
   },
   "outputs": [
    {
     "data": {
      "image/png": "[encoded data removed]",
      "text/plain": [
       "<Figure size 640x480 with 1 Axes>"
      ]
     },
     "metadata": {},
     "output_type": "display_data"
    }
   ],
   "source": [
    "# 그래프 그려주는 도구 꺼내오기 \n",
    "import matplotlib.pyplot as plt \n",
    "\n",
    "# plt.scatter(x, y) # X축 = 키 , y축 = 몸무게 \n",
    "plt.scatter(data['Height'],data['Weight'],\n",
    "           color = 'lightgreen', label = \"Weak\")\n",
    "\n",
    "plt.legend() # 그래프에 범례(label) 표시\n",
    "plt.show()"
   ]
  },
  {
   "cell_type": "markdown",
   "id": "da778d22",
   "metadata": {},
   "source": [
    "## OverWeight 그래프 그리기 "
   ]
  },
  {
   "cell_type": "code",
   "execution_count": 7,
   "id": "d677f596",
   "metadata": {
    "ExecuteTime": {
     "end_time": "2023-08-23T00:48:32.771281Z",
     "start_time": "2023-08-23T00:48:32.711174Z"
    }
   },
   "outputs": [
    {
     "data": {
      "image/png": "[encoded data removed]",
      "text/plain": [
       "<Figure size 640x480 with 1 Axes>"
      ]
     },
     "metadata": {},
     "output_type": "display_data"
    }
   ],
   "source": [
    "over = bmi[\"Label\"] == \"Overweight\"\n",
    "data2 = bmi.loc[over]\n",
    "\n",
    "plt.scatter(data2['Height'],data2['Weight'],\n",
    "           color = 'purple', label = \"Overweight\")\n",
    "\n",
    "plt.legend() # 그래프에 범례(label) 표시\n",
    "plt.show()"
   ]
  },
  {
   "cell_type": "markdown",
   "id": "2f6339a5",
   "metadata": {},
   "source": [
    "## 함수로 만들어서 그래프 그리기 \n",
    "- 반복되는 부분을 함수로 간략화 "
   ]
  },
  {
   "cell_type": "code",
   "execution_count": 8,
   "id": "9948b39e",
   "metadata": {
    "ExecuteTime": {
     "end_time": "2023-08-23T00:48:32.775139Z",
     "start_time": "2023-08-23T00:48:32.772750Z"
    }
   },
   "outputs": [],
   "source": [
    "def myScatter(label, color):\n",
    "    over = bmi[\"Label\"] == label\n",
    "    data2 = bmi.loc[over]\n",
    "    plt.scatter(data2['Height'],data2['Weight'],\n",
    "               color = color, label = label)\n"
   ]
  },
  {
   "cell_type": "markdown",
   "id": "d95372b7",
   "metadata": {},
   "source": [
    "## 전체 그래프 그리기 "
   ]
  },
  {
   "cell_type": "code",
   "execution_count": 9,
   "id": "a38efed1",
   "metadata": {
    "ExecuteTime": {
     "end_time": "2023-08-23T00:48:32.900348Z",
     "start_time": "2023-08-23T00:48:32.778811Z"
    }
   },
   "outputs": [
    {
     "data": {
      "image/png": "[encoded data removed]",
      "text/plain": [
       "<Figure size 1300x600 with 1 Axes>"
      ]
     },
     "metadata": {},
     "output_type": "display_data"
    }
   ],
   "source": [
    "plt.figure(figsize=(13,6))\n",
    "myScatter('Obesity','red')\n",
    "myScatter('Normal', 'blue')\n",
    "myScatter('Overweight', 'black')\n",
    "myScatter('Extreme Obesity','purple')\n",
    "myScatter('Weak','yellow')\n",
    "myScatter('Extremely Weak','lightgreen')\n",
    "plt.legend()\n",
    "plt.show()"
   ]
  },
  {
   "cell_type": "code",
   "execution_count": 10,
   "id": "166a771d",
   "metadata": {
    "ExecuteTime": {
     "end_time": "2023-08-23T00:48:32.904810Z",
     "start_time": "2023-08-23T00:48:32.901958Z"
    },
    "scrolled": true
   },
   "outputs": [],
   "source": [
    "bmi[bmi[\"Label\"] == \"Normal\"] # 153정도의 키 , 78정도의 몸무게 정보 찾기 \n",
    "h_153 = bmi[bmi[\"Height\"] == 153] \n",
    "#231\tFemale\t153\t78\tNormal -> Obesity로 변경"
   ]
  },
  {
   "cell_type": "code",
   "execution_count": 11,
   "id": "ca6f5189",
   "metadata": {
    "ExecuteTime": {
     "end_time": "2023-08-23T00:48:32.907985Z",
     "start_time": "2023-08-23T00:48:32.905477Z"
    }
   },
   "outputs": [],
   "source": [
    "# 키가 153이고 몸무게가 78인 여성을 Normal로 잘못 표기된 것을 Obesity로 수정 \n",
    "bmi.loc[231, 'Label'] = 'Obesity'"
   ]
  },
  {
   "cell_type": "code",
   "execution_count": 12,
   "id": "d181bcfd",
   "metadata": {
    "ExecuteTime": {
     "end_time": "2023-08-23T00:48:32.913376Z",
     "start_time": "2023-08-23T00:48:32.908658Z"
    }
   },
   "outputs": [
    {
     "data": {
      "text/html": [
       "<div>\n",
       "<style scoped>\n",
       "    .dataframe tbody tr th:only-of-type {\n",
       "        vertical-align: middle;\n",
       "    }\n",
       "\n",
       "    .dataframe tbody tr th {\n",
       "        vertical-align: top;\n",
       "    }\n",
       "\n",
       "    .dataframe thead th {\n",
       "        text-align: right;\n",
       "    }\n",
       "</style>\n",
       "<table border=\"1\" class=\"dataframe\">\n",
       "  <thead>\n",
       "    <tr style=\"text-align: right;\">\n",
       "      <th></th>\n",
       "      <th>Gender</th>\n",
       "      <th>Height</th>\n",
       "      <th>Weight</th>\n",
       "      <th>Label</th>\n",
       "    </tr>\n",
       "  </thead>\n",
       "  <tbody>\n",
       "    <tr>\n",
       "      <th>165</th>\n",
       "      <td>Male</td>\n",
       "      <td>181</td>\n",
       "      <td>78</td>\n",
       "      <td>Normal</td>\n",
       "    </tr>\n",
       "    <tr>\n",
       "      <th>231</th>\n",
       "      <td>Female</td>\n",
       "      <td>153</td>\n",
       "      <td>78</td>\n",
       "      <td>Obesity</td>\n",
       "    </tr>\n",
       "    <tr>\n",
       "      <th>234</th>\n",
       "      <td>Male</td>\n",
       "      <td>145</td>\n",
       "      <td>78</td>\n",
       "      <td>Obesity</td>\n",
       "    </tr>\n",
       "  </tbody>\n",
       "</table>\n",
       "</div>"
      ],
      "text/plain": [
       "     Gender  Height  Weight    Label\n",
       "165    Male     181      78   Normal\n",
       "231  Female     153      78  Obesity\n",
       "234    Male     145      78  Obesity"
      ]
     },
     "execution_count": 12,
     "metadata": {},
     "output_type": "execute_result"
    }
   ],
   "source": [
    "bmi.loc[bmi['Weight']==78]"
   ]
  },
  {
   "cell_type": "code",
   "execution_count": null,
   "id": "114f780c",
   "metadata": {},
   "outputs": [],
   "source": []
  },
  {
   "cell_type": "markdown",
   "id": "be1bbddd",
   "metadata": {},
   "source": [
    "# 모델 선택 및 하이퍼파라미터 정의(튜닝)\n",
    "- 머신러닝의 모델 불러와서 사용하는 단계 \n"
   ]
  },
  {
   "cell_type": "markdown",
   "id": "cce7400e",
   "metadata": {},
   "source": [
    "## 모델 불러오기 \n",
    "- KNN 모델"
   ]
  },
  {
   "cell_type": "code",
   "execution_count": 22,
   "id": "1637ddfa",
   "metadata": {
    "ExecuteTime": {
     "end_time": "2023-08-23T00:49:09.158441Z",
     "start_time": "2023-08-23T00:49:09.155728Z"
    }
   },
   "outputs": [],
   "source": [
    "from sklearn.neighbors import KNeighborsClassifier\n",
    "knn_model = KNeighborsClassifier(n_neighbors=4) # 기본값"
   ]
  },
  {
   "cell_type": "markdown",
   "id": "8466ec26",
   "metadata": {},
   "source": [
    "## 문제데이터와 정답데이터로 분리 "
   ]
  },
  {
   "cell_type": "code",
   "execution_count": 14,
   "id": "76912c85",
   "metadata": {
    "ExecuteTime": {
     "end_time": "2023-08-23T00:48:33.928618Z",
     "start_time": "2023-08-23T00:48:33.924927Z"
    }
   },
   "outputs": [
    {
     "data": {
      "text/plain": [
       "0              Obesity\n",
       "1               Normal\n",
       "2              Obesity\n",
       "3           Overweight\n",
       "4           Overweight\n",
       "            ...       \n",
       "495    Extreme Obesity\n",
       "496            Obesity\n",
       "497    Extreme Obesity\n",
       "498    Extreme Obesity\n",
       "499    Extreme Obesity\n",
       "Name: Label, Length: 500, dtype: object"
      ]
     },
     "execution_count": 14,
     "metadata": {},
     "output_type": "execute_result"
    }
   ],
   "source": [
    "# 문제 : Height, Weight\n",
    "X = bmi.loc[:,\"Height\":\"Weight\"]\n",
    "# 정답 : \n",
    "y = bmi[\"Label\"] \n",
    "y"
   ]
  },
  {
   "cell_type": "markdown",
   "id": "56e2bc23",
   "metadata": {},
   "source": [
    "## 학습을 위해 훈련용(train)과 평가용(test)로 분리 \n",
    "- 훈련 : 평가 = 7:3 "
   ]
  },
  {
   "cell_type": "code",
   "execution_count": 15,
   "id": "d81c43cc",
   "metadata": {
    "ExecuteTime": {
     "end_time": "2023-08-23T00:48:33.931317Z",
     "start_time": "2023-08-23T00:48:33.929228Z"
    }
   },
   "outputs": [],
   "source": [
    "X_train = X.iloc[:350] # 0~349 훈련용 문제 \n",
    "X_test = X.iloc[350:] # 350 ~ 499 평가용 문제\n",
    "y_train = y.iloc[:350] # 0~349 테스트용 문제 \n",
    "y_test = y.iloc[350:] # 350 ~ 499 테스트용 문제\n",
    "\n"
   ]
  },
  {
   "cell_type": "code",
   "execution_count": 16,
   "id": "08130977",
   "metadata": {
    "ExecuteTime": {
     "end_time": "2023-08-23T00:48:33.933788Z",
     "start_time": "2023-08-23T00:48:33.932017Z"
    }
   },
   "outputs": [
    {
     "name": "stdout",
     "output_type": "stream",
     "text": [
      "훈련용 문제 : (350, 2)\n",
      "검증용 문제 : (150, 2)\n",
      "훈련용 정답 : (350,)\n",
      "검증용 정답 : (150,)\n"
     ]
    }
   ],
   "source": [
    "print(\"훈련용 문제 :\",X_train.shape)\n",
    "print(\"검증용 문제 :\",X_test.shape)\n",
    "print(\"훈련용 정답 :\",y_train.shape)\n",
    "print(\"검증용 정답 :\",y_test.shape)"
   ]
  },
  {
   "cell_type": "markdown",
   "id": "575835c7",
   "metadata": {},
   "source": [
    "# 학습 "
   ]
  },
  {
   "cell_type": "code",
   "execution_count": 23,
   "id": "4dd1521f",
   "metadata": {
    "ExecuteTime": {
     "end_time": "2023-08-23T00:49:23.360712Z",
     "start_time": "2023-08-23T00:49:23.354008Z"
    }
   },
   "outputs": [
    {
     "data": {
      "text/html": [
       "<style>#sk-container-id-2 {color: black;background-color: white;}#sk-container-id-2 pre{padding: 0;}#sk-container-id-2 div.sk-toggleable {background-color: white;}#sk-container-id-2 label.sk-toggleable__label {cursor: pointer;display: block;width: 100%;margin-bottom: 0;padding: 0.3em;box-sizing: border-box;text-align: center;}#sk-container-id-2 label.sk-toggleable__label-arrow:before {content: \"▸\";float: left;margin-right: 0.25em;color: #696969;}#sk-container-id-2 label.sk-toggleable__label-arrow:hover:before {color: black;}#sk-container-id-2 div.sk-estimator:hover label.sk-toggleable__label-arrow:before {color: black;}#sk-container-id-2 div.sk-toggleable__content {max-height: 0;max-width: 0;overflow: hidden;text-align: left;background-color: #f0f8ff;}#sk-container-id-2 div.sk-toggleable__content pre {margin: 0.2em;color: black;border-radius: 0.25em;background-color: #f0f8ff;}#sk-container-id-2 input.sk-toggleable__control:checked~div.sk-toggleable__content {max-height: 200px;max-width: 100%;overflow: auto;}#sk-container-id-2 input.sk-toggleable__control:checked~label.sk-toggleable__label-arrow:before {content: \"▾\";}#sk-container-id-2 div.sk-estimator input.sk-toggleable__control:checked~label.sk-toggleable__label {background-color: #d4ebff;}#sk-container-id-2 div.sk-label input.sk-toggleable__control:checked~label.sk-toggleable__label {background-color: #d4ebff;}#sk-container-id-2 input.sk-hidden--visually {border: 0;clip: rect(1px 1px 1px 1px);clip: rect(1px, 1px, 1px, 1px);height: 1px;margin: -1px;overflow: hidden;padding: 0;position: absolute;width: 1px;}#sk-container-id-2 div.sk-estimator {font-family: monospace;background-color: #f0f8ff;border: 1px dotted black;border-radius: 0.25em;box-sizing: border-box;margin-bottom: 0.5em;}#sk-container-id-2 div.sk-estimator:hover {background-color: #d4ebff;}#sk-container-id-2 div.sk-parallel-item::after {content: \"\";width: 100%;border-bottom: 1px solid gray;flex-grow: 1;}#sk-container-id-2 div.sk-label:hover label.sk-toggleable__label {background-color: #d4ebff;}#sk-container-id-2 div.sk-serial::before {content: \"\";position: absolute;border-left: 1px solid gray;box-sizing: border-box;top: 0;bottom: 0;left: 50%;z-index: 0;}#sk-container-id-2 div.sk-serial {display: flex;flex-direction: column;align-items: center;background-color: white;padding-right: 0.2em;padding-left: 0.2em;position: relative;}#sk-container-id-2 div.sk-item {position: relative;z-index: 1;}#sk-container-id-2 div.sk-parallel {display: flex;align-items: stretch;justify-content: center;background-color: white;position: relative;}#sk-container-id-2 div.sk-item::before, #sk-container-id-2 div.sk-parallel-item::before {content: \"\";position: absolute;border-left: 1px solid gray;box-sizing: border-box;top: 0;bottom: 0;left: 50%;z-index: -1;}#sk-container-id-2 div.sk-parallel-item {display: flex;flex-direction: column;z-index: 1;position: relative;background-color: white;}#sk-container-id-2 div.sk-parallel-item:first-child::after {align-self: flex-end;width: 50%;}#sk-container-id-2 div.sk-parallel-item:last-child::after {align-self: flex-start;width: 50%;}#sk-container-id-2 div.sk-parallel-item:only-child::after {width: 0;}#sk-container-id-2 div.sk-dashed-wrapped {border: 1px dashed gray;margin: 0 0.4em 0.5em 0.4em;box-sizing: border-box;padding-bottom: 0.4em;background-color: white;}#sk-container-id-2 div.sk-label label {font-family: monospace;font-weight: bold;display: inline-block;line-height: 1.2em;}#sk-container-id-2 div.sk-label-container {text-align: center;}#sk-container-id-2 div.sk-container {/* jupyter's `normalize.less` sets `[hidden] { display: none; }` but bootstrap.min.css set `[hidden] { display: none !important; }` so we also need the `!important` here to be able to override the default hidden behavior on the sphinx rendered scikit-learn.org. See: https://github.com/scikit-learn/scikit-learn/issues/21755 */display: inline-block !important;position: relative;}#sk-container-id-2 div.sk-text-repr-fallback {display: none;}</style><div id=\"sk-container-id-2\" class=\"sk-top-container\"><div class=\"sk-text-repr-fallback\"><pre>KNeighborsClassifier(n_neighbors=4)</pre><b>In a Jupyter environment, please rerun this cell to show the HTML representation or trust the notebook. <br />On GitHub, the HTML representation is unable to render, please try loading this page with nbviewer.org.</b></div><div class=\"sk-container\" hidden><div class=\"sk-item\"><div class=\"sk-estimator sk-toggleable\"><input class=\"sk-toggleable__control sk-hidden--visually\" id=\"sk-estimator-id-2\" type=\"checkbox\" checked><label for=\"sk-estimator-id-2\" class=\"sk-toggleable__label sk-toggleable__label-arrow\">KNeighborsClassifier</label><div class=\"sk-toggleable__content\"><pre>KNeighborsClassifier(n_neighbors=4)</pre></div></div></div></div></div>"
      ],
      "text/plain": [
       "KNeighborsClassifier(n_neighbors=4)"
      ]
     },
     "execution_count": 23,
     "metadata": {},
     "output_type": "execute_result"
    }
   ],
   "source": [
    "# fit(문제, 정답)\n",
    "knn_model.fit(X_train, y_train)\n",
    "# X 데이터(키, 몸무게)를 통해서 y 데이터(비만도 등급)의 규칙을 찾음 "
   ]
  },
  {
   "cell_type": "code",
   "execution_count": null,
   "id": "6ae19cd8",
   "metadata": {},
   "outputs": [],
   "source": []
  },
  {
   "cell_type": "code",
   "execution_count": null,
   "id": "564302fd",
   "metadata": {},
   "outputs": [],
   "source": []
  },
  {
   "cell_type": "markdown",
   "id": "f14979b5",
   "metadata": {},
   "source": [
    "# 평가\n",
    "- 모델이 제대로 만들어졌는지 평가\n",
    "- 새로운 데이터 (평가용으로 남겨둔 데이터)에 대해서 잘 예측하는지 확인 "
   ]
  },
  {
   "cell_type": "code",
   "execution_count": 18,
   "id": "160b8d1c",
   "metadata": {
    "ExecuteTime": {
     "end_time": "2023-08-23T00:48:33.941923Z",
     "start_time": "2023-08-23T00:48:33.940039Z"
    }
   },
   "outputs": [],
   "source": [
    "import warnings\n",
    "warnings.filterwarnings('ignore') # warning을 무시하기"
   ]
  },
  {
   "cell_type": "code",
   "execution_count": 28,
   "id": "ce815f40",
   "metadata": {
    "ExecuteTime": {
     "end_time": "2023-08-23T00:50:03.372431Z",
     "start_time": "2023-08-23T00:50:03.367735Z"
    }
   },
   "outputs": [
    {
     "data": {
      "text/plain": [
       "array(['Normal'], dtype=object)"
      ]
     },
     "execution_count": 28,
     "metadata": {},
     "output_type": "execute_result"
    }
   ],
   "source": [
    "# 예측\n",
    "knn_model.predict([[175,78]])"
   ]
  },
  {
   "cell_type": "code",
   "execution_count": 29,
   "id": "cbe0aa41",
   "metadata": {
    "ExecuteTime": {
     "end_time": "2023-08-23T00:50:04.406351Z",
     "start_time": "2023-08-23T00:50:04.390167Z"
    }
   },
   "outputs": [
    {
     "data": {
      "text/plain": [
       "0.8933333333333333"
      ]
     },
     "execution_count": 29,
     "metadata": {},
     "output_type": "execute_result"
    }
   ],
   "source": [
    "# 만들어진 모델 평가 -> 학습에 사용하지 않는 새로운 문제와 정답으로 확인 \n",
    "# score(문제데이터, 정답데이터)\n",
    "knn_model.score(X_test, y_test)\n",
    "\n",
    "#정답데이터와 예측정답을 비교\n",
    "# 0~1 까지 값을 출력\n",
    "# 0 : 모덱의 성능이 낮다, 규칙이 엉망이다 --> 규칙을 찾지 못함\n",
    "# 1 : 모델의 성능이 괜찮다, 규칙을 잘 찾음 "
   ]
  },
  {
   "cell_type": "code",
   "execution_count": 30,
   "id": "01134927",
   "metadata": {
    "ExecuteTime": {
     "end_time": "2023-08-23T00:50:05.692092Z",
     "start_time": "2023-08-23T00:50:05.670650Z"
    }
   },
   "outputs": [
    {
     "data": {
      "text/plain": [
       "0.9542857142857143"
      ]
     },
     "execution_count": 30,
     "metadata": {},
     "output_type": "execute_result"
    }
   ],
   "source": [
    "# 훈련용 데이터 정확도 확인\n",
    "knn_model.score(X_train, y_train)\n",
    "\n",
    "# 규칙을 찾는데 사용된 데이터이기 때문에 test보다는 score 값이 높음 "
   ]
  },
  {
   "cell_type": "markdown",
   "id": "a91286eb",
   "metadata": {},
   "source": [
    "### 일반적인 상황\n",
    "\n",
    "- train에 사용한 score가 일반적으로 높음 \n",
    "- test를 사용한 score가 일반적으로 낮음 --> 정상범주\n",
    "\n",
    "### 예외인상황\n",
    "\n",
    "- train에 사용한 score가 낮음 --> 과소적합 <-> 과대적합\n",
    "- test를 사용한 socre가 높음 --> test는 운으로 잘 맞춤(비정상), 규칙을 잘못 찾음"
   ]
  },
  {
   "cell_type": "markdown",
   "id": "d9e84616",
   "metadata": {},
   "source": [
    "# 하이퍼파라미터 튜닝하기\n",
    "- KNN 모델의 하이퍼파라미터(n-neighbors)의 변화 에따라 score값을 확인\n",
    "- --> 최적의 하이퍼파라미터를 찾기위해 "
   ]
  },
  {
   "cell_type": "code",
   "execution_count": 43,
   "id": "5abaeb8e",
   "metadata": {
    "ExecuteTime": {
     "end_time": "2023-08-23T01:09:54.931767Z",
     "start_time": "2023-08-23T01:09:54.875067Z"
    }
   },
   "outputs": [
    {
     "name": "stdout",
     "output_type": "stream",
     "text": [
      "1번째 score : 0.9066666666666666\n",
      "2번째 score : 0.9\n",
      "3번째 score : 0.8933333333333333\n",
      "4번째 score : 0.8933333333333333\n",
      "5번째 score : 0.9066666666666666\n",
      "6번째 score : 0.92\n",
      "7번째 score : 0.9\n",
      "8번째 score : 0.9133333333333333\n",
      "9번째 score : 0.92\n",
      "10번째 score : 0.9333333333333333\n"
     ]
    }
   ],
   "source": [
    "\n",
    "for i in range(1,11):\n",
    "    knn_model3 = KNeighborsClassifier(n_neighbors=i) # 기본값\n",
    "    knn_model3.fit(X_train, y_train)\n",
    "    print(f'{i}번째 score : {knn_model3.score(X_test, y_test)}')\n",
    "    "
   ]
  },
  {
   "cell_type": "markdown",
   "id": "9bffd371",
   "metadata": {},
   "source": [
    "## 모델 복잡도 곡선 그려보기 \n",
    "- 과대적합, 과소적합, 일반화 확인하기 위해\n"
   ]
  },
  {
   "cell_type": "code",
   "execution_count": 57,
   "id": "d2ed7c73",
   "metadata": {
    "ExecuteTime": {
     "end_time": "2023-08-23T01:37:11.582990Z",
     "start_time": "2023-08-23T01:37:11.375193Z"
    }
   },
   "outputs": [],
   "source": [
    "# 훈련용과 평가용 데이터의 점수를 저장 \n",
    "# 훈련용 데이터 점수 \n",
    "train_score = []\n",
    "\n",
    "\n",
    "# 평가용 데이터 점수\n",
    "test_score = []\n",
    "for i in range(1,31):\n",
    "    \n",
    "    # n_neighbors를 변경해가면서 모델 생성 \n",
    "    knn_model4 = KNeighborsClassifier(n_neighbors=i) # 기본값\n",
    "    \n",
    "    # 생성된 모델 학습 \n",
    "    knn_model4.fit(X_train, y_train)\n",
    "    \n",
    "    # 만들어진 규칙으로 score값 저장\n",
    "    train_score.append(knn_model4.score(X_train, y_train))\n",
    "    test_score.append(knn_model4.score(X_test, y_test))"
   ]
  },
  {
   "cell_type": "code",
   "execution_count": 58,
   "id": "c5e22388",
   "metadata": {
    "ExecuteTime": {
     "end_time": "2023-08-23T01:37:12.921408Z",
     "start_time": "2023-08-23T01:37:12.727012Z"
    }
   },
   "outputs": [
    {
     "data": {
      "image/png": "[encoded data removed]",
      "text/plain": [
       "<Figure size 640x480 with 1 Axes>"
      ]
     },
     "metadata": {},
     "output_type": "display_data"
    }
   ],
   "source": [
    "# 그래프로 확인하기 \n",
    "# 선그래프 : plot(X, y축의 값 필요)\n",
    "# X축(학습량) : n_neighbors = range(1, 31)\n",
    "# y축(정확도) : score \n",
    "\n",
    "plt.plot(range(1, 31), train_score, label=\"Train\")\n",
    "plt.plot(range(1, 31), test_score, label=\"Test\")\n",
    "plt.legend()\n",
    "plt.show()"
   ]
  },
  {
   "cell_type": "code",
   "execution_count": null,
   "id": "cd481353",
   "metadata": {},
   "outputs": [],
   "source": []
  },
  {
   "cell_type": "code",
   "execution_count": null,
   "id": "49b95dcb",
   "metadata": {},
   "outputs": [],
   "source": []
  },
  {
   "cell_type": "code",
   "execution_count": null,
   "id": "87f7a30b",
   "metadata": {},
   "outputs": [],
   "source": []
  },
  {
   "cell_type": "code",
   "execution_count": null,
   "id": "c79e460d",
   "metadata": {},
   "outputs": [],
   "source": []
  },
  {
   "cell_type": "code",
   "execution_count": null,
   "id": "8794103b",
   "metadata": {},
   "outputs": [],
   "source": []
  },
  {
   "cell_type": "code",
   "execution_count": null,
   "id": "8edda124",
   "metadata": {},
   "outputs": [],
   "source": []
  },
  {
   "cell_type": "markdown",
   "id": "6f52c36b",
   "metadata": {},
   "source": []
  }
 ],
 "metadata": {
  "kernelspec": {
   "display_name": "Python 3 (ipykernel)",
   "language": "python",
   "name": "python3"
  },
  "language_info": {
   "codemirror_mode": {
    "name": "ipython",
    "version": 3
   },
   "file_extension": ".py",
   "mimetype": "text/x-python",
   "name": "python",
   "nbconvert_exporter": "python",
   "pygments_lexer": "ipython3",
   "version": "3.11.3"
  },
  "toc": {
   "base_numbering": 1,
   "nav_menu": {},
   "number_sections": true,
   "sideBar": true,
   "skip_h1_title": false,
   "title_cell": "Table of Contents",
   "title_sidebar": "Contents",
   "toc_cell": false,
   "toc_position": {
    "height": "calc(100% - 180px)",
    "left": "10px",
    "top": "150px",
    "width": "227px"
   },
   "toc_section_display": true,
   "toc_window_display": true
  }
 },
 "nbformat": 4,
 "nbformat_minor": 5
}
