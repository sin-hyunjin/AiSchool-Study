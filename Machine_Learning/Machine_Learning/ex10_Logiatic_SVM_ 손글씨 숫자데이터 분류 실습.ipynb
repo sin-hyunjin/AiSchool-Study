{
 "cells": [
  {
   "cell_type": "markdown",
   "id": "38d7a7bf",
   "metadata": {},
   "source": [
    "### 문제정의\n",
    "- 손글씨 숫자(0 ~ 9)를 분류하는 모델을 만들어보자.\n",
    "- 이미지 데이터의 형태를 이해해보자."
   ]
  },
  {
   "cell_type": "markdown",
   "id": "9a42d603",
   "metadata": {},
   "source": [
    "### 데이터 수집\n"
   ]
  },
  {
   "cell_type": "code",
   "execution_count": 1,
   "id": "477330b4",
   "metadata": {
    "ExecuteTime": {
     "end_time": "2023-09-06T01:47:39.360435Z",
     "start_time": "2023-09-06T01:47:38.834127Z"
    }
   },
   "outputs": [],
   "source": [
    "import warnings\n",
    "warnings.filterwarnings('ignore') # warning을 무시하기\n",
    "import numpy as np\n",
    "import pandas as pd\n",
    "import matplotlib.pyplot as plt "
   ]
  },
  {
   "cell_type": "code",
   "execution_count": 2,
   "id": "7ec44da9",
   "metadata": {
    "ExecuteTime": {
     "end_time": "2023-09-06T01:47:40.146888Z",
     "start_time": "2023-09-06T01:47:39.361204Z"
    }
   },
   "outputs": [
    {
     "data": {
      "text/html": [
       "<div>\n",
       "<style scoped>\n",
       "    .dataframe tbody tr th:only-of-type {\n",
       "        vertical-align: middle;\n",
       "    }\n",
       "\n",
       "    .dataframe tbody tr th {\n",
       "        vertical-align: top;\n",
       "    }\n",
       "\n",
       "    .dataframe thead th {\n",
       "        text-align: right;\n",
       "    }\n",
       "</style>\n",
       "<table border=\"1\" class=\"dataframe\">\n",
       "  <thead>\n",
       "    <tr style=\"text-align: right;\">\n",
       "      <th></th>\n",
       "      <th>label</th>\n",
       "      <th>pixel0</th>\n",
       "      <th>pixel1</th>\n",
       "      <th>pixel2</th>\n",
       "      <th>pixel3</th>\n",
       "      <th>pixel4</th>\n",
       "      <th>pixel5</th>\n",
       "      <th>pixel6</th>\n",
       "      <th>pixel7</th>\n",
       "      <th>pixel8</th>\n",
       "      <th>...</th>\n",
       "      <th>pixel774</th>\n",
       "      <th>pixel775</th>\n",
       "      <th>pixel776</th>\n",
       "      <th>pixel777</th>\n",
       "      <th>pixel778</th>\n",
       "      <th>pixel779</th>\n",
       "      <th>pixel780</th>\n",
       "      <th>pixel781</th>\n",
       "      <th>pixel782</th>\n",
       "      <th>pixel783</th>\n",
       "    </tr>\n",
       "  </thead>\n",
       "  <tbody>\n",
       "    <tr>\n",
       "      <th>0</th>\n",
       "      <td>1</td>\n",
       "      <td>0</td>\n",
       "      <td>0</td>\n",
       "      <td>0</td>\n",
       "      <td>0</td>\n",
       "      <td>0</td>\n",
       "      <td>0</td>\n",
       "      <td>0</td>\n",
       "      <td>0</td>\n",
       "      <td>0</td>\n",
       "      <td>...</td>\n",
       "      <td>0</td>\n",
       "      <td>0</td>\n",
       "      <td>0</td>\n",
       "      <td>0</td>\n",
       "      <td>0</td>\n",
       "      <td>0</td>\n",
       "      <td>0</td>\n",
       "      <td>0</td>\n",
       "      <td>0</td>\n",
       "      <td>0</td>\n",
       "    </tr>\n",
       "    <tr>\n",
       "      <th>1</th>\n",
       "      <td>0</td>\n",
       "      <td>0</td>\n",
       "      <td>0</td>\n",
       "      <td>0</td>\n",
       "      <td>0</td>\n",
       "      <td>0</td>\n",
       "      <td>0</td>\n",
       "      <td>0</td>\n",
       "      <td>0</td>\n",
       "      <td>0</td>\n",
       "      <td>...</td>\n",
       "      <td>0</td>\n",
       "      <td>0</td>\n",
       "      <td>0</td>\n",
       "      <td>0</td>\n",
       "      <td>0</td>\n",
       "      <td>0</td>\n",
       "      <td>0</td>\n",
       "      <td>0</td>\n",
       "      <td>0</td>\n",
       "      <td>0</td>\n",
       "    </tr>\n",
       "    <tr>\n",
       "      <th>2</th>\n",
       "      <td>1</td>\n",
       "      <td>0</td>\n",
       "      <td>0</td>\n",
       "      <td>0</td>\n",
       "      <td>0</td>\n",
       "      <td>0</td>\n",
       "      <td>0</td>\n",
       "      <td>0</td>\n",
       "      <td>0</td>\n",
       "      <td>0</td>\n",
       "      <td>...</td>\n",
       "      <td>0</td>\n",
       "      <td>0</td>\n",
       "      <td>0</td>\n",
       "      <td>0</td>\n",
       "      <td>0</td>\n",
       "      <td>0</td>\n",
       "      <td>0</td>\n",
       "      <td>0</td>\n",
       "      <td>0</td>\n",
       "      <td>0</td>\n",
       "    </tr>\n",
       "    <tr>\n",
       "      <th>3</th>\n",
       "      <td>4</td>\n",
       "      <td>0</td>\n",
       "      <td>0</td>\n",
       "      <td>0</td>\n",
       "      <td>0</td>\n",
       "      <td>0</td>\n",
       "      <td>0</td>\n",
       "      <td>0</td>\n",
       "      <td>0</td>\n",
       "      <td>0</td>\n",
       "      <td>...</td>\n",
       "      <td>0</td>\n",
       "      <td>0</td>\n",
       "      <td>0</td>\n",
       "      <td>0</td>\n",
       "      <td>0</td>\n",
       "      <td>0</td>\n",
       "      <td>0</td>\n",
       "      <td>0</td>\n",
       "      <td>0</td>\n",
       "      <td>0</td>\n",
       "    </tr>\n",
       "    <tr>\n",
       "      <th>4</th>\n",
       "      <td>0</td>\n",
       "      <td>0</td>\n",
       "      <td>0</td>\n",
       "      <td>0</td>\n",
       "      <td>0</td>\n",
       "      <td>0</td>\n",
       "      <td>0</td>\n",
       "      <td>0</td>\n",
       "      <td>0</td>\n",
       "      <td>0</td>\n",
       "      <td>...</td>\n",
       "      <td>0</td>\n",
       "      <td>0</td>\n",
       "      <td>0</td>\n",
       "      <td>0</td>\n",
       "      <td>0</td>\n",
       "      <td>0</td>\n",
       "      <td>0</td>\n",
       "      <td>0</td>\n",
       "      <td>0</td>\n",
       "      <td>0</td>\n",
       "    </tr>\n",
       "  </tbody>\n",
       "</table>\n",
       "<p>5 rows × 785 columns</p>\n",
       "</div>"
      ],
      "text/plain": [
       "   label  pixel0  pixel1  pixel2  pixel3  pixel4  pixel5  pixel6  pixel7  \\\n",
       "0      1       0       0       0       0       0       0       0       0   \n",
       "1      0       0       0       0       0       0       0       0       0   \n",
       "2      1       0       0       0       0       0       0       0       0   \n",
       "3      4       0       0       0       0       0       0       0       0   \n",
       "4      0       0       0       0       0       0       0       0       0   \n",
       "\n",
       "   pixel8  ...  pixel774  pixel775  pixel776  pixel777  pixel778  pixel779  \\\n",
       "0       0  ...         0         0         0         0         0         0   \n",
       "1       0  ...         0         0         0         0         0         0   \n",
       "2       0  ...         0         0         0         0         0         0   \n",
       "3       0  ...         0         0         0         0         0         0   \n",
       "4       0  ...         0         0         0         0         0         0   \n",
       "\n",
       "   pixel780  pixel781  pixel782  pixel783  \n",
       "0         0         0         0         0  \n",
       "1         0         0         0         0  \n",
       "2         0         0         0         0  \n",
       "3         0         0         0         0  \n",
       "4         0         0         0         0  \n",
       "\n",
       "[5 rows x 785 columns]"
      ]
     },
     "execution_count": 2,
     "metadata": {},
     "output_type": "execute_result"
    }
   ],
   "source": [
    "data = pd.read_csv('./Data/digit_train.csv', encoding='UTF-8')\n",
    "\n",
    "data.head()\n",
    "# label: 정답\n",
    "# 28 *28 "
   ]
  },
  {
   "cell_type": "code",
   "execution_count": 3,
   "id": "8e3dc51f",
   "metadata": {
    "ExecuteTime": {
     "end_time": "2023-09-06T01:47:40.149753Z",
     "start_time": "2023-09-06T01:47:40.148162Z"
    }
   },
   "outputs": [
    {
     "name": "stdout",
     "output_type": "stream",
     "text": [
      "6000.0 112.14285714285714\n"
     ]
    }
   ],
   "source": [
    "# 전체 데이터 갯수(크기)\n",
    "data.shape\n",
    "\n",
    "print(42000/7, 785/7)"
   ]
  },
  {
   "cell_type": "code",
   "execution_count": 4,
   "id": "cdaaca0f",
   "metadata": {
    "ExecuteTime": {
     "end_time": "2023-09-06T01:47:40.151603Z",
     "start_time": "2023-09-06T01:47:40.150312Z"
    }
   },
   "outputs": [],
   "source": [
    "# 데이터 시각화\n",
    "img0 = data.iloc[0, 1 :] # 첫번째 행의 label을 제외한 모든 컬럼을 가져와서 img0이라는 변수에 저장 \n"
   ]
  },
  {
   "cell_type": "code",
   "execution_count": 5,
   "id": "6ca47f91",
   "metadata": {
    "ExecuteTime": {
     "end_time": "2023-09-06T01:47:40.153423Z",
     "start_time": "2023-09-06T01:47:40.152255Z"
    }
   },
   "outputs": [],
   "source": [
    "# 리스트 자료형을 28*28dml 2차원으로 변환\n",
    "img0_reshape = img0.values.reshape(28,28)"
   ]
  },
  {
   "cell_type": "code",
   "execution_count": 6,
   "id": "16da026c",
   "metadata": {
    "ExecuteTime": {
     "end_time": "2023-09-06T01:47:40.219723Z",
     "start_time": "2023-09-06T01:47:40.153896Z"
    }
   },
   "outputs": [
    {
     "data": {
      "text/plain": [
       "<matplotlib.image.AxesImage at 0x12cccf650>"
      ]
     },
     "execution_count": 6,
     "metadata": {},
     "output_type": "execute_result"
    },
    {
     "data": {
      "image/png": "[encoded data removed]",
      "text/plain": [
       "<Figure size 640x480 with 1 Axes>"
      ]
     },
     "metadata": {},
     "output_type": "display_data"
    }
   ],
   "source": [
    "# 이미지 하나 그려보기(행인덱스 0번의 데이터)\n",
    "# 컬러를 반영하지 않은 gray로 변경 \n",
    "plt.imshow(img0_reshape, cmap='gray')"
   ]
  },
  {
   "cell_type": "code",
   "execution_count": 7,
   "id": "af61cdc7",
   "metadata": {
    "ExecuteTime": {
     "end_time": "2023-09-06T01:47:40.274724Z",
     "start_time": "2023-09-06T01:47:40.221352Z"
    }
   },
   "outputs": [
    {
     "data": {
      "text/plain": [
       "<matplotlib.image.AxesImage at 0x12cefb4d0>"
      ]
     },
     "execution_count": 7,
     "metadata": {},
     "output_type": "execute_result"
    },
    {
     "data": {
      "image/png": "[encoded data removed]",
      "text/plain": [
       "<Figure size 640x480 with 1 Axes>"
      ]
     },
     "metadata": {},
     "output_type": "display_data"
    }
   ],
   "source": [
    "# 33번행의 데이터 가져와서 이미지 그려보기 \n",
    "img32 = data.iloc[32,1:] \n",
    "img32_reshape = img32.values.reshape(28,28)\n",
    "plt.imshow(img32_reshape, cmap='gray')"
   ]
  },
  {
   "cell_type": "markdown",
   "id": "a65aac42",
   "metadata": {
    "ExecuteTime": {
     "end_time": "2023-09-06T01:04:29.175936Z",
     "start_time": "2023-09-06T01:04:29.170954Z"
    }
   },
   "source": [
    "### 학습을 위한 데이터 분리 \n",
    "- 학습 7 : 테스트 3\n",
    "- random_state = 3"
   ]
  },
  {
   "cell_type": "code",
   "execution_count": 8,
   "id": "06cdcbc5",
   "metadata": {
    "ExecuteTime": {
     "end_time": "2023-09-06T01:47:40.689855Z",
     "start_time": "2023-09-06T01:47:40.275878Z"
    }
   },
   "outputs": [
    {
     "name": "stdout",
     "output_type": "stream",
     "text": [
      "훈련용 문제 : (29400, 784)\n",
      "검증용 문제 : (12600, 784)\n",
      "훈련용 정답 : (29400,)\n",
      "검증용 정답 : (12600,)\n"
     ]
    }
   ],
   "source": [
    "# 6000.0 112.14285714285714\n",
    "\n",
    "X = data.iloc[:,1:]\n",
    "y = data.iloc[:,0]\n",
    "\n",
    "from sklearn.model_selection import train_test_split\n",
    "\n",
    "X_train, X_test, y_train, y_test = train_test_split(X, y, test_size=0.3, random_state=3)\n",
    "\n",
    "\n",
    "\n",
    "print(\"훈련용 문제 :\",X_train.shape)\n",
    "print(\"검증용 문제 :\",X_test.shape)\n",
    "print(\"훈련용 정답 :\",y_train.shape)\n",
    "print(\"검증용 정답 :\",y_test.shape)"
   ]
  },
  {
   "cell_type": "markdown",
   "id": "86210c09",
   "metadata": {},
   "source": [
    "### 모델 적용\n",
    "- KNN\n",
    "- LogisticRegression\n",
    "- SVM"
   ]
  },
  {
   "cell_type": "code",
   "execution_count": 9,
   "id": "bdd6196a",
   "metadata": {
    "ExecuteTime": {
     "end_time": "2023-09-06T01:47:40.734041Z",
     "start_time": "2023-09-06T01:47:40.691604Z"
    }
   },
   "outputs": [],
   "source": [
    "from sklearn.neighbors import KNeighborsClassifier\n",
    "from sklearn.linear_model import LogisticRegression\n",
    "from sklearn.svm import LinearSVC\n",
    "\n",
    "knn_model =  KNeighborsClassifier()\n",
    "logi_model = LogisticRegression()\n",
    "svm_model = LinearSVC()"
   ]
  },
  {
   "cell_type": "markdown",
   "id": "1bf085dd",
   "metadata": {},
   "source": [
    "### 학습 및 평가 "
   ]
  },
  {
   "cell_type": "code",
   "execution_count": 14,
   "id": "1587f53a",
   "metadata": {
    "ExecuteTime": {
     "end_time": "2023-09-06T01:49:20.385246Z",
     "start_time": "2023-09-06T01:49:20.325332Z"
    }
   },
   "outputs": [
    {
     "data": {
      "text/html": [
       "<style>#sk-container-id-4 {color: black;background-color: white;}#sk-container-id-4 pre{padding: 0;}#sk-container-id-4 div.sk-toggleable {background-color: white;}#sk-container-id-4 label.sk-toggleable__label {cursor: pointer;display: block;width: 100%;margin-bottom: 0;padding: 0.3em;box-sizing: border-box;text-align: center;}#sk-container-id-4 label.sk-toggleable__label-arrow:before {content: \"▸\";float: left;margin-right: 0.25em;color: #696969;}#sk-container-id-4 label.sk-toggleable__label-arrow:hover:before {color: black;}#sk-container-id-4 div.sk-estimator:hover label.sk-toggleable__label-arrow:before {color: black;}#sk-container-id-4 div.sk-toggleable__content {max-height: 0;max-width: 0;overflow: hidden;text-align: left;background-color: #f0f8ff;}#sk-container-id-4 div.sk-toggleable__content pre {margin: 0.2em;color: black;border-radius: 0.25em;background-color: #f0f8ff;}#sk-container-id-4 input.sk-toggleable__control:checked~div.sk-toggleable__content {max-height: 200px;max-width: 100%;overflow: auto;}#sk-container-id-4 input.sk-toggleable__control:checked~label.sk-toggleable__label-arrow:before {content: \"▾\";}#sk-container-id-4 div.sk-estimator input.sk-toggleable__control:checked~label.sk-toggleable__label {background-color: #d4ebff;}#sk-container-id-4 div.sk-label input.sk-toggleable__control:checked~label.sk-toggleable__label {background-color: #d4ebff;}#sk-container-id-4 input.sk-hidden--visually {border: 0;clip: rect(1px 1px 1px 1px);clip: rect(1px, 1px, 1px, 1px);height: 1px;margin: -1px;overflow: hidden;padding: 0;position: absolute;width: 1px;}#sk-container-id-4 div.sk-estimator {font-family: monospace;background-color: #f0f8ff;border: 1px dotted black;border-radius: 0.25em;box-sizing: border-box;margin-bottom: 0.5em;}#sk-container-id-4 div.sk-estimator:hover {background-color: #d4ebff;}#sk-container-id-4 div.sk-parallel-item::after {content: \"\";width: 100%;border-bottom: 1px solid gray;flex-grow: 1;}#sk-container-id-4 div.sk-label:hover label.sk-toggleable__label {background-color: #d4ebff;}#sk-container-id-4 div.sk-serial::before {content: \"\";position: absolute;border-left: 1px solid gray;box-sizing: border-box;top: 0;bottom: 0;left: 50%;z-index: 0;}#sk-container-id-4 div.sk-serial {display: flex;flex-direction: column;align-items: center;background-color: white;padding-right: 0.2em;padding-left: 0.2em;position: relative;}#sk-container-id-4 div.sk-item {position: relative;z-index: 1;}#sk-container-id-4 div.sk-parallel {display: flex;align-items: stretch;justify-content: center;background-color: white;position: relative;}#sk-container-id-4 div.sk-item::before, #sk-container-id-4 div.sk-parallel-item::before {content: \"\";position: absolute;border-left: 1px solid gray;box-sizing: border-box;top: 0;bottom: 0;left: 50%;z-index: -1;}#sk-container-id-4 div.sk-parallel-item {display: flex;flex-direction: column;z-index: 1;position: relative;background-color: white;}#sk-container-id-4 div.sk-parallel-item:first-child::after {align-self: flex-end;width: 50%;}#sk-container-id-4 div.sk-parallel-item:last-child::after {align-self: flex-start;width: 50%;}#sk-container-id-4 div.sk-parallel-item:only-child::after {width: 0;}#sk-container-id-4 div.sk-dashed-wrapped {border: 1px dashed gray;margin: 0 0.4em 0.5em 0.4em;box-sizing: border-box;padding-bottom: 0.4em;background-color: white;}#sk-container-id-4 div.sk-label label {font-family: monospace;font-weight: bold;display: inline-block;line-height: 1.2em;}#sk-container-id-4 div.sk-label-container {text-align: center;}#sk-container-id-4 div.sk-container {/* jupyter's `normalize.less` sets `[hidden] { display: none; }` but bootstrap.min.css set `[hidden] { display: none !important; }` so we also need the `!important` here to be able to override the default hidden behavior on the sphinx rendered scikit-learn.org. See: https://github.com/scikit-learn/scikit-learn/issues/21755 */display: inline-block !important;position: relative;}#sk-container-id-4 div.sk-text-repr-fallback {display: none;}</style><div id=\"sk-container-id-4\" class=\"sk-top-container\"><div class=\"sk-text-repr-fallback\"><pre>KNeighborsClassifier()</pre><b>In a Jupyter environment, please rerun this cell to show the HTML representation or trust the notebook. <br />On GitHub, the HTML representation is unable to render, please try loading this page with nbviewer.org.</b></div><div class=\"sk-container\" hidden><div class=\"sk-item\"><div class=\"sk-estimator sk-toggleable\"><input class=\"sk-toggleable__control sk-hidden--visually\" id=\"sk-estimator-id-4\" type=\"checkbox\" checked><label for=\"sk-estimator-id-4\" class=\"sk-toggleable__label sk-toggleable__label-arrow\">KNeighborsClassifier</label><div class=\"sk-toggleable__content\"><pre>KNeighborsClassifier()</pre></div></div></div></div></div>"
      ],
      "text/plain": [
       "KNeighborsClassifier()"
      ]
     },
     "execution_count": 14,
     "metadata": {},
     "output_type": "execute_result"
    }
   ],
   "source": [
    "# 학습 \n",
    "knn_model.fit(X_train, y_train)\n",
    "logi_model.fit(X_train, y_train)\n",
    "svm_model.fit(X_train, y_train)"
   ]
  },
  {
   "cell_type": "code",
   "execution_count": 17,
   "id": "0b26e185",
   "metadata": {
    "ExecuteTime": {
     "end_time": "2023-09-06T01:50:21.653489Z",
     "start_time": "2023-09-06T01:50:03.369194Z"
    }
   },
   "outputs": [
    {
     "name": "stdout",
     "output_type": "stream",
     "text": [
      "KNN : 0.9762244897959184\n",
      "Logistic : 0.9428231292517006\n",
      "SVM : 0.8972108843537415\n"
     ]
    }
   ],
   "source": [
    "# 평가  : score \n",
    "print('KNN :', knn_model.score(X_test, y_test))\n",
    "print('Logistic :', logi_model.score(X_test, y_test))\n",
    "print('SVM :',svm_model.score(X_test, y_test))"
   ]
  },
  {
   "cell_type": "markdown",
   "id": "86fb9607",
   "metadata": {},
   "source": [
    "### 데이터 스케일링 \n",
    "- 이미지 데이터 : 픽셀정보(0 ~ 255 )\n",
    "- 1. MinMaxScaler를 사용하여 0 ~ 1 사이의 값으로 모든 픽셀을 조정 \n",
    "- 2. 스케일링 효과 확인하기\n",
    "    - 학습(연산) 속도가 개선(빨라짐)\n",
    "    - 거리기반으로 예측하는 KNN모델은 거의 변화가 없었음\n",
    "- KNN : 데이터가 많을수록 속도가 느려짐 -> 모든 데이터에 대해 거리를 계산하기 때문에 \n",
    "\n"
   ]
  },
  {
   "cell_type": "code",
   "execution_count": 20,
   "id": "6eeb3e3c",
   "metadata": {
    "ExecuteTime": {
     "end_time": "2023-09-06T02:13:23.164300Z",
     "start_time": "2023-09-06T02:13:23.091833Z"
    }
   },
   "outputs": [
    {
     "data": {
      "text/html": [
       "<style>#sk-container-id-8 {color: black;background-color: white;}#sk-container-id-8 pre{padding: 0;}#sk-container-id-8 div.sk-toggleable {background-color: white;}#sk-container-id-8 label.sk-toggleable__label {cursor: pointer;display: block;width: 100%;margin-bottom: 0;padding: 0.3em;box-sizing: border-box;text-align: center;}#sk-container-id-8 label.sk-toggleable__label-arrow:before {content: \"▸\";float: left;margin-right: 0.25em;color: #696969;}#sk-container-id-8 label.sk-toggleable__label-arrow:hover:before {color: black;}#sk-container-id-8 div.sk-estimator:hover label.sk-toggleable__label-arrow:before {color: black;}#sk-container-id-8 div.sk-toggleable__content {max-height: 0;max-width: 0;overflow: hidden;text-align: left;background-color: #f0f8ff;}#sk-container-id-8 div.sk-toggleable__content pre {margin: 0.2em;color: black;border-radius: 0.25em;background-color: #f0f8ff;}#sk-container-id-8 input.sk-toggleable__control:checked~div.sk-toggleable__content {max-height: 200px;max-width: 100%;overflow: auto;}#sk-container-id-8 input.sk-toggleable__control:checked~label.sk-toggleable__label-arrow:before {content: \"▾\";}#sk-container-id-8 div.sk-estimator input.sk-toggleable__control:checked~label.sk-toggleable__label {background-color: #d4ebff;}#sk-container-id-8 div.sk-label input.sk-toggleable__control:checked~label.sk-toggleable__label {background-color: #d4ebff;}#sk-container-id-8 input.sk-hidden--visually {border: 0;clip: rect(1px 1px 1px 1px);clip: rect(1px, 1px, 1px, 1px);height: 1px;margin: -1px;overflow: hidden;padding: 0;position: absolute;width: 1px;}#sk-container-id-8 div.sk-estimator {font-family: monospace;background-color: #f0f8ff;border: 1px dotted black;border-radius: 0.25em;box-sizing: border-box;margin-bottom: 0.5em;}#sk-container-id-8 div.sk-estimator:hover {background-color: #d4ebff;}#sk-container-id-8 div.sk-parallel-item::after {content: \"\";width: 100%;border-bottom: 1px solid gray;flex-grow: 1;}#sk-container-id-8 div.sk-label:hover label.sk-toggleable__label {background-color: #d4ebff;}#sk-container-id-8 div.sk-serial::before {content: \"\";position: absolute;border-left: 1px solid gray;box-sizing: border-box;top: 0;bottom: 0;left: 50%;z-index: 0;}#sk-container-id-8 div.sk-serial {display: flex;flex-direction: column;align-items: center;background-color: white;padding-right: 0.2em;padding-left: 0.2em;position: relative;}#sk-container-id-8 div.sk-item {position: relative;z-index: 1;}#sk-container-id-8 div.sk-parallel {display: flex;align-items: stretch;justify-content: center;background-color: white;position: relative;}#sk-container-id-8 div.sk-item::before, #sk-container-id-8 div.sk-parallel-item::before {content: \"\";position: absolute;border-left: 1px solid gray;box-sizing: border-box;top: 0;bottom: 0;left: 50%;z-index: -1;}#sk-container-id-8 div.sk-parallel-item {display: flex;flex-direction: column;z-index: 1;position: relative;background-color: white;}#sk-container-id-8 div.sk-parallel-item:first-child::after {align-self: flex-end;width: 50%;}#sk-container-id-8 div.sk-parallel-item:last-child::after {align-self: flex-start;width: 50%;}#sk-container-id-8 div.sk-parallel-item:only-child::after {width: 0;}#sk-container-id-8 div.sk-dashed-wrapped {border: 1px dashed gray;margin: 0 0.4em 0.5em 0.4em;box-sizing: border-box;padding-bottom: 0.4em;background-color: white;}#sk-container-id-8 div.sk-label label {font-family: monospace;font-weight: bold;display: inline-block;line-height: 1.2em;}#sk-container-id-8 div.sk-label-container {text-align: center;}#sk-container-id-8 div.sk-container {/* jupyter's `normalize.less` sets `[hidden] { display: none; }` but bootstrap.min.css set `[hidden] { display: none !important; }` so we also need the `!important` here to be able to override the default hidden behavior on the sphinx rendered scikit-learn.org. See: https://github.com/scikit-learn/scikit-learn/issues/21755 */display: inline-block !important;position: relative;}#sk-container-id-8 div.sk-text-repr-fallback {display: none;}</style><div id=\"sk-container-id-8\" class=\"sk-top-container\"><div class=\"sk-text-repr-fallback\"><pre>MinMaxScaler()</pre><b>In a Jupyter environment, please rerun this cell to show the HTML representation or trust the notebook. <br />On GitHub, the HTML representation is unable to render, please try loading this page with nbviewer.org.</b></div><div class=\"sk-container\" hidden><div class=\"sk-item\"><div class=\"sk-estimator sk-toggleable\"><input class=\"sk-toggleable__control sk-hidden--visually\" id=\"sk-estimator-id-8\" type=\"checkbox\" checked><label for=\"sk-estimator-id-8\" class=\"sk-toggleable__label sk-toggleable__label-arrow\">MinMaxScaler</label><div class=\"sk-toggleable__content\"><pre>MinMaxScaler()</pre></div></div></div></div></div>"
      ],
      "text/plain": [
       "MinMaxScaler()"
      ]
     },
     "execution_count": 20,
     "metadata": {},
     "output_type": "execute_result"
    }
   ],
   "source": [
    "from sklearn.preprocessing import MinMaxScaler\n",
    "scaler = MinMaxScaler()\n",
    "# 학습 \n",
    "scaler.fit(X_train)"
   ]
  },
  {
   "cell_type": "code",
   "execution_count": 22,
   "id": "62a964fe",
   "metadata": {
    "ExecuteTime": {
     "end_time": "2023-09-06T02:15:25.632143Z",
     "start_time": "2023-09-06T02:15:25.524381Z"
    }
   },
   "outputs": [],
   "source": [
    "# 문제데이터에 스케일링 적용 \n",
    "X_train_scale = scaler.transform(X_train)\n",
    "X_test_scale = scaler.transform(X_test)"
   ]
  },
  {
   "cell_type": "code",
   "execution_count": 23,
   "id": "cd3b865e",
   "metadata": {
    "ExecuteTime": {
     "end_time": "2023-09-06T02:17:41.173233Z",
     "start_time": "2023-09-06T02:17:12.115488Z"
    }
   },
   "outputs": [
    {
     "data": {
      "text/html": [
       "<style>#sk-container-id-9 {color: black;background-color: white;}#sk-container-id-9 pre{padding: 0;}#sk-container-id-9 div.sk-toggleable {background-color: white;}#sk-container-id-9 label.sk-toggleable__label {cursor: pointer;display: block;width: 100%;margin-bottom: 0;padding: 0.3em;box-sizing: border-box;text-align: center;}#sk-container-id-9 label.sk-toggleable__label-arrow:before {content: \"▸\";float: left;margin-right: 0.25em;color: #696969;}#sk-container-id-9 label.sk-toggleable__label-arrow:hover:before {color: black;}#sk-container-id-9 div.sk-estimator:hover label.sk-toggleable__label-arrow:before {color: black;}#sk-container-id-9 div.sk-toggleable__content {max-height: 0;max-width: 0;overflow: hidden;text-align: left;background-color: #f0f8ff;}#sk-container-id-9 div.sk-toggleable__content pre {margin: 0.2em;color: black;border-radius: 0.25em;background-color: #f0f8ff;}#sk-container-id-9 input.sk-toggleable__control:checked~div.sk-toggleable__content {max-height: 200px;max-width: 100%;overflow: auto;}#sk-container-id-9 input.sk-toggleable__control:checked~label.sk-toggleable__label-arrow:before {content: \"▾\";}#sk-container-id-9 div.sk-estimator input.sk-toggleable__control:checked~label.sk-toggleable__label {background-color: #d4ebff;}#sk-container-id-9 div.sk-label input.sk-toggleable__control:checked~label.sk-toggleable__label {background-color: #d4ebff;}#sk-container-id-9 input.sk-hidden--visually {border: 0;clip: rect(1px 1px 1px 1px);clip: rect(1px, 1px, 1px, 1px);height: 1px;margin: -1px;overflow: hidden;padding: 0;position: absolute;width: 1px;}#sk-container-id-9 div.sk-estimator {font-family: monospace;background-color: #f0f8ff;border: 1px dotted black;border-radius: 0.25em;box-sizing: border-box;margin-bottom: 0.5em;}#sk-container-id-9 div.sk-estimator:hover {background-color: #d4ebff;}#sk-container-id-9 div.sk-parallel-item::after {content: \"\";width: 100%;border-bottom: 1px solid gray;flex-grow: 1;}#sk-container-id-9 div.sk-label:hover label.sk-toggleable__label {background-color: #d4ebff;}#sk-container-id-9 div.sk-serial::before {content: \"\";position: absolute;border-left: 1px solid gray;box-sizing: border-box;top: 0;bottom: 0;left: 50%;z-index: 0;}#sk-container-id-9 div.sk-serial {display: flex;flex-direction: column;align-items: center;background-color: white;padding-right: 0.2em;padding-left: 0.2em;position: relative;}#sk-container-id-9 div.sk-item {position: relative;z-index: 1;}#sk-container-id-9 div.sk-parallel {display: flex;align-items: stretch;justify-content: center;background-color: white;position: relative;}#sk-container-id-9 div.sk-item::before, #sk-container-id-9 div.sk-parallel-item::before {content: \"\";position: absolute;border-left: 1px solid gray;box-sizing: border-box;top: 0;bottom: 0;left: 50%;z-index: -1;}#sk-container-id-9 div.sk-parallel-item {display: flex;flex-direction: column;z-index: 1;position: relative;background-color: white;}#sk-container-id-9 div.sk-parallel-item:first-child::after {align-self: flex-end;width: 50%;}#sk-container-id-9 div.sk-parallel-item:last-child::after {align-self: flex-start;width: 50%;}#sk-container-id-9 div.sk-parallel-item:only-child::after {width: 0;}#sk-container-id-9 div.sk-dashed-wrapped {border: 1px dashed gray;margin: 0 0.4em 0.5em 0.4em;box-sizing: border-box;padding-bottom: 0.4em;background-color: white;}#sk-container-id-9 div.sk-label label {font-family: monospace;font-weight: bold;display: inline-block;line-height: 1.2em;}#sk-container-id-9 div.sk-label-container {text-align: center;}#sk-container-id-9 div.sk-container {/* jupyter's `normalize.less` sets `[hidden] { display: none; }` but bootstrap.min.css set `[hidden] { display: none !important; }` so we also need the `!important` here to be able to override the default hidden behavior on the sphinx rendered scikit-learn.org. See: https://github.com/scikit-learn/scikit-learn/issues/21755 */display: inline-block !important;position: relative;}#sk-container-id-9 div.sk-text-repr-fallback {display: none;}</style><div id=\"sk-container-id-9\" class=\"sk-top-container\"><div class=\"sk-text-repr-fallback\"><pre>LinearSVC()</pre><b>In a Jupyter environment, please rerun this cell to show the HTML representation or trust the notebook. <br />On GitHub, the HTML representation is unable to render, please try loading this page with nbviewer.org.</b></div><div class=\"sk-container\" hidden><div class=\"sk-item\"><div class=\"sk-estimator sk-toggleable\"><input class=\"sk-toggleable__control sk-hidden--visually\" id=\"sk-estimator-id-9\" type=\"checkbox\" checked><label for=\"sk-estimator-id-9\" class=\"sk-toggleable__label sk-toggleable__label-arrow\">LinearSVC</label><div class=\"sk-toggleable__content\"><pre>LinearSVC()</pre></div></div></div></div></div>"
      ],
      "text/plain": [
       "LinearSVC()"
      ]
     },
     "execution_count": 23,
     "metadata": {},
     "output_type": "execute_result"
    }
   ],
   "source": [
    "# 스케일링 적용데이터 다시 학습 \n",
    "knn_model.fit(X_train_scale, y_train)\n",
    "logi_model.fit(X_train_scale, y_train)\n",
    "svm_model.fit(X_train_scale, y_train)"
   ]
  },
  {
   "cell_type": "code",
   "execution_count": 25,
   "id": "36ed4b31",
   "metadata": {
    "ExecuteTime": {
     "end_time": "2023-09-06T02:18:06.704424Z",
     "start_time": "2023-09-06T02:18:03.403450Z"
    }
   },
   "outputs": [
    {
     "name": "stdout",
     "output_type": "stream",
     "text": [
      "KNN : 0.9639682539682539\n",
      "Logistic : 0.9165079365079365\n",
      "SVM : 0.908015873015873\n"
     ]
    }
   ],
   "source": [
    "print('KNN :', knn_model.score(X_test_scale, y_test))\n",
    "print('Logistic :', logi_model.score(X_test_scale, y_test))\n",
    "print('SVM :',svm_model.score(X_test_scale, y_test))"
   ]
  },
  {
   "cell_type": "markdown",
   "id": "b8c223b2",
   "metadata": {},
   "source": [
    "### 분류평가지표 \n",
    "- 회귀 : 오차를 기반으로하는 MSE, R2score\n",
    "- 분류 : 맞춘 개수를 기반으로 평가지표 적용\n",
    "    1. 정확도(Accuracy) : 전체 데이터에서 정확히 맞춘 비율\n",
    "    2. 재현율(Recall) : 실제 양성중에서 정확히 맞춘 비율\n",
    "    3. 정밀도(Precision) : 모델이 예측한 양성중에서 정확히 맞춘 비율 \n",
    "    4. F1-score : 재현율과 정밀도의 조화평균\n",
    "- SVM : 초평면(결정경계)을 기준으로 소프트벡터(가장 가까운 데이터)의 마진(초평면과의 거리)이 클수록 좋은 결정경계"
   ]
  },
  {
   "cell_type": "code",
   "execution_count": 28,
   "id": "14f29594",
   "metadata": {
    "ExecuteTime": {
     "end_time": "2023-09-06T02:42:20.633777Z",
     "start_time": "2023-09-06T02:42:20.598673Z"
    }
   },
   "outputs": [],
   "source": [
    "from sklearn.metrics import confusion_matrix\n",
    "pre = logi_model.predict(X_test_scale)"
   ]
  },
  {
   "cell_type": "code",
   "execution_count": 29,
   "id": "5d696576",
   "metadata": {
    "ExecuteTime": {
     "end_time": "2023-09-06T02:43:18.154830Z",
     "start_time": "2023-09-06T02:43:18.146022Z"
    }
   },
   "outputs": [
    {
     "data": {
      "text/plain": [
       "array([[1175,    0,    1,    2,    1,   13,   12,    1,    6,    3],\n",
       "       [   0, 1325,    4,    5,    1,    6,    3,    8,    9,    1],\n",
       "       [   8,   18, 1076,   20,   11,   11,   12,   22,   30,    5],\n",
       "       [   3,    6,   28, 1160,    1,   45,    5,   13,   15,   11],\n",
       "       [   4,    5,   13,    1, 1178,    0,   12,    8,   10,   45],\n",
       "       [  13,    4,   10,   48,   14, 1009,   27,    8,   29,    6],\n",
       "       [  14,    4,    9,    0,   11,   18, 1166,    1,    4,    0],\n",
       "       [   3,    5,   21,    7,    7,    2,    2, 1221,    1,   44],\n",
       "       [  16,   24,   17,   36,   11,   36,    9,    4, 1077,   20],\n",
       "       [   6,    5,    2,   12,   36,   11,    0,   44,   13, 1161]])"
      ]
     },
     "execution_count": 29,
     "metadata": {},
     "output_type": "execute_result"
    }
   ],
   "source": [
    "# confusion_matrix(실제정답, 예측값)\n",
    "confusion_matrix(y_test, pre)"
   ]
  },
  {
   "cell_type": "code",
   "execution_count": 30,
   "id": "5c585d2b",
   "metadata": {
    "ExecuteTime": {
     "end_time": "2023-09-06T02:46:53.486523Z",
     "start_time": "2023-09-06T02:46:53.483268Z"
    }
   },
   "outputs": [],
   "source": [
    "# 손글씨 데이터는 (0 ~ 9 : 10) 10 * 10 의 오차행렬도로 계산하는게 쉽지 않음 \n",
    "# report 형태로 확인 \n",
    "\n",
    "from sklearn.metrics import classification_report"
   ]
  },
  {
   "cell_type": "code",
   "execution_count": 45,
   "id": "db2a2119",
   "metadata": {
    "ExecuteTime": {
     "end_time": "2023-09-06T03:37:08.541346Z",
     "start_time": "2023-09-06T03:37:08.462653Z"
    }
   },
   "outputs": [
    {
     "name": "stdout",
     "output_type": "stream",
     "text": [
      "              precision    recall  f1-score   support\n",
      "\n",
      "           0       0.95      0.97      0.96      1214\n",
      "           1       0.95      0.97      0.96      1362\n",
      "           2       0.91      0.89      0.90      1213\n",
      "           3       0.90      0.90      0.90      1287\n",
      "           4       0.93      0.92      0.93      1276\n",
      "           5       0.88      0.86      0.87      1168\n",
      "           6       0.93      0.95      0.94      1227\n",
      "           7       0.92      0.93      0.92      1313\n",
      "           8       0.90      0.86      0.88      1250\n",
      "           9       0.90      0.90      0.90      1290\n",
      "\n",
      "    accuracy                           0.92     12600\n",
      "   macro avg       0.92      0.92      0.92     12600\n",
      "weighted avg       0.92      0.92      0.92     12600\n",
      "\n"
     ]
    }
   ],
   "source": [
    "pre = logi_model.predict(X_test_scale)\n",
    "print(classification_report(y_test, pre))\n",
    "\n",
    "# support : 데이터 갯수 \n",
    "# accuracy : 현재 내 모델이 몇 92%의 정확도로 예측하고 있는지, 각 숫자(0~9)가 나올 확률은 모두 다름 \n",
    "# f1-score : 정밀도와 재현율을 고려한 수치(조화평균)로 \n",
    "#            f1-score가 높다면 두 분류지표(정밀도, 재현율)도 높다.\n",
    "# macro avg : 재현율, 정밀도, f1-socre를 구해서 각각 평균을 낸 것\n",
    "#             현재 모델을 사용해서 분류할때 갖 클래스(숫자)에 대해 얼마나 평균적으로 잘 동작하는지 알고싶을때 사용하는 수치 \n",
    "\n",
    "# weighted avg : 가중평균, 개별치(0~9) 각각의 중요도, 빈도(영향)에 따라 가중치를 곱해서 구해지는 평균 값 "
   ]
  },
  {
   "cell_type": "markdown",
   "id": "e4a8276e",
   "metadata": {},
   "source": [
    "### 예측하기 \n"
   ]
  },
  {
   "cell_type": "code",
   "execution_count": 34,
   "id": "2d4c18a8",
   "metadata": {
    "ExecuteTime": {
     "end_time": "2023-09-06T03:10:55.279176Z",
     "start_time": "2023-09-06T03:10:55.276671Z"
    }
   },
   "outputs": [],
   "source": [
    "img10 = X_test_scale[10] # 10번째 데이터"
   ]
  },
  {
   "cell_type": "code",
   "execution_count": 36,
   "id": "6338f30d",
   "metadata": {
    "ExecuteTime": {
     "end_time": "2023-09-06T03:11:15.469950Z",
     "start_time": "2023-09-06T03:11:15.465855Z"
    }
   },
   "outputs": [
    {
     "data": {
      "text/plain": [
       "array([2])"
      ]
     },
     "execution_count": 36,
     "metadata": {},
     "output_type": "execute_result"
    }
   ],
   "source": [
    "logi_model.predict([img10])"
   ]
  },
  {
   "cell_type": "code",
   "execution_count": 37,
   "id": "960ded34",
   "metadata": {
    "ExecuteTime": {
     "end_time": "2023-09-06T03:11:36.919936Z",
     "start_time": "2023-09-06T03:11:36.915605Z"
    }
   },
   "outputs": [
    {
     "data": {
      "text/plain": [
       "array([2])"
      ]
     },
     "execution_count": 37,
     "metadata": {},
     "output_type": "execute_result"
    }
   ],
   "source": [
    "svm_model.predict([img10])"
   ]
  },
  {
   "cell_type": "code",
   "execution_count": 38,
   "id": "8767a6bd",
   "metadata": {
    "ExecuteTime": {
     "end_time": "2023-09-06T03:11:55.156331Z",
     "start_time": "2023-09-06T03:11:55.152646Z"
    }
   },
   "outputs": [
    {
     "data": {
      "text/plain": [
       "2"
      ]
     },
     "execution_count": 38,
     "metadata": {},
     "output_type": "execute_result"
    }
   ],
   "source": [
    "# 실제 정답 확인 \n",
    "y_test.iloc[10]"
   ]
  },
  {
   "cell_type": "code",
   "execution_count": 39,
   "id": "7d2a7b86",
   "metadata": {
    "ExecuteTime": {
     "end_time": "2023-09-06T03:18:01.822925Z",
     "start_time": "2023-09-06T03:18:01.816507Z"
    }
   },
   "outputs": [
    {
     "data": {
      "text/plain": [
       "array([[3.30584853e-11, 9.93596707e-01, 9.35889659e-06, 4.36457310e-03,\n",
       "        4.97593079e-07, 5.53871759e-05, 3.80058036e-07, 3.54693466e-04,\n",
       "        2.10842613e-04, 1.40756035e-03]])"
      ]
     },
     "execution_count": 39,
     "metadata": {},
     "output_type": "execute_result"
    }
   ],
   "source": [
    "logi_model.predict_proba(X_test_scale[20:21])"
   ]
  },
  {
   "cell_type": "code",
   "execution_count": 44,
   "id": "94b3a1d5",
   "metadata": {
    "ExecuteTime": {
     "end_time": "2023-09-06T03:19:12.485688Z",
     "start_time": "2023-09-06T03:19:12.400967Z"
    }
   },
   "outputs": [
    {
     "data": {
      "image/png": "[encoded data removed]",
      "text/plain": [
       "<Figure size 640x480 with 1 Axes>"
      ]
     },
     "metadata": {},
     "output_type": "display_data"
    }
   ],
   "source": [
    "img20 = X_test.iloc[20]\n",
    "plt.imshow(img20.values.reshape(28,28), cmap='gray')\n",
    "plt.show()"
   ]
  },
  {
   "cell_type": "markdown",
   "id": "8386aece",
   "metadata": {},
   "source": [
    "### ROC 곡선 \n",
    "- 임계값을 0 ~ 1까지 변화시켜가면서 \n",
    "- x축 : 가짜 양성비율(FPR), y축 : 진짜 양성비율(TPR)을 표시한 곡선\n",
    "\n",
    "- 임계값 변환에 따라 음성/양성 분류여북 달라짐, ROC 곡선도 달라짐 \n",
    "- ROC 곡선 아래 면적 : AUC(Area Under the Curve)\n",
    "- AUC 값이 1에 가까울수록 분류모델의 선능이 좋다고 평가 "
   ]
  },
  {
   "cell_type": "code",
   "execution_count": null,
   "id": "63cc8564",
   "metadata": {},
   "outputs": [],
   "source": []
  },
  {
   "cell_type": "code",
   "execution_count": null,
   "id": "6d502399",
   "metadata": {},
   "outputs": [],
   "source": []
  }
 ],
 "metadata": {
  "kernelspec": {
   "display_name": "Python 3 (ipykernel)",
   "language": "python",
   "name": "python3"
  },
  "language_info": {
   "codemirror_mode": {
    "name": "ipython",
    "version": 3
   },
   "file_extension": ".py",
   "mimetype": "text/x-python",
   "name": "python",
   "nbconvert_exporter": "python",
   "pygments_lexer": "ipython3",
   "version": "3.11.3"
  },
  "toc": {
   "base_numbering": 1,
   "nav_menu": {},
   "number_sections": true,
   "sideBar": true,
   "skip_h1_title": false,
   "title_cell": "Table of Contents",
   "title_sidebar": "Contents",
   "toc_cell": false,
   "toc_position": {
    "height": "calc(100% - 180px)",
    "left": "10px",
    "top": "150px",
    "width": "165px"
   },
   "toc_section_display": true,
   "toc_window_display": true
  }
 },
 "nbformat": 4,
 "nbformat_minor": 5
}
