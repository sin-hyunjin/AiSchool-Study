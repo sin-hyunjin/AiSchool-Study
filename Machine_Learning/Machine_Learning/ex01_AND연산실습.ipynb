{
 "cells": [
  {
   "cell_type": "markdown",
   "id": "f3c75d32",
   "metadata": {},
   "source": [
    "# 문제정의\n",
    "- AND 연산 \n",
    "- 훈련데이터와 테스트 데이터 이해하기\n",
    "- AND 연산의 결과를 도출하는 머신러닝 모델 학습하고 이해하기 "
   ]
  },
  {
   "cell_type": "markdown",
   "id": "4c5a78fb",
   "metadata": {},
   "source": [
    "# 데이터 만들기\n"
   ]
  },
  {
   "cell_type": "code",
   "execution_count": 84,
   "id": "076cb038",
   "metadata": {
    "ExecuteTime": {
     "end_time": "2023-08-22T00:57:19.446300Z",
     "start_time": "2023-08-22T00:57:19.443714Z"
    }
   },
   "outputs": [],
   "source": [
    "# 필요한 도구 불러오기 \n",
    "import numpy as np\n",
    "import pandas as pd"
   ]
  },
  {
   "cell_type": "code",
   "execution_count": 85,
   "id": "ef910cbf",
   "metadata": {
    "ExecuteTime": {
     "end_time": "2023-08-22T00:57:19.456290Z",
     "start_time": "2023-08-22T00:57:19.448447Z"
    },
    "scrolled": true
   },
   "outputs": [
    {
     "data": {
      "text/html": [
       "<div>\n",
       "<style scoped>\n",
       "    .dataframe tbody tr th:only-of-type {\n",
       "        vertical-align: middle;\n",
       "    }\n",
       "\n",
       "    .dataframe tbody tr th {\n",
       "        vertical-align: top;\n",
       "    }\n",
       "\n",
       "    .dataframe thead th {\n",
       "        text-align: right;\n",
       "    }\n",
       "</style>\n",
       "<table border=\"1\" class=\"dataframe\">\n",
       "  <thead>\n",
       "    <tr style=\"text-align: right;\">\n",
       "      <th></th>\n",
       "      <th>A</th>\n",
       "      <th>B</th>\n",
       "      <th>AandB</th>\n",
       "    </tr>\n",
       "  </thead>\n",
       "  <tbody>\n",
       "    <tr>\n",
       "      <th>0</th>\n",
       "      <td>0</td>\n",
       "      <td>0</td>\n",
       "      <td>0</td>\n",
       "    </tr>\n",
       "    <tr>\n",
       "      <th>1</th>\n",
       "      <td>0</td>\n",
       "      <td>1</td>\n",
       "      <td>0</td>\n",
       "    </tr>\n",
       "    <tr>\n",
       "      <th>2</th>\n",
       "      <td>1</td>\n",
       "      <td>0</td>\n",
       "      <td>0</td>\n",
       "    </tr>\n",
       "    <tr>\n",
       "      <th>3</th>\n",
       "      <td>1</td>\n",
       "      <td>1</td>\n",
       "      <td>1</td>\n",
       "    </tr>\n",
       "    <tr>\n",
       "      <th>4</th>\n",
       "      <td>1</td>\n",
       "      <td>0</td>\n",
       "      <td>0</td>\n",
       "    </tr>\n",
       "    <tr>\n",
       "      <th>5</th>\n",
       "      <td>0</td>\n",
       "      <td>0</td>\n",
       "      <td>0</td>\n",
       "    </tr>\n",
       "    <tr>\n",
       "      <th>6</th>\n",
       "      <td>1</td>\n",
       "      <td>1</td>\n",
       "      <td>1</td>\n",
       "    </tr>\n",
       "    <tr>\n",
       "      <th>7</th>\n",
       "      <td>0</td>\n",
       "      <td>1</td>\n",
       "      <td>0</td>\n",
       "    </tr>\n",
       "  </tbody>\n",
       "</table>\n",
       "</div>"
      ],
      "text/plain": [
       "   A  B  AandB\n",
       "0  0  0      0\n",
       "1  0  1      0\n",
       "2  1  0      0\n",
       "3  1  1      1\n",
       "4  1  0      0\n",
       "5  0  0      0\n",
       "6  1  1      1\n",
       "7  0  1      0"
      ]
     },
     "execution_count": 85,
     "metadata": {},
     "output_type": "execute_result"
    }
   ],
   "source": [
    "# 데이터프레임 형태로 만들기 \n",
    "# 행 : 8, 열 : 3\n",
    "dict = {\"A\" : [0, 0, 1, 1, 1, 0, 1, 0],\n",
    "        \"B\" : [0, 1, 0, 1, 0, 0, 1, 1],\n",
    "       \"AandB\" : [0, 0, 0, 1, 0, 0, 1, 0]}\n",
    "dataFrame = pd.DataFrame(dict)\n",
    "dataFrame"
   ]
  },
  {
   "cell_type": "markdown",
   "id": "e76aca5a",
   "metadata": {},
   "source": [
    "- 'A', 'B' : 문제데이터, 특성, feature, 독립변수, X(대문자), 속성\n",
    "- 'AandB' : 정답데이터, target, Label, 종속변수, y(소문자)"
   ]
  },
  {
   "cell_type": "markdown",
   "id": "0d822859",
   "metadata": {},
   "source": [
    "# 데이터 전처리 \n",
    "- 컬럼인덱싱으로 문제데이터(X)와 정답데이터(y)로 분리하기 \n",
    "- 문제를 전처리하기 위해서 문제와 정답을 분리한다"
   ]
  },
  {
   "cell_type": "code",
   "execution_count": 86,
   "id": "5a5671c5",
   "metadata": {
    "ExecuteTime": {
     "end_time": "2023-08-22T00:57:19.464952Z",
     "start_time": "2023-08-22T00:57:19.458291Z"
    }
   },
   "outputs": [
    {
     "data": {
      "text/plain": [
       "0    0\n",
       "1    0\n",
       "2    0\n",
       "3    1\n",
       "4    0\n",
       "5    0\n",
       "6    1\n",
       "7    0\n",
       "Name: AandB, dtype: int64"
      ]
     },
     "execution_count": 86,
     "metadata": {},
     "output_type": "execute_result"
    }
   ],
   "source": [
    "# 문제데이터\n",
    "dataFrame[[\"A\",\"B\"]]\n",
    "dataFrame.iloc[:,0:2]\n",
    "X = dataFrame.loc[:,['A','B']]\n",
    "\n",
    "# 정답데이터\n",
    "y = dataFrame[\"AandB\"]\n",
    "y\n"
   ]
  },
  {
   "cell_type": "markdown",
   "id": "afc26245",
   "metadata": {
    "ExecuteTime": {
     "end_time": "2023-08-21T03:28:11.866528Z",
     "start_time": "2023-08-21T03:28:11.861170Z"
    }
   },
   "source": [
    "## 학습을 위해 문제데이터를 훈련용 데이터와 테스트용 데이터로 분할\n",
    "- 훈련 ==> 학습용\n",
    "- 테스트 ==> 검증용"
   ]
  },
  {
   "cell_type": "code",
   "execution_count": 87,
   "id": "d8013a7c",
   "metadata": {
    "ExecuteTime": {
     "end_time": "2023-08-22T00:57:19.470757Z",
     "start_time": "2023-08-22T00:57:19.467773Z"
    }
   },
   "outputs": [],
   "source": [
    "# 훈련용과 테스트용 분할  (7:3으로 자주사용)\n",
    "# 훈련데이터 X,y: 0~5번까지 포함해서 행 슬라이싱\n",
    "# 테스트 데이터 X,y: 6~7번까지 포함해서 행 슬라이싱\n",
    "X_train = X.loc[:5, :] #훈련용 문제\n",
    "X_test =  X.loc[6:, :] #테스트용 문제\n",
    "y_train = y[:6] #훈련용 정답\n",
    "y_test = y[6:] #테스트용 정답 \n"
   ]
  },
  {
   "cell_type": "code",
   "execution_count": 88,
   "id": "ca138e5d",
   "metadata": {
    "ExecuteTime": {
     "end_time": "2023-08-22T00:57:19.475350Z",
     "start_time": "2023-08-22T00:57:19.471965Z"
    }
   },
   "outputs": [
    {
     "name": "stdout",
     "output_type": "stream",
     "text": [
      "훈련용 문제 : (6, 2)\n",
      "검증용 문제 : (2, 2)\n",
      "훈련용 정답 : (6,)\n",
      "검증용 정답 : (2,)\n"
     ]
    }
   ],
   "source": [
    "# 데이터 크기 확인 -> .shape \n",
    "print(\"훈련용 문제 :\",X_train.shape)\n",
    "print(\"검증용 문제 :\",X_test.shape)\n",
    "print(\"훈련용 정답 :\",y_train.shape)\n",
    "print(\"검증용 정답 :\",y_test.shape)"
   ]
  },
  {
   "cell_type": "markdown",
   "id": "575c4c25",
   "metadata": {},
   "source": [
    "- 전처리 다음단계가 탐색적 데이터분석(데이터 시각화 확인) 이지만 데이터가 간략하기 때문에 생략"
   ]
  },
  {
   "cell_type": "markdown",
   "id": "db0b2999",
   "metadata": {},
   "source": [
    "# 머신러닝 모델 학습하기\n"
   ]
  },
  {
   "cell_type": "markdown",
   "id": "f7d6c307",
   "metadata": {},
   "source": [
    "## 학습하기 위한 머신러닝 모델 불러오기"
   ]
  },
  {
   "cell_type": "code",
   "execution_count": 89,
   "id": "030e5938",
   "metadata": {
    "ExecuteTime": {
     "end_time": "2023-08-22T00:57:19.479272Z",
     "start_time": "2023-08-22T00:57:19.476933Z"
    }
   },
   "outputs": [],
   "source": [
    "#pip install scikit-learn"
   ]
  },
  {
   "cell_type": "code",
   "execution_count": 90,
   "id": "42bd4453",
   "metadata": {
    "ExecuteTime": {
     "end_time": "2023-08-22T00:57:19.483713Z",
     "start_time": "2023-08-22T00:57:19.481633Z"
    }
   },
   "outputs": [],
   "source": [
    "# scikit-learn 머신러닝용 패키지 라이브러리 \n",
    "from sklearn.neighbors import KNeighborsClassifier # KNN 분류모델 "
   ]
  },
  {
   "cell_type": "markdown",
   "id": "3b53c59b",
   "metadata": {},
   "source": [
    "## 모델 생성 및 하이퍼파라미터 정의\n"
   ]
  },
  {
   "cell_type": "code",
   "execution_count": 91,
   "id": "ae8ebf3c",
   "metadata": {
    "ExecuteTime": {
     "end_time": "2023-08-22T00:57:19.486563Z",
     "start_time": "2023-08-22T00:57:19.484720Z"
    }
   },
   "outputs": [],
   "source": [
    "# 클래스이므로 소괄호안에서 shift + tab --> 클래스 내부에서 사용할 수 있는 속성 확인\n",
    "Knn_model = KNeighborsClassifier(n_neighbors=1)\n",
    "# n_neighbors : 하이퍼 파라미터 (사용자가 입력하는 매개변수)\n",
    "# 하이퍼파라미터에 따라 모델의 학습결과가 달라짐 \n",
    "# 가장 까가운 이웃 1개의 실제답만 확인하겠음 --> 가장 가까운 이웃들의 답을 확인하고 그 답이 내것인것처럼 사용하겠다.\n"
   ]
  },
  {
   "cell_type": "markdown",
   "id": "6e5f5ae4",
   "metadata": {},
   "source": [
    "## 모델 학습"
   ]
  },
  {
   "cell_type": "code",
   "execution_count": 99,
   "id": "f76ec94a",
   "metadata": {
    "ExecuteTime": {
     "end_time": "2023-08-22T00:57:29.622932Z",
     "start_time": "2023-08-22T00:57:29.616579Z"
    }
   },
   "outputs": [
    {
     "data": {
      "text/html": [
       "<style>#sk-container-id-25 {color: black;background-color: white;}#sk-container-id-25 pre{padding: 0;}#sk-container-id-25 div.sk-toggleable {background-color: white;}#sk-container-id-25 label.sk-toggleable__label {cursor: pointer;display: block;width: 100%;margin-bottom: 0;padding: 0.3em;box-sizing: border-box;text-align: center;}#sk-container-id-25 label.sk-toggleable__label-arrow:before {content: \"▸\";float: left;margin-right: 0.25em;color: #696969;}#sk-container-id-25 label.sk-toggleable__label-arrow:hover:before {color: black;}#sk-container-id-25 div.sk-estimator:hover label.sk-toggleable__label-arrow:before {color: black;}#sk-container-id-25 div.sk-toggleable__content {max-height: 0;max-width: 0;overflow: hidden;text-align: left;background-color: #f0f8ff;}#sk-container-id-25 div.sk-toggleable__content pre {margin: 0.2em;color: black;border-radius: 0.25em;background-color: #f0f8ff;}#sk-container-id-25 input.sk-toggleable__control:checked~div.sk-toggleable__content {max-height: 200px;max-width: 100%;overflow: auto;}#sk-container-id-25 input.sk-toggleable__control:checked~label.sk-toggleable__label-arrow:before {content: \"▾\";}#sk-container-id-25 div.sk-estimator input.sk-toggleable__control:checked~label.sk-toggleable__label {background-color: #d4ebff;}#sk-container-id-25 div.sk-label input.sk-toggleable__control:checked~label.sk-toggleable__label {background-color: #d4ebff;}#sk-container-id-25 input.sk-hidden--visually {border: 0;clip: rect(1px 1px 1px 1px);clip: rect(1px, 1px, 1px, 1px);height: 1px;margin: -1px;overflow: hidden;padding: 0;position: absolute;width: 1px;}#sk-container-id-25 div.sk-estimator {font-family: monospace;background-color: #f0f8ff;border: 1px dotted black;border-radius: 0.25em;box-sizing: border-box;margin-bottom: 0.5em;}#sk-container-id-25 div.sk-estimator:hover {background-color: #d4ebff;}#sk-container-id-25 div.sk-parallel-item::after {content: \"\";width: 100%;border-bottom: 1px solid gray;flex-grow: 1;}#sk-container-id-25 div.sk-label:hover label.sk-toggleable__label {background-color: #d4ebff;}#sk-container-id-25 div.sk-serial::before {content: \"\";position: absolute;border-left: 1px solid gray;box-sizing: border-box;top: 0;bottom: 0;left: 50%;z-index: 0;}#sk-container-id-25 div.sk-serial {display: flex;flex-direction: column;align-items: center;background-color: white;padding-right: 0.2em;padding-left: 0.2em;position: relative;}#sk-container-id-25 div.sk-item {position: relative;z-index: 1;}#sk-container-id-25 div.sk-parallel {display: flex;align-items: stretch;justify-content: center;background-color: white;position: relative;}#sk-container-id-25 div.sk-item::before, #sk-container-id-25 div.sk-parallel-item::before {content: \"\";position: absolute;border-left: 1px solid gray;box-sizing: border-box;top: 0;bottom: 0;left: 50%;z-index: -1;}#sk-container-id-25 div.sk-parallel-item {display: flex;flex-direction: column;z-index: 1;position: relative;background-color: white;}#sk-container-id-25 div.sk-parallel-item:first-child::after {align-self: flex-end;width: 50%;}#sk-container-id-25 div.sk-parallel-item:last-child::after {align-self: flex-start;width: 50%;}#sk-container-id-25 div.sk-parallel-item:only-child::after {width: 0;}#sk-container-id-25 div.sk-dashed-wrapped {border: 1px dashed gray;margin: 0 0.4em 0.5em 0.4em;box-sizing: border-box;padding-bottom: 0.4em;background-color: white;}#sk-container-id-25 div.sk-label label {font-family: monospace;font-weight: bold;display: inline-block;line-height: 1.2em;}#sk-container-id-25 div.sk-label-container {text-align: center;}#sk-container-id-25 div.sk-container {/* jupyter's `normalize.less` sets `[hidden] { display: none; }` but bootstrap.min.css set `[hidden] { display: none !important; }` so we also need the `!important` here to be able to override the default hidden behavior on the sphinx rendered scikit-learn.org. See: https://github.com/scikit-learn/scikit-learn/issues/21755 */display: inline-block !important;position: relative;}#sk-container-id-25 div.sk-text-repr-fallback {display: none;}</style><div id=\"sk-container-id-25\" class=\"sk-top-container\"><div class=\"sk-text-repr-fallback\"><pre>KNeighborsClassifier(n_neighbors=1)</pre><b>In a Jupyter environment, please rerun this cell to show the HTML representation or trust the notebook. <br />On GitHub, the HTML representation is unable to render, please try loading this page with nbviewer.org.</b></div><div class=\"sk-container\" hidden><div class=\"sk-item\"><div class=\"sk-estimator sk-toggleable\"><input class=\"sk-toggleable__control sk-hidden--visually\" id=\"sk-estimator-id-25\" type=\"checkbox\" checked><label for=\"sk-estimator-id-25\" class=\"sk-toggleable__label sk-toggleable__label-arrow\">KNeighborsClassifier</label><div class=\"sk-toggleable__content\"><pre>KNeighborsClassifier(n_neighbors=1)</pre></div></div></div></div></div>"
      ],
      "text/plain": [
       "KNeighborsClassifier(n_neighbors=1)"
      ]
     },
     "execution_count": 99,
     "metadata": {},
     "output_type": "execute_result"
    }
   ],
   "source": [
    "# 모델 학습 --> fit()\n",
    "# 학습을 통해 데이터 패턴, 성향 파악해서 규칙을 생성\n",
    "#fit(훈련용문제, 훈련용정답)\n",
    "Knn_model.fit(X_train, y_train) #훈령용 데이터에 맞춰서 학습 (지도학습 - 문제, 답 )\n"
   ]
  },
  {
   "cell_type": "markdown",
   "id": "a4dda946",
   "metadata": {},
   "source": [
    "## AND 연산 예측\n"
   ]
  },
  {
   "cell_type": "code",
   "execution_count": 97,
   "id": "05db94fb",
   "metadata": {
    "ExecuteTime": {
     "end_time": "2023-08-22T00:57:24.449809Z",
     "start_time": "2023-08-22T00:57:24.444839Z"
    }
   },
   "outputs": [],
   "source": [
    "# predict(테스트용 문제)\n",
    "\n",
    "# and 연산예측\n",
    "# 0, 0 --> 0\n",
    "# 1, 1 --> 1\n",
    "# 0, 1 --> 0\n",
    "\n",
    "pre = Knn_model.predict(X_test) # 결과를 활용하기 위해 변수에 담기 "
   ]
  },
  {
   "cell_type": "code",
   "execution_count": 94,
   "id": "62db5d61",
   "metadata": {
    "ExecuteTime": {
     "end_time": "2023-08-22T00:57:19.502789Z",
     "start_time": "2023-08-22T00:57:19.500559Z"
    }
   },
   "outputs": [
    {
     "data": {
      "text/plain": [
       "array([1, 0])"
      ]
     },
     "execution_count": 94,
     "metadata": {},
     "output_type": "execute_result"
    }
   ],
   "source": [
    "pre"
   ]
  },
  {
   "cell_type": "markdown",
   "id": "6e8acc98",
   "metadata": {},
   "source": [
    "# 평가\n"
   ]
  },
  {
   "cell_type": "markdown",
   "id": "70f0811b",
   "metadata": {},
   "source": [
    "## 모델 평가하는 모듈 불러오기"
   ]
  },
  {
   "cell_type": "code",
   "execution_count": 95,
   "id": "cf7f1908",
   "metadata": {
    "ExecuteTime": {
     "end_time": "2023-08-22T00:57:19.505090Z",
     "start_time": "2023-08-22T00:57:19.503676Z"
    }
   },
   "outputs": [],
   "source": [
    "from sklearn.metrics import accuracy_score # 정확도 점수(모델의 성능 평가 지표 )"
   ]
  },
  {
   "cell_type": "code",
   "execution_count": 96,
   "id": "4b7512f6",
   "metadata": {
    "ExecuteTime": {
     "end_time": "2023-08-22T00:57:19.508956Z",
     "start_time": "2023-08-22T00:57:19.505877Z"
    }
   },
   "outputs": [
    {
     "data": {
      "text/plain": [
       "1.0"
      ]
     },
     "execution_count": 96,
     "metadata": {},
     "output_type": "execute_result"
    }
   ],
   "source": [
    "# 정확도 : 0 -> 0 정답\n",
    "#        1 -> 0 오류 \n",
    "# accureacy_score : KNN 모델이 가지고 있는 함수가 아니고 그냥 함수 자체적으로 역할, 0.0 ~ 1.0 값을 취함 \n",
    "# accuracy_score(실제 정답, 예측값)\n",
    "accuracy_score(y_test, pre) # 확률정보로 값을 표시  1.0 --> 100% 맞췄다는 의미 \n",
    "# 0.0에 가까울 수록 : 모델의 성능이 좋지 못함\n",
    "# 1.0에 가까울 수록 : 모델의 성능이 나름대로 괜찮음 "
   ]
  },
  {
   "cell_type": "code",
   "execution_count": null,
   "id": "713b61b7",
   "metadata": {},
   "outputs": [],
   "source": []
  },
  {
   "cell_type": "code",
   "execution_count": null,
   "id": "ddc20f00",
   "metadata": {},
   "outputs": [],
   "source": []
  },
  {
   "cell_type": "code",
   "execution_count": null,
   "id": "fe3908e2",
   "metadata": {},
   "outputs": [],
   "source": []
  },
  {
   "cell_type": "code",
   "execution_count": null,
   "id": "7ee4752f",
   "metadata": {},
   "outputs": [],
   "source": []
  },
  {
   "cell_type": "code",
   "execution_count": null,
   "id": "ea008b84",
   "metadata": {},
   "outputs": [],
   "source": []
  },
  {
   "cell_type": "code",
   "execution_count": null,
   "id": "333c5de1",
   "metadata": {},
   "outputs": [],
   "source": []
  },
  {
   "cell_type": "code",
   "execution_count": null,
   "id": "50d4300c",
   "metadata": {},
   "outputs": [],
   "source": []
  },
  {
   "cell_type": "code",
   "execution_count": null,
   "id": "5993da1c",
   "metadata": {},
   "outputs": [],
   "source": []
  },
  {
   "cell_type": "code",
   "execution_count": null,
   "id": "0fe1353d",
   "metadata": {},
   "outputs": [],
   "source": []
  },
  {
   "cell_type": "code",
   "execution_count": null,
   "id": "d89642f5",
   "metadata": {},
   "outputs": [],
   "source": []
  },
  {
   "cell_type": "code",
   "execution_count": null,
   "id": "0a082be4",
   "metadata": {},
   "outputs": [],
   "source": []
  },
  {
   "cell_type": "code",
   "execution_count": null,
   "id": "ed81365a",
   "metadata": {},
   "outputs": [],
   "source": []
  },
  {
   "cell_type": "code",
   "execution_count": null,
   "id": "c4ad56db",
   "metadata": {},
   "outputs": [],
   "source": []
  },
  {
   "cell_type": "code",
   "execution_count": null,
   "id": "0fb705bd",
   "metadata": {},
   "outputs": [],
   "source": []
  }
 ],
 "metadata": {
  "kernelspec": {
   "display_name": "Python 3 (ipykernel)",
   "language": "python",
   "name": "python3"
  },
  "language_info": {
   "codemirror_mode": {
    "name": "ipython",
    "version": 3
   },
   "file_extension": ".py",
   "mimetype": "text/x-python",
   "name": "python",
   "nbconvert_exporter": "python",
   "pygments_lexer": "ipython3",
   "version": "3.11.3"
  },
  "toc": {
   "base_numbering": 1,
   "nav_menu": {},
   "number_sections": true,
   "sideBar": true,
   "skip_h1_title": false,
   "title_cell": "Table of Contents",
   "title_sidebar": "Contents",
   "toc_cell": false,
   "toc_position": {
    "height": "calc(100% - 180px)",
    "left": "10px",
    "top": "150px",
    "width": "165px"
   },
   "toc_section_display": true,
   "toc_window_display": true
  },
  "vscode": {
   "interpreter": {
    "hash": "aee8b7b246df8f9039afb4144a1f6fd8d2ca17a180786b69acc140d282b71a49"
   }
  }
 },
 "nbformat": 4,
 "nbformat_minor": 5
}
