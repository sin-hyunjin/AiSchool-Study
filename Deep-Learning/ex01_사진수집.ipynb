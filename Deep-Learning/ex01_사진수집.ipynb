{
 "cells": [
  {
   "cell_type": "code",
   "execution_count": 1,
   "id": "44ae6b93",
   "metadata": {
    "ExecuteTime": {
     "end_time": "2023-09-15T07:44:10.081230Z",
     "start_time": "2023-09-15T07:44:09.707898Z"
    }
   },
   "outputs": [],
   "source": [
    "import pandas as pd\n",
    "from tqdm import tqdm\n",
    "import urllib.request as req "
   ]
  },
  {
   "cell_type": "code",
   "execution_count": 9,
   "id": "6aa7f8e7",
   "metadata": {
    "ExecuteTime": {
     "end_time": "2023-09-15T08:04:09.558123Z",
     "start_time": "2023-09-15T08:04:09.533111Z"
    }
   },
   "outputs": [
    {
     "data": {
      "text/html": [
       "<div>\n",
       "<style scoped>\n",
       "    .dataframe tbody tr th:only-of-type {\n",
       "        vertical-align: middle;\n",
       "    }\n",
       "\n",
       "    .dataframe tbody tr th {\n",
       "        vertical-align: top;\n",
       "    }\n",
       "\n",
       "    .dataframe thead th {\n",
       "        text-align: right;\n",
       "    }\n",
       "</style>\n",
       "<table border=\"1\" class=\"dataframe\">\n",
       "  <thead>\n",
       "    <tr style=\"text-align: right;\">\n",
       "      <th></th>\n",
       "      <th>0</th>\n",
       "    </tr>\n",
       "  </thead>\n",
       "  <tbody>\n",
       "    <tr>\n",
       "      <th>0</th>\n",
       "      <td>https://search.pstatic.net/common/?src=http%3A...</td>\n",
       "    </tr>\n",
       "    <tr>\n",
       "      <th>1</th>\n",
       "      <td>https://search.pstatic.net/sunny/?src=http%3A%...</td>\n",
       "    </tr>\n",
       "    <tr>\n",
       "      <th>2</th>\n",
       "      <td>https://search.pstatic.net/common/?src=http%3A...</td>\n",
       "    </tr>\n",
       "    <tr>\n",
       "      <th>3</th>\n",
       "      <td>https://search.pstatic.net/common/?src=http%3A...</td>\n",
       "    </tr>\n",
       "    <tr>\n",
       "      <th>4</th>\n",
       "      <td>https://search.pstatic.net/common/?src=http%3A...</td>\n",
       "    </tr>\n",
       "    <tr>\n",
       "      <th>...</th>\n",
       "      <td>...</td>\n",
       "    </tr>\n",
       "    <tr>\n",
       "      <th>411</th>\n",
       "      <td>R0lGODlhAQABAIAAAAAAAP///yH5BAEAAAAALAAAAAABAA...</td>\n",
       "    </tr>\n",
       "    <tr>\n",
       "      <th>412</th>\n",
       "      <td>data:image/gif;base64</td>\n",
       "    </tr>\n",
       "    <tr>\n",
       "      <th>413</th>\n",
       "      <td>R0lGODlhAQABAIAAAAAAAP///yH5BAEAAAAALAAAAAABAA...</td>\n",
       "    </tr>\n",
       "    <tr>\n",
       "      <th>414</th>\n",
       "      <td>data:image/gif;base64</td>\n",
       "    </tr>\n",
       "    <tr>\n",
       "      <th>415</th>\n",
       "      <td>R0lGODlhAQABAIAAAAAAAP///yH5BAEAAAAALAAAAAABAA...</td>\n",
       "    </tr>\n",
       "  </tbody>\n",
       "</table>\n",
       "<p>416 rows × 1 columns</p>\n",
       "</div>"
      ],
      "text/plain": [
       "                                                     0\n",
       "0    https://search.pstatic.net/common/?src=http%3A...\n",
       "1    https://search.pstatic.net/sunny/?src=http%3A%...\n",
       "2    https://search.pstatic.net/common/?src=http%3A...\n",
       "3    https://search.pstatic.net/common/?src=http%3A...\n",
       "4    https://search.pstatic.net/common/?src=http%3A...\n",
       "..                                                 ...\n",
       "411  R0lGODlhAQABAIAAAAAAAP///yH5BAEAAAAALAAAAAABAA...\n",
       "412                              data:image/gif;base64\n",
       "413  R0lGODlhAQABAIAAAAAAAP///yH5BAEAAAAALAAAAAABAA...\n",
       "414                              data:image/gif;base64\n",
       "415  R0lGODlhAQABAIAAAAAAAP///yH5BAEAAAAALAAAAAABAA...\n",
       "\n",
       "[416 rows x 1 columns]"
      ]
     },
     "execution_count": 9,
     "metadata": {},
     "output_type": "execute_result"
    }
   ],
   "source": [
    "data = pd.read_csv(\"./data/슈화.csv\", header=None).T\n",
    "data"
   ]
  },
  {
   "cell_type": "code",
   "execution_count": 10,
   "id": "ac4dfdb8",
   "metadata": {
    "ExecuteTime": {
     "end_time": "2023-09-15T08:05:14.976779Z",
     "start_time": "2023-09-15T08:04:12.080302Z"
    }
   },
   "outputs": [
    {
     "name": "stderr",
     "output_type": "stream",
     "text": [
      "284it [01:02,  4.52it/s]\n"
     ]
    }
   ],
   "source": [
    "for index, url in tqdm(enumerate(data[data[0].str.contains(\"http\")].values)) :\n",
    "    try :\n",
    "        filename = f'./data/슈화/슈화{index}.jpg'\n",
    "        req.urlretrieve(url[0],filename)\n",
    "    except :\n",
    "        continue"
   ]
  },
  {
   "cell_type": "code",
   "execution_count": 6,
   "id": "69cfc49f",
   "metadata": {
    "ExecuteTime": {
     "end_time": "2023-09-15T07:50:46.493477Z",
     "start_time": "2023-09-15T07:50:46.469144Z"
    }
   },
   "outputs": [],
   "source": [
    "data1 = pd.read_csv(\"./data/슈화.csv\", header=None)."
   ]
  },
  {
   "cell_type": "code",
   "execution_count": 7,
   "id": "b93e9298",
   "metadata": {
    "ExecuteTime": {
     "end_time": "2023-09-15T07:50:46.497170Z",
     "start_time": "2023-09-15T07:50:46.494540Z"
    }
   },
   "outputs": [],
   "source": [
    "# 크롤링 코드 \n",
    "# # 구글버전\n",
    "# let imgs = document.querySelectorAll(\".mJxzWe img\")\n",
    "# # 네이버 버전\n",
    "# let imgs = document.querySelectorAll(\".photo_tile img\")\n",
    "# let imgArrData = new Array();\n",
    "\n",
    "# for(i=0; i<imgs.length; i++){\n",
    "#     let s = imgs[i].src;\n",
    "#     if(s=='') s = imgs[i].getAttribute('data-src');\n",
    "#     imgArrData.push(s);\n",
    "# }\n",
    "\n",
    "# var blob = new Blob([imgArrData], {type: \"text/csv\"});\n",
    "# var url = window.URL.createObjectURL(blob);\n",
    "# var anchor = document.createElement(\"a\");\n",
    "# anchor.href = url;\n",
    "# anchor.download = \"demo.csv\";\n",
    "# anchor.click()"
   ]
  },
  {
   "cell_type": "code",
   "execution_count": null,
   "id": "60fafabb",
   "metadata": {},
   "outputs": [],
   "source": []
  },
  {
   "cell_type": "code",
   "execution_count": null,
   "id": "6e22263b",
   "metadata": {},
   "outputs": [],
   "source": []
  }
 ],
 "metadata": {
  "kernelspec": {
   "display_name": "Python 3 (ipykernel)",
   "language": "python",
   "name": "python3"
  },
  "language_info": {
   "codemirror_mode": {
    "name": "ipython",
    "version": 3
   },
   "file_extension": ".py",
   "mimetype": "text/x-python",
   "name": "python",
   "nbconvert_exporter": "python",
   "pygments_lexer": "ipython3",
   "version": "3.11.3"
  },
  "toc": {
   "base_numbering": 1,
   "nav_menu": {},
   "number_sections": true,
   "sideBar": true,
   "skip_h1_title": false,
   "title_cell": "Table of Contents",
   "title_sidebar": "Contents",
   "toc_cell": false,
   "toc_position": {},
   "toc_section_display": true,
   "toc_window_display": false
  }
 },
 "nbformat": 4,
 "nbformat_minor": 5
}
