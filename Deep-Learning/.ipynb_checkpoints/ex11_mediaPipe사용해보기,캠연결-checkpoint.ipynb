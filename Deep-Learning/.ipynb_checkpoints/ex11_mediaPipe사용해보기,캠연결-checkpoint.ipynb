{
 "cells": [
  {
   "cell_type": "markdown",
   "id": "4bcca053-5c9e-46d8-95fb-c3a3d894e001",
   "metadata": {},
   "source": [
    "### 캠연결하기"
   ]
  },
  {
   "cell_type": "code",
   "execution_count": 2,
   "id": "ad0b9396-361a-45d5-9ceb-08dd0231ae83",
   "metadata": {},
   "outputs": [],
   "source": [
    "# 필요 라이브러리 불러오기\n",
    "import cv2\n",
    "import mediapipe as mp"
   ]
  },
  {
   "cell_type": "code",
   "execution_count": null,
   "id": "20c2bc8b-49d1-4533-9d16-89bb9afb8d7b",
   "metadata": {},
   "outputs": [],
   "source": []
  },
  {
   "cell_type": "code",
   "execution_count": null,
   "id": "abede8db-74f6-4d23-a7bc-d8da330ced37",
   "metadata": {},
   "outputs": [],
   "source": []
  },
  {
   "cell_type": "code",
   "execution_count": null,
   "id": "e4cf127e-5fa3-42ad-825a-165f38fd0d81",
   "metadata": {},
   "outputs": [],
   "source": [
    "# 카메라를 연결해서 동영상 틀어보기~\n",
    "cap = cv2.VideoCapture(0)\n",
    "# 여러 개의 카메라가 연결되어 있을 때 0번째 카메라 의미\n",
    "\n",
    "# 동영상은 사진이 엄청 빠르게 나오는 것!\n",
    "# 일반적인 동영상은 1초당 30장 출력 (일반적인 사람은  10-12장 정도 인식)\n",
    "\n",
    "while cap.isOpened():\n",
    "    ret, img = cap.read()\n",
    "    # ret: 사진데이터를 가져오면 True, 가져오지 못하면 False\n",
    "    # img: 사진데이터가 담김\n",
    "\n",
    "    if not ret:     # 사진을 정상적으로 읽지 못하면 다음 루프 반복을 진행\n",
    "        continue\n",
    "    cv2.imshow('Video', img)   #우리가 가져온 img를 'Video'라는 창에 띄워줄게\n",
    "\n",
    "    # 키보드2을 누르면 창을 닫아주는 코드\n",
    "    if cv2.waitKey(30) == 49: #49: 아스키코드(키보드의 1)\n",
    "        cap.release() # 카메라 연결 해제\n",
    "        cv2.destroyAllWindows()  # 윈도우창 모두 닫기\n",
    "        break\n",
    " "
   ]
  },
  {
   "cell_type": "code",
   "execution_count": null,
   "id": "d664c851-92ef-4d57-8d25-6f179daa8b98",
   "metadata": {},
   "outputs": [],
   "source": [
    "# 동영상과 mediapipe 연결하기!!\n",
    "\n",
    "# 손을 찾아주는 모듈\n",
    "mp_hands = mp.solutions.hands\n",
    "# 특징점을 연결 관리해주는 모듈 가져오기\n",
    "mp_drawing = mp.solutions.drawing_utils\n",
    "\n",
    "hands = mp_hands.Hands(max_num_hands = 3,\n",
    "               min_detection_confidence= 0.5, # 정확하게 손을 찾아주는 역할 (0.5: 신뢰도)\n",
    "               min_tracking_confidence= 0.5) # 손의 위치 (범위)을 찾아주는 역할\n",
    "\n",
    "cap = cv2.VideoCapture(0) # 카메라 연결 초기화\n",
    "\n",
    "while cap.isOpened(): # 카메라가 연결되어있으면 무한루프\n",
    "    ret, img = cap.read() # 카메라 프레임 읽어오기\n",
    "    if not ret:\n",
    "        continue\n",
    "    img = cv2.flip(img,1) # 좌우반전\n",
    "    result = hands.process(img) # hands 모델을 사용해서 손의 특징점을 찾겠다!\n",
    "\n",
    "    # 손을 검출했을때 손의 위치와 특징점을 찍어주는 코드\n",
    "    if result.multi_hand_landmarks is not None: # 손이 검출된다면\n",
    "        for res in result.multi_hand_landmarks: # 각 손에대한 반복 진행\n",
    "            mp_drawing.draw_landmarks(img,res, mp_hands.HAND_CONNECTIONS)\n",
    "            # 검출된 손의 특징점과 손목부터 끝까지의 연결선을 화면에 그려주세요\n",
    "\n",
    "    cv2.imshow('img',img) # 화면에 이미지를 표시\n",
    "    if cv2.waitKey(1) == 49: # 키보드 1\n",
    "        cap.release()\n",
    "        cv2.destroyAllWindows()\n",
    "        break"
   ]
  },
  {
   "cell_type": "code",
   "execution_count": null,
   "id": "05d02c3f-ed7b-4f27-8513-1af74201b5c9",
   "metadata": {},
   "outputs": [],
   "source": []
  },
  {
   "cell_type": "code",
   "execution_count": null,
   "id": "91ff0bf5-ec0e-412b-af0f-3f580af299f4",
   "metadata": {},
   "outputs": [],
   "source": []
  },
  {
   "cell_type": "code",
   "execution_count": null,
   "id": "27238240-9780-441d-8baf-4deb18f45974",
   "metadata": {},
   "outputs": [],
   "source": []
  },
  {
   "cell_type": "code",
   "execution_count": null,
   "id": "f9117b9c-12fb-4c02-a687-91913ea1582d",
   "metadata": {},
   "outputs": [],
   "source": []
  },
  {
   "cell_type": "code",
   "execution_count": null,
   "id": "e8d817af-1e3e-4571-967f-7dd1ac74cbb7",
   "metadata": {},
   "outputs": [],
   "source": []
  },
  {
   "cell_type": "code",
   "execution_count": null,
   "id": "77dd3c0d-47d2-4e49-a4aa-5f306a34e4d6",
   "metadata": {},
   "outputs": [],
   "source": []
  },
  {
   "cell_type": "code",
   "execution_count": null,
   "id": "b8a7240b-5df8-4425-b2dc-e45dd3529e49",
   "metadata": {},
   "outputs": [],
   "source": []
  },
  {
   "cell_type": "code",
   "execution_count": null,
   "id": "d38249f9-9e62-4b76-b00b-fecfe26fb0cf",
   "metadata": {},
   "outputs": [],
   "source": []
  },
  {
   "cell_type": "code",
   "execution_count": null,
   "id": "d9e09b97-cfb6-432f-a180-ccae07a12fc8",
   "metadata": {},
   "outputs": [],
   "source": []
  }
 ],
 "metadata": {
  "kernelspec": {
   "display_name": "Python 3 (ipykernel)",
   "language": "python",
   "name": "python3"
  },
  "language_info": {
   "codemirror_mode": {
    "name": "ipython",
    "version": 3
   },
   "file_extension": ".py",
   "mimetype": "text/x-python",
   "name": "python",
   "nbconvert_exporter": "python",
   "pygments_lexer": "ipython3",
   "version": "3.8.18"
  }
 },
 "nbformat": 4,
 "nbformat_minor": 5
}
